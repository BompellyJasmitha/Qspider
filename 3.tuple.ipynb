{
 "cells": [
  {
   "cell_type": "markdown",
   "metadata": {},
   "source": [
    "# TUPLE :\n",
    "\n",
    "enclosed and seperated with ' ( , ) ' /  directly seperated with ' ,  '\n",
    "\n",
    "It is a collection of HOMOGENEOUS and HETEROGENEOUS elements"
   ]
  },
  {
   "cell_type": "markdown",
   "metadata": {},
   "source": [
    "syntax:\n",
    "\n",
    "\n",
    "          varname=(obj1,obj2,obj3,......objn)\n",
    "                     \n",
    "                     or\n",
    "\n",
    "          varname=(obj1,obj2,obj3,...\n",
    "                    obj12,obj13,....\n",
    "                    objn)\n",
    "\n",
    "                    or\n",
    "          varname=obj1,obj2,obj3,...objn\n",
    "                \n",
    "                   or\n",
    "\n",
    "          varname=obj1,obj2,obj3,.....\n",
    "                   obj12,obj13.....\n",
    "                   objn\n",
    "\n",
    "                   or\n",
    "\n",
    "           varname=(obj1,) or obj1,\n",
    "\n",
    "\n"
   ]
  },
  {
   "cell_type": "markdown",
   "metadata": {},
   "source": [
    "~     Tuple stores objects in a sequence  \n",
    "~     Tuple supports indexing "
   ]
  },
  {
   "cell_type": "markdown",
   "metadata": {},
   "source": [
    "1.syntax:\n",
    "\n",
    "\n",
    "          varname=(obj1,obj2,obj3,......objn)"
   ]
  },
  {
   "cell_type": "code",
   "execution_count": 1,
   "metadata": {},
   "outputs": [
    {
     "name": "stdout",
     "output_type": "stream",
     "text": [
      "(1, 2, 3) <class 'tuple'>\n"
     ]
    }
   ],
   "source": [
    "# Example: 1\n",
    "\n",
    "t=(1,2,3)\n",
    "print(t,type(t))"
   ]
  },
  {
   "cell_type": "markdown",
   "metadata": {},
   "source": [
    "2.syntax:\n",
    "         \n",
    "           varname=(obj1,obj2,obj3,...\n",
    "                    obj12,obj13,....\n",
    "                    objn)\n"
   ]
  },
  {
   "cell_type": "code",
   "execution_count": 15,
   "metadata": {},
   "outputs": [
    {
     "name": "stdout",
     "output_type": "stream",
     "text": [
      "9\n",
      "9\n"
     ]
    }
   ],
   "source": [
    "# Example: 2\n",
    "t=(1,2,3,4,\n",
    "   5,67,78,9,\n",
    "   11,12,23,34)   #pint 9 usinr +ve / -ve indexing \n",
    "print(t[7])\n",
    "print(t[-5])"
   ]
  },
  {
   "cell_type": "code",
   "execution_count": 11,
   "metadata": {},
   "outputs": [
    {
     "name": "stdout",
     "output_type": "stream",
     "text": [
      "u\n",
      "(7+1j)\n",
      "2.2\n"
     ]
    }
   ],
   "source": [
    "# Example: 3\n",
    "g=(1,\"w\",\"u\",\n",
    "'fog',\"sunny\",2.2,7+1j,\n",
    "700,89,\"rat\")\n",
    "print(g[2])\n",
    "print(g[6])\n",
    "print(g[-5])"
   ]
  },
  {
   "cell_type": "markdown",
   "metadata": {},
   "source": [
    "3.syntax: \n",
    "         \n",
    "      varname=obj1,obj2,obj3,...objn"
   ]
  },
  {
   "cell_type": "code",
   "execution_count": 17,
   "metadata": {},
   "outputs": [
    {
     "name": "stdout",
     "output_type": "stream",
     "text": [
      "w\n",
      "(7+1j) <class 'tuple'>\n",
      "(7+1j) <class 'complex'>\n",
      "y\n"
     ]
    }
   ],
   "source": [
    "# Example: 4\n",
    "\n",
    "g=1,\"w\",\"u\",'fog',\"sunny\",2.2,7+1j\n",
    "print(g[1])\n",
    "print(g[-1],type(g))\n",
    "e=g[-1]\n",
    "print(g[-1],type(e))\n",
    "print(g[-3][4])"
   ]
  },
  {
   "cell_type": "markdown",
   "metadata": {},
   "source": [
    "4.syntax:\n",
    "       \n",
    "        varname=obj1,obj2,obj3,.....\n",
    "                   obj12,obj13.....\n",
    "                   objn\n"
   ]
  },
  {
   "cell_type": "code",
   "execution_count": 10,
   "metadata": {},
   "outputs": [
    {
     "name": "stdout",
     "output_type": "stream",
     "text": [
      "u\n",
      "w\n"
     ]
    },
    {
     "ename": "IndexError",
     "evalue": "tuple index out of range",
     "output_type": "error",
     "traceback": [
      "\u001b[1;31m---------------------------------------------------------------------------\u001b[0m",
      "\u001b[1;31mIndexError\u001b[0m                                Traceback (most recent call last)",
      "Cell \u001b[1;32mIn[10], line 8\u001b[0m\n\u001b[0;32m      6\u001b[0m \u001b[38;5;28mprint\u001b[39m(g[\u001b[38;5;241m2\u001b[39m])\n\u001b[0;32m      7\u001b[0m \u001b[38;5;28mprint\u001b[39m(g[\u001b[38;5;241m-\u001b[39m\u001b[38;5;241m2\u001b[39m])\n\u001b[1;32m----> 8\u001b[0m \u001b[38;5;28mprint\u001b[39m(\u001b[43mg\u001b[49m\u001b[43m[\u001b[49m\u001b[38;5;241;43m-\u001b[39;49m\u001b[38;5;241;43m5\u001b[39;49m\u001b[43m]\u001b[49m)\n",
      "\u001b[1;31mIndexError\u001b[0m: tuple index out of range"
     ]
    }
   ],
   "source": [
    "# Example: 5\n",
    "\n",
    "g=1,\"w\",\"u\",\n",
    "'fog',\"sunny\",2.2,7+1j,\n",
    "700,89,\"rat\"\n",
    "print(g[2])\n",
    "print(g[-2])\n",
    "print(g[-5])     # ERROR\n"
   ]
  },
  {
   "cell_type": "code",
   "execution_count": 13,
   "metadata": {},
   "outputs": [
    {
     "name": "stdout",
     "output_type": "stream",
     "text": [
      "3\n"
     ]
    },
    {
     "ename": "IndexError",
     "evalue": "tuple index out of range",
     "output_type": "error",
     "traceback": [
      "\u001b[1;31m---------------------------------------------------------------------------\u001b[0m",
      "\u001b[1;31mIndexError\u001b[0m                                Traceback (most recent call last)",
      "Cell \u001b[1;32mIn[13], line 7\u001b[0m\n\u001b[0;32m      5\u001b[0m \u001b[38;5;241m2\u001b[39m,\u001b[38;5;241m4\u001b[39m,\u001b[38;5;241m6\u001b[39m,\u001b[38;5;241m7\u001b[39m,\u001b[38;5;241m1\u001b[39m\n\u001b[0;32m      6\u001b[0m \u001b[38;5;28mprint\u001b[39m(g[\u001b[38;5;241m2\u001b[39m])\n\u001b[1;32m----> 7\u001b[0m \u001b[38;5;28mprint\u001b[39m(\u001b[43mg\u001b[49m\u001b[43m[\u001b[49m\u001b[38;5;241;43m7\u001b[39;49m\u001b[43m]\u001b[49m)\n\u001b[0;32m      8\u001b[0m \u001b[38;5;28mprint\u001b[39m(g[\u001b[38;5;241m-\u001b[39m\u001b[38;5;241m5\u001b[39m]) \n",
      "\u001b[1;31mIndexError\u001b[0m: tuple index out of range"
     ]
    }
   ],
   "source": [
    "# Example: 6\n",
    "\n",
    "g=1,2,3,4,\n",
    "6,6,7,9,2,\n",
    "2,4,6,7,1\n",
    "print(g[2])\n",
    "print(g[7]) # ERROR\n",
    "print(g[-5]) "
   ]
  },
  {
   "cell_type": "markdown",
   "metadata": {},
   "source": [
    "5. syntax:\n",
    "            \n",
    "             varname=(obj1,) or obj1,"
   ]
  },
  {
   "cell_type": "code",
   "execution_count": 26,
   "metadata": {},
   "outputs": [
    {
     "name": "stdout",
     "output_type": "stream",
     "text": [
      "(1,)\n",
      "<class 'tuple'>\n",
      "(2,)\n",
      "<class 'tuple'>\n"
     ]
    }
   ],
   "source": [
    "\n",
    "# Example: 7\n",
    "\n",
    "t=(1,)\n",
    "p=2,\n",
    "print(t)\n",
    "print(type(t))\n",
    "print(p)\n",
    "print(type(p))\n"
   ]
  },
  {
   "cell_type": "code",
   "execution_count": 27,
   "metadata": {},
   "outputs": [
    {
     "name": "stdout",
     "output_type": "stream",
     "text": [
      "sunny\n",
      "n\n",
      "a\n"
     ]
    }
   ],
   "source": [
    "# Example: 8\n",
    "h=1,\"w\",\"u\",'fog',\"sunny\",2.2,7+1j,700,89,\"rat\"\n",
    "print(h[4])\n",
    "print(h[4][3])\n",
    "print(h[-1][-2])"
   ]
  },
  {
   "cell_type": "code",
   "execution_count": 4,
   "metadata": {},
   "outputs": [
    {
     "name": "stdout",
     "output_type": "stream",
     "text": [
      "1 <class 'int'>\n"
     ]
    }
   ],
   "source": [
    "# Example: 9\n",
    "\n",
    "d=(1)\n",
    "print(d,type(d))\n",
    "\n"
   ]
  },
  {
   "cell_type": "code",
   "execution_count": 5,
   "metadata": {},
   "outputs": [
    {
     "name": "stdout",
     "output_type": "stream",
     "text": [
      "j\n"
     ]
    }
   ],
   "source": [
    "# Example: 10  / t=(1,2,30,\"raja\")/ print: j\n",
    "\n",
    "t=(1,2,30,\"raja\")\n",
    "print(t[3][-2])"
   ]
  },
  {
   "cell_type": "code",
   "execution_count": 9,
   "metadata": {},
   "outputs": [
    {
     "name": "stdout",
     "output_type": "stream",
     "text": [
      "o\n",
      "o\n",
      "a\n",
      "a\n",
      "a\n",
      "a\n",
      "40\n",
      "raja\n",
      "hero\n"
     ]
    }
   ],
   "source": [
    "# Example: 11  / w=(\"raja\",40,\"hero\")/ print: o, a, 40, raja, hero  \n",
    "\n",
    "w=(\"raja\",40,\"hero\")\n",
    "print(w[2][3])    # her-o-  +ve indexing\n",
    "print(w[2][-1])   # her-o-  -ve indexing\n",
    "print(w[0][1])    # r-a-ja  +ve indexing\n",
    "print(w[0][-3])   # r-a-ja  -ve indexing\n",
    "print(w[0][3])    # raj-a-  +ve indexing \n",
    "print(w[0][-1])   # raj-a-  -ve indexing\n",
    "print(w[1])\n",
    "print(w[0])\n",
    "print(w[2])\n"
   ]
  },
  {
   "cell_type": "code",
   "execution_count": 28,
   "metadata": {},
   "outputs": [
    {
     "name": "stdout",
     "output_type": "stream",
     "text": [
      "50\n",
      "coding\n",
      "tiger\n",
      "m\n",
      "n\n",
      "c\n",
      "d\n",
      "d\n",
      "b\n"
     ]
    }
   ],
   "source": [
    "# Example: 12 / k=(50,-120,\"tiger\",'bigdream',\"coding\") /print: 50, coding, tiger, m, n,c, d, b\n",
    "\n",
    "k=(50,-120,\"tiger\",'bigdream',\"coding\")\n",
    "print(k[0])\n",
    "print(k[-1])\n",
    "print(k[2])\n",
    "print(k[3][7])\n",
    "print(k[4][-2])\n",
    "print(k[4][0])\n",
    "print(k[3][3])\n",
    "print(k[4][2])\n",
    "print(k[3][0])"
   ]
  },
  {
   "cell_type": "code",
   "execution_count": 29,
   "metadata": {},
   "outputs": [
    {
     "name": "stdout",
     "output_type": "stream",
     "text": [
      "1\n",
      "3\n",
      "e\n",
      "o\n",
      "o\n",
      "d\n",
      "h\n",
      "n\n"
     ]
    }
   ],
   "source": [
    "# Example: 13 / v=((1,2,3),\"hero\",\"don\") / print: 1, 3, e, o in hero & don, d, h, n. \n",
    "\n",
    "v=((1,2,3),\"hero\",\"don\")\n",
    "print(v[0][0])\n",
    "print(v[0][2])\n",
    "print(v[1][1])\n",
    "print(v[1][-1])  # her-o-\n",
    "print(v[2][1])   # d-o-n\n",
    "print(v[2][0])\n",
    "print(v[1][0])\n",
    "print(v[2][2])\n",
    "\n"
   ]
  },
  {
   "cell_type": "code",
   "execution_count": 31,
   "metadata": {},
   "outputs": [
    {
     "name": "stdout",
     "output_type": "stream",
     "text": [
      "jack\n",
      "jon\n",
      "donkey\n",
      "d\n",
      "e\n",
      "k\n",
      "a\n",
      "('jack', 'jon')\n"
     ]
    }
   ],
   "source": [
    "# Example: 14 / y=((\"jack\",\"jon\"),\"donkey\") / print: jack, jon, donkey, d, e, k, a, (\"jack\",\"jon\").\n",
    "  \n",
    "y=((\"jack\",\"jon\"),\"donkey\")\n",
    "print(y[0][0])\n",
    "print(y[0][1])\n",
    "print(y[1])\n",
    "print(y[1][0])\n",
    "print(y[1][4])   \n",
    "print(y[1][3])\n",
    "print(y[0][0][1])\n",
    "print(y[0])"
   ]
  },
  {
   "cell_type": "code",
   "execution_count": 8,
   "metadata": {},
   "outputs": [
    {
     "name": "stdout",
     "output_type": "stream",
     "text": [
      "hero\n",
      "23\n",
      "r\n"
     ]
    }
   ],
   "source": [
    "# Example: 15 / o=((1,(\"hero\",23))) / print: hero ,23, r\n",
    "\n",
    "p=((1,(\"hero\",23)))\n",
    "print(p[1][0])\n",
    "print(p[1][1])\n",
    "print(p[1][0][2])\n",
    "\n"
   ]
  },
  {
   "cell_type": "markdown",
   "metadata": {},
   "source": [
    "# Tuple allows DUPLICATE VALUES "
   ]
  },
  {
   "cell_type": "code",
   "execution_count": 10,
   "metadata": {},
   "outputs": [
    {
     "name": "stdout",
     "output_type": "stream",
     "text": [
      "(1, 2, 3, 4.1, 2, 2, 2, 3, 3, 31, 1, 1, 1, 1)\n",
      "<class 'tuple'>\n",
      "(1, 23, 3, 1, 2, 22, 2, 22, 2, 3, 3, 3, 3, 34, 4, 4, 4)\n",
      "<class 'tuple'>\n"
     ]
    }
   ],
   "source": [
    "t=1,2,3,4.1,2,2,2,3,3,31,1,1,1,1\n",
    "p=(1,23,3,1,2,22,2,22,2,3,3,3,3,34,4,4,4)\n",
    "print(t)\n",
    "print(type(t))\n",
    "print(p)\n",
    "print(type(p))"
   ]
  },
  {
   "cell_type": "markdown",
   "metadata": {},
   "source": [
    "# Tuple is IMMUTABLE\n",
    "\n",
    "  can NOT be MODIFIED "
   ]
  },
  {
   "cell_type": "code",
   "execution_count": 19,
   "metadata": {},
   "outputs": [
    {
     "name": "stdout",
     "output_type": "stream",
     "text": [
      "('apple', 'cherry', 'orange') <class 'tuple'>\n",
      "('papaya',) <class 'tuple'>\n"
     ]
    },
    {
     "ename": "TypeError",
     "evalue": "'tuple' object does not support item assignment",
     "output_type": "error",
     "traceback": [
      "\u001b[1;31m---------------------------------------------------------------------------\u001b[0m",
      "\u001b[1;31mTypeError\u001b[0m                                 Traceback (most recent call last)",
      "Cell \u001b[1;32mIn[19], line 13\u001b[0m\n\u001b[0;32m      9\u001b[0m \u001b[38;5;28mprint\u001b[39m(f ,\u001b[38;5;28mtype\u001b[39m(f))\n\u001b[0;32m     11\u001b[0m \u001b[38;5;66;03m# single element in a tuple can not be changed \u001b[39;00m\n\u001b[1;32m---> 13\u001b[0m \u001b[43mf\u001b[49m\u001b[43m[\u001b[49m\u001b[38;5;241;43m0\u001b[39;49m\u001b[43m]\u001b[49m\u001b[38;5;241m=\u001b[39m \u001b[38;5;124m\"\u001b[39m\u001b[38;5;124mmango\u001b[39m\u001b[38;5;124m\"\u001b[39m  \u001b[38;5;66;03m#apple-----> mango\u001b[39;00m\n\u001b[0;32m     14\u001b[0m \u001b[38;5;28mprint\u001b[39m(f)\n",
      "\u001b[1;31mTypeError\u001b[0m: 'tuple' object does not support item assignment"
     ]
    }
   ],
   "source": [
    "# in tuple , character  cannot be changed \n",
    "\n",
    "f=(\"apple\",\"cherry\",\"orange\")\n",
    "print(f,type(f))\n",
    "\n",
    "# entier tuple can be changed \n",
    " \n",
    "f=\"papaya\",\n",
    "print(f ,type(f))\n",
    "\n",
    "# single element in a tuple can not be changed \n",
    "\n",
    "f[0]= \"mango\"  #papaya----> mango\n",
    "print(f)\n",
    "\n",
    "\n",
    "\n",
    "\n"
   ]
  }
 ],
 "metadata": {
  "kernelspec": {
   "display_name": "Python 3",
   "language": "python",
   "name": "python3"
  },
  "language_info": {
   "codemirror_mode": {
    "name": "ipython",
    "version": 3
   },
   "file_extension": ".py",
   "mimetype": "text/x-python",
   "name": "python",
   "nbconvert_exporter": "python",
   "pygments_lexer": "ipython3",
   "version": "3.12.2"
  }
 },
 "nbformat": 4,
 "nbformat_minor": 2
}
