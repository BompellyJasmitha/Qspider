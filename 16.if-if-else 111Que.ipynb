{
 "cells": [
  {
   "cell_type": "markdown",
   "metadata": {},
   "source": [
    "1. WAP to check whether a number is positive. If Positive, print a message Positive.\n"
   ]
  },
  {
   "cell_type": "code",
   "execution_count": 79,
   "metadata": {},
   "outputs": [
    {
     "name": "stdout",
     "output_type": "stream",
     "text": [
      "4 number is +ve \n"
     ]
    }
   ],
   "source": [
    "num=4\n",
    "if(num>0):\n",
    "    print(num,\"number is +ve \")"
   ]
  },
  {
   "cell_type": "markdown",
   "metadata": {},
   "source": [
    "2. WAP to display hello world if the number is greater than 1 and lesser than 5\n"
   ]
  },
  {
   "cell_type": "code",
   "execution_count": 80,
   "metadata": {},
   "outputs": [
    {
     "name": "stdout",
     "output_type": "stream",
     "text": [
      "hello world\n"
     ]
    }
   ],
   "source": [
    "num=3\n",
    "if(num>1)and(num<5):\n",
    "    print(\"hello world\")"
   ]
  },
  {
   "cell_type": "markdown",
   "metadata": {},
   "source": [
    "3. WAP to check whether the given number is divisible by 3 or not if print fizz.\n"
   ]
  },
  {
   "cell_type": "code",
   "execution_count": 81,
   "metadata": {},
   "outputs": [
    {
     "name": "stdout",
     "output_type": "stream",
     "text": [
      "fizz\n"
     ]
    }
   ],
   "source": [
    "num=9\n",
    "if(num%3==0):\n",
    "    print(\"fizz\")"
   ]
  },
  {
   "cell_type": "markdown",
   "metadata": {},
   "source": [
    "4. WAP to check whether given input is divisible by 2 and 6. If the condition is\n",
    "satisfied, convert the given number into a complex number.\n"
   ]
  },
  {
   "cell_type": "code",
   "execution_count": 82,
   "metadata": {},
   "outputs": [
    {
     "name": "stdout",
     "output_type": "stream",
     "text": [
      "(12+0j)\n"
     ]
    }
   ],
   "source": [
    "num=12\n",
    "if(num%2==0 and num%6==0):\n",
    "    print(complex(num))"
   ]
  },
  {
   "cell_type": "markdown",
   "metadata": {},
   "source": [
    "5. WAP to check whether a given input is divisible by 3 or 5. If the condition is\n",
    "satisfied, the number is converted to a list.\n",
    "\n",
    "\n",
    "i/p: 30\n",
    "\n",
    "o/p:[‘3’,’0’]"
   ]
  },
  {
   "cell_type": "code",
   "execution_count": 83,
   "metadata": {},
   "outputs": [
    {
     "name": "stdout",
     "output_type": "stream",
     "text": [
      "[3, 0]\n"
     ]
    }
   ],
   "source": [
    "num=30\n",
    "if(num%3==0 and num%5==0):\n",
    "    print(list(map(int,str(num))))"
   ]
  },
  {
   "cell_type": "markdown",
   "metadata": {},
   "source": [
    "6. Write a program to check whether a given number is multiple of 5 or not"
   ]
  },
  {
   "cell_type": "code",
   "execution_count": 84,
   "metadata": {},
   "outputs": [
    {
     "name": "stdout",
     "output_type": "stream",
     "text": [
      "multiple of 5\n"
     ]
    }
   ],
   "source": [
    "num=25\n",
    "if(num%5==0):\n",
    "    print(\"multiple of 5\")"
   ]
  },
  {
   "cell_type": "markdown",
   "metadata": {},
   "source": [
    "7. WAP to check whether the given input is 0 or not if 0 prints 0."
   ]
  },
  {
   "cell_type": "code",
   "execution_count": 85,
   "metadata": {},
   "outputs": [
    {
     "name": "stdout",
     "output_type": "stream",
     "text": [
      "0\n"
     ]
    }
   ],
   "source": [
    "num=0\n",
    "if(num==0):\n",
    "    print(0)"
   ]
  },
  {
   "cell_type": "markdown",
   "metadata": {},
   "source": [
    "8. WAP to check whether a number is negative. If negative, print a message negative."
   ]
  },
  {
   "cell_type": "code",
   "execution_count": 86,
   "metadata": {},
   "outputs": [
    {
     "name": "stdout",
     "output_type": "stream",
     "text": [
      "number is -ve \n"
     ]
    }
   ],
   "source": [
    "num=-2\n",
    "if(num<0):\n",
    "    print(\"number is -ve \")"
   ]
  },
  {
   "cell_type": "markdown",
   "metadata": {},
   "source": [
    "9. WAP to check whether a number is even or not. If even, store the value inside the\n",
    "list."
   ]
  },
  {
   "cell_type": "code",
   "execution_count": 87,
   "metadata": {},
   "outputs": [
    {
     "name": "stdout",
     "output_type": "stream",
     "text": [
      "[2, 3, 4]\n"
     ]
    }
   ],
   "source": [
    "num=234\n",
    "if(num%2==0):\n",
    "    a=list(map(int,str(num)))\n",
    "    print(a)\n"
   ]
  },
  {
   "cell_type": "markdown",
   "metadata": {},
   "source": [
    "10. WAP to check whether a number is odd or not. If odd, store the value inside the\n",
    "tuple.\n"
   ]
  },
  {
   "cell_type": "code",
   "execution_count": 88,
   "metadata": {},
   "outputs": [
    {
     "name": "stdout",
     "output_type": "stream",
     "text": [
      "(2, 3, 4)\n"
     ]
    }
   ],
   "source": [
    "#10\n",
    "\n",
    "num=234\n",
    "if(num%2==0):\n",
    "    a=tuple(map(int,str(num)))\n",
    "    print(a)"
   ]
  },
  {
   "cell_type": "markdown",
   "metadata": {},
   "source": [
    "11. WAP to check if the given number is even or not. if it is yes, to print the power of 4 in a given number.\n"
   ]
  },
  {
   "cell_type": "code",
   "execution_count": 89,
   "metadata": {},
   "outputs": [
    {
     "name": "stdout",
     "output_type": "stream",
     "text": [
      "1099511627776\n"
     ]
    }
   ],
   "source": [
    "num=20\n",
    "if(num%2==0):\n",
    "    print(4**num)"
   ]
  },
  {
   "cell_type": "markdown",
   "metadata": {},
   "source": [
    "12. WAP to take the input from the user as a number and check whether it is a number\n",
    "or not. if yes. take the number and add some value and print it.\n"
   ]
  },
  {
   "cell_type": "code",
   "execution_count": 90,
   "metadata": {},
   "outputs": [
    {
     "ename": "KeyboardInterrupt",
     "evalue": "Interrupted by user",
     "output_type": "error",
     "traceback": [
      "\u001b[1;31m---------------------------------------------------------------------------\u001b[0m",
      "\u001b[1;31mKeyboardInterrupt\u001b[0m                         Traceback (most recent call last)",
      "Cell \u001b[1;32mIn[90], line 1\u001b[0m\n\u001b[1;32m----> 1\u001b[0m a\u001b[38;5;241m=\u001b[39m\u001b[38;5;28mint\u001b[39m(\u001b[38;5;28;43minput\u001b[39;49m\u001b[43m(\u001b[49m\u001b[38;5;124;43m\"\u001b[39;49m\u001b[38;5;124;43mEnter a num:\u001b[39;49m\u001b[38;5;124;43m\"\u001b[39;49m\u001b[43m)\u001b[49m)\n\u001b[0;32m      2\u001b[0m \u001b[38;5;28;01mif\u001b[39;00m((a\u001b[38;5;241m<\u001b[39m\u001b[38;5;241m=\u001b[39m\u001b[38;5;241m0\u001b[39m) \u001b[38;5;129;01mand\u001b[39;00m(a\u001b[38;5;241m<\u001b[39m\u001b[38;5;241m0\u001b[39m)):\n\u001b[0;32m      3\u001b[0m     \u001b[38;5;28mprint\u001b[39m(\u001b[38;5;124m\"\u001b[39m\u001b[38;5;124mgiven num is\u001b[39m\u001b[38;5;124m\"\u001b[39m,a, \u001b[38;5;124m\"\u001b[39m\u001b[38;5;124m& sum with 68 is : \u001b[39m\u001b[38;5;124m\"\u001b[39m ,a\u001b[38;5;241m+\u001b[39m\u001b[38;5;241m68\u001b[39m)\n",
      "File \u001b[1;32m~\\AppData\\Roaming\\Python\\Python312\\site-packages\\ipykernel\\kernelbase.py:1270\u001b[0m, in \u001b[0;36mKernel.raw_input\u001b[1;34m(self, prompt)\u001b[0m\n\u001b[0;32m   1268\u001b[0m     msg \u001b[38;5;241m=\u001b[39m \u001b[38;5;124m\"\u001b[39m\u001b[38;5;124mraw_input was called, but this frontend does not support input requests.\u001b[39m\u001b[38;5;124m\"\u001b[39m\n\u001b[0;32m   1269\u001b[0m     \u001b[38;5;28;01mraise\u001b[39;00m StdinNotImplementedError(msg)\n\u001b[1;32m-> 1270\u001b[0m \u001b[38;5;28;01mreturn\u001b[39;00m \u001b[38;5;28;43mself\u001b[39;49m\u001b[38;5;241;43m.\u001b[39;49m\u001b[43m_input_request\u001b[49m\u001b[43m(\u001b[49m\n\u001b[0;32m   1271\u001b[0m \u001b[43m    \u001b[49m\u001b[38;5;28;43mstr\u001b[39;49m\u001b[43m(\u001b[49m\u001b[43mprompt\u001b[49m\u001b[43m)\u001b[49m\u001b[43m,\u001b[49m\n\u001b[0;32m   1272\u001b[0m \u001b[43m    \u001b[49m\u001b[38;5;28;43mself\u001b[39;49m\u001b[38;5;241;43m.\u001b[39;49m\u001b[43m_parent_ident\u001b[49m\u001b[43m[\u001b[49m\u001b[38;5;124;43m\"\u001b[39;49m\u001b[38;5;124;43mshell\u001b[39;49m\u001b[38;5;124;43m\"\u001b[39;49m\u001b[43m]\u001b[49m\u001b[43m,\u001b[49m\n\u001b[0;32m   1273\u001b[0m \u001b[43m    \u001b[49m\u001b[38;5;28;43mself\u001b[39;49m\u001b[38;5;241;43m.\u001b[39;49m\u001b[43mget_parent\u001b[49m\u001b[43m(\u001b[49m\u001b[38;5;124;43m\"\u001b[39;49m\u001b[38;5;124;43mshell\u001b[39;49m\u001b[38;5;124;43m\"\u001b[39;49m\u001b[43m)\u001b[49m\u001b[43m,\u001b[49m\n\u001b[0;32m   1274\u001b[0m \u001b[43m    \u001b[49m\u001b[43mpassword\u001b[49m\u001b[38;5;241;43m=\u001b[39;49m\u001b[38;5;28;43;01mFalse\u001b[39;49;00m\u001b[43m,\u001b[49m\n\u001b[0;32m   1275\u001b[0m \u001b[43m\u001b[49m\u001b[43m)\u001b[49m\n",
      "File \u001b[1;32m~\\AppData\\Roaming\\Python\\Python312\\site-packages\\ipykernel\\kernelbase.py:1313\u001b[0m, in \u001b[0;36mKernel._input_request\u001b[1;34m(self, prompt, ident, parent, password)\u001b[0m\n\u001b[0;32m   1310\u001b[0m \u001b[38;5;28;01mexcept\u001b[39;00m \u001b[38;5;167;01mKeyboardInterrupt\u001b[39;00m:\n\u001b[0;32m   1311\u001b[0m     \u001b[38;5;66;03m# re-raise KeyboardInterrupt, to truncate traceback\u001b[39;00m\n\u001b[0;32m   1312\u001b[0m     msg \u001b[38;5;241m=\u001b[39m \u001b[38;5;124m\"\u001b[39m\u001b[38;5;124mInterrupted by user\u001b[39m\u001b[38;5;124m\"\u001b[39m\n\u001b[1;32m-> 1313\u001b[0m     \u001b[38;5;28;01mraise\u001b[39;00m \u001b[38;5;167;01mKeyboardInterrupt\u001b[39;00m(msg) \u001b[38;5;28;01mfrom\u001b[39;00m \u001b[38;5;28;01mNone\u001b[39;00m\n\u001b[0;32m   1314\u001b[0m \u001b[38;5;28;01mexcept\u001b[39;00m \u001b[38;5;167;01mException\u001b[39;00m:\n\u001b[0;32m   1315\u001b[0m     \u001b[38;5;28mself\u001b[39m\u001b[38;5;241m.\u001b[39mlog\u001b[38;5;241m.\u001b[39mwarning(\u001b[38;5;124m\"\u001b[39m\u001b[38;5;124mInvalid Message:\u001b[39m\u001b[38;5;124m\"\u001b[39m, exc_info\u001b[38;5;241m=\u001b[39m\u001b[38;5;28;01mTrue\u001b[39;00m)\n",
      "\u001b[1;31mKeyboardInterrupt\u001b[0m: Interrupted by user"
     ]
    }
   ],
   "source": [
    "a=int(input(\"Enter a num:\"))\n",
    "if((a<=0) and(a<0)):\n",
    "    print(\"given num is\",a, \"& sum with 68 is : \" ,a+68)"
   ]
  },
  {
   "cell_type": "markdown",
   "metadata": {},
   "source": [
    "13. WAP to check whether a given value is divisible by 5 and 7. If the value is\n",
    "divisible,to display the square of the values."
   ]
  },
  {
   "cell_type": "code",
   "execution_count": null,
   "metadata": {},
   "outputs": [
    {
     "name": "stdout",
     "output_type": "stream",
     "text": [
      "1225\n"
     ]
    }
   ],
   "source": [
    "num=35\n",
    "if (num%5==0) and(num%7==0):\n",
    "    print(num**2)"
   ]
  },
  {
   "cell_type": "markdown",
   "metadata": {},
   "source": [
    "14. WAP to check whether the given value's last digit is greater than 5 or not.if greater,to perform the bitwise right shift operator (skipping value is 2)\n"
   ]
  },
  {
   "cell_type": "code",
   "execution_count": null,
   "metadata": {},
   "outputs": [
    {
     "name": "stdout",
     "output_type": "stream",
     "text": [
      "skipp value 2\n"
     ]
    }
   ],
   "source": [
    "num=27\n",
    "ld=num%10\n",
    "if(ld>5):\n",
    "    print(\"skipp value 2\")"
   ]
  },
  {
   "cell_type": "markdown",
   "metadata": {},
   "source": [
    "15. WAP to check whether a given value is divisible by 3 and less than 30. If the value is divisible,to display the square of the values.\n"
   ]
  },
  {
   "cell_type": "code",
   "execution_count": null,
   "metadata": {},
   "outputs": [
    {
     "name": "stdout",
     "output_type": "stream",
     "text": [
      "576\n"
     ]
    }
   ],
   "source": [
    "num=24\n",
    "if(num%3==0) and(num<30):\n",
    "    print(num**2)"
   ]
  },
  {
   "cell_type": "markdown",
   "metadata": {},
   "source": [
    "16. WAP to check whether a given value is an even number and divisible by 4. If\n",
    "satisfied ,to display the cube of the values.\n"
   ]
  },
  {
   "cell_type": "code",
   "execution_count": null,
   "metadata": {},
   "outputs": [
    {
     "name": "stdout",
     "output_type": "stream",
     "text": [
      "64\n"
     ]
    }
   ],
   "source": [
    "n=4\n",
    "if (n%2==0) and(n%4==0):\n",
    "    print(n**3)"
   ]
  },
  {
   "cell_type": "markdown",
   "metadata": {},
   "source": [
    "17. WAP to check whether a given value is even or not. If the even number stores the\n",
    "value inside the list.\n"
   ]
  },
  {
   "cell_type": "code",
   "execution_count": null,
   "metadata": {},
   "outputs": [
    {
     "name": "stdout",
     "output_type": "stream",
     "text": [
      "[6, 5, 7, 6]\n"
     ]
    }
   ],
   "source": [
    "num=6576\n",
    "if(num%2==0):\n",
    "    print(list(map(int,str(num))))"
   ]
  },
  {
   "cell_type": "markdown",
   "metadata": {},
   "source": [
    "18. WAP to check whether a given value is a negative or even number. If satisfied ,to\n",
    "display the last digit of the values.\n"
   ]
  },
  {
   "cell_type": "code",
   "execution_count": null,
   "metadata": {},
   "outputs": [
    {
     "name": "stdout",
     "output_type": "stream",
     "text": [
      "4\n",
      "6\n",
      "-14\n",
      "6\n"
     ]
    }
   ],
   "source": [
    "a=-14\n",
    "print(14%10)\n",
    "print(-14%10)\n",
    "if(a<0)or(a%2==0):\n",
    "    print(a)\n",
    "    print(a%10)"
   ]
  },
  {
   "cell_type": "markdown",
   "metadata": {},
   "source": [
    "19. WAP to check whether a given value is a negative or odd number and divisible by 4.\n",
    "If satisfied ,to display the cube of the values.\n"
   ]
  },
  {
   "cell_type": "code",
   "execution_count": null,
   "metadata": {},
   "outputs": [
    {
     "name": "stdout",
     "output_type": "stream",
     "text": [
      "-343\n"
     ]
    }
   ],
   "source": [
    "a=-7\n",
    "if(a<0)or(a%2==1):\n",
    "    print(a**3)"
   ]
  },
  {
   "cell_type": "markdown",
   "metadata": {},
   "source": [
    "20. WAP to check whether a given ascii value is divisible by 4 and even value. If\n",
    "satisfied, to display the ascii character.\n"
   ]
  },
  {
   "cell_type": "code",
   "execution_count": null,
   "metadata": {},
   "outputs": [
    {
     "name": "stdout",
     "output_type": "stream",
     "text": [
      "60\n",
      "D\n",
      "D\n"
     ]
    }
   ],
   "source": [
    "a= 68\n",
    "print(chr(68))\n",
    "if(a%4==0)and(a%2==0):\n",
    "    print(chr(a))"
   ]
  },
  {
   "cell_type": "markdown",
   "metadata": {},
   "source": [
    "21. WAP to check whether a given value is present in between 45 to 125 and the number\n",
    "should be divisible by 4 and 5 and even value. If satisfied, to display the ascii\n",
    "character."
   ]
  },
  {
   "cell_type": "code",
   "execution_count": null,
   "metadata": {},
   "outputs": [
    {
     "name": "stdout",
     "output_type": "stream",
     "text": [
      "<\n"
     ]
    }
   ],
   "source": [
    "a=60\n",
    "b=(a%4==0 and a%5==0)\n",
    "c=(a%2==0)\n",
    "if(45<a<125 and b and c ):\n",
    "    print(chr(a))"
   ]
  },
  {
   "cell_type": "markdown",
   "metadata": {},
   "source": [
    "\n",
    "22. WAP to check whether a given value is present in between 25 to 100 and the number\n",
    "should be divisible by 4 and 5. If satisfied, to display multiplication of given value\n",
    "with 5.\n"
   ]
  },
  {
   "cell_type": "code",
   "execution_count": null,
   "metadata": {},
   "outputs": [
    {
     "name": "stdout",
     "output_type": "stream",
     "text": [
      "300\n"
     ]
    }
   ],
   "source": [
    "a=60\n",
    "b=(a%4==0 and a%5==0)\n",
    "if(25<a<100):\n",
    "    print(a*5)"
   ]
  },
  {
   "cell_type": "markdown",
   "metadata": {},
   "source": [
    "23. WAP to check whether a given number is an integer and odd number. If the\n",
    "condition is satisfied, the integer is divisible by 5 and displays the result.\n"
   ]
  },
  {
   "cell_type": "code",
   "execution_count": 5,
   "metadata": {},
   "outputs": [],
   "source": [
    "a=509\n",
    "if((a<=0 and a>0) and (a%2==1)):\n",
    "    print(a/5)"
   ]
  },
  {
   "cell_type": "markdown",
   "metadata": {},
   "source": [
    "24. WAP to check whether a given value is an integer or not. If integer, the given value\n",
    "is converted to string and displays the result.\n"
   ]
  },
  {
   "cell_type": "code",
   "execution_count": 11,
   "metadata": {},
   "outputs": [],
   "source": [
    "v=45\n",
    "if((a<=0 and a>0)and (a%2==1)):\n",
    "    print((chr(v)))\n",
    "    print(list(map(int,str(num))))"
   ]
  },
  {
   "cell_type": "markdown",
   "metadata": {},
   "source": [
    "25. WAP to check whether a given value is less than 125 and greater than 60 or not. If\n",
    "the condition is satisfied, take the name and extract the middle character and\n",
    "display it."
   ]
  },
  {
   "cell_type": "code",
   "execution_count": 21,
   "metadata": {},
   "outputs": [
    {
     "name": "stdout",
     "output_type": "stream",
     "text": [
      "2\n"
     ]
    }
   ],
   "source": [
    "a1=123\n",
    "if(a1<125 and 60<a1):\n",
    "    remove_last=a1//10\n",
    "    remove_1st=remove_last%10\n",
    "    print(remove_1st)\n"
   ]
  },
  {
   "cell_type": "markdown",
   "metadata": {},
   "source": [
    "26. WAP to check whether a given two integers are equal or not. If both are equal, to\n",
    "perform addition and display the result.\n"
   ]
  },
  {
   "cell_type": "code",
   "execution_count": 13,
   "metadata": {},
   "outputs": [
    {
     "name": "stdout",
     "output_type": "stream",
     "text": [
      "100\n"
     ]
    }
   ],
   "source": [
    "a=50\n",
    "b=50\n",
    "if(a==b):\n",
    "    print(a+b)"
   ]
  },
  {
   "cell_type": "markdown",
   "metadata": {},
   "source": [
    "27. WAP to check whether two values are equal or not. if equal, to perform\n",
    "multiplication of two numbers and that result is division by 3 and display the value.\n",
    "\n"
   ]
  },
  {
   "cell_type": "code",
   "execution_count": 14,
   "metadata": {},
   "outputs": [
    {
     "name": "stdout",
     "output_type": "stream",
     "text": [
      "1\n"
     ]
    }
   ],
   "source": [
    "a=20\n",
    "b=20\n",
    "if(a==b):\n",
    "    c=(a*b)\n",
    "    print(c%3)\n"
   ]
  },
  {
   "cell_type": "markdown",
   "metadata": {},
   "source": [
    "28. WAP to check whether a character is in the alphabet or not. If the alphabet, store the\n",
    "value inside the dict(key as a character and value as an ascii value).\n",
    "\n"
   ]
  },
  {
   "cell_type": "code",
   "execution_count": 85,
   "metadata": {},
   "outputs": [
    {
     "name": "stdout",
     "output_type": "stream",
     "text": [
      "{'a': 97}\n"
     ]
    }
   ],
   "source": [
    "ch='a'\n",
    "if('a'<=ch<='z' or 'A'<=ch<='Z'):\n",
    "    print({ch:ord(ch)})"
   ]
  },
  {
   "cell_type": "markdown",
   "metadata": {},
   "source": [
    "29. WAP to check whether a character is in the uppercase or not. If the uppercase, store\n",
    "the value inside the dict(key as a character and value as an ascii value).\n"
   ]
  },
  {
   "cell_type": "code",
   "execution_count": 86,
   "metadata": {},
   "outputs": [
    {
     "name": "stdout",
     "output_type": "stream",
     "text": [
      "{'D': 68}\n"
     ]
    }
   ],
   "source": [
    "ch='D'\n",
    "if('A'<=ch<='Z'):\n",
    "    print({ch:ord(ch)})"
   ]
  },
  {
   "cell_type": "markdown",
   "metadata": {},
   "source": [
    "30. WAP to check whether a character is in the uppercase or not. If the uppercase,\n",
    "convert to lowercase and store the value inside the dict(character as a key and ascii\n",
    "value as a value).\n"
   ]
  },
  {
   "cell_type": "code",
   "execution_count": 88,
   "metadata": {},
   "outputs": [
    {
     "name": "stdout",
     "output_type": "stream",
     "text": [
      "{'m': 109}\n"
     ]
    }
   ],
   "source": [
    "ch='M'\n",
    "if('A'<=ch<='Z'):\n",
    "    lc=ch.lower()\n",
    "    print({lc:ord(lc)})"
   ]
  },
  {
   "cell_type": "markdown",
   "metadata": {},
   "source": [
    "31. WAP to check whether a character is in the lowercase or not. If the lowercase, to\n",
    "perform the replication operation on that character.\n"
   ]
  },
  {
   "cell_type": "code",
   "execution_count": 7,
   "metadata": {},
   "outputs": [
    {
     "name": "stdout",
     "output_type": "stream",
     "text": [
      "aa\n"
     ]
    }
   ],
   "source": [
    "c='a'\n",
    "if('a'<=c<=\"z\"):\n",
    "    print(c*2)"
   ]
  },
  {
   "cell_type": "markdown",
   "metadata": {},
   "source": [
    "32. WAP to check whether a character is in the ascii number or not. If the ascii number,\n",
    "to convert into integer.\n"
   ]
  },
  {
   "cell_type": "code",
   "execution_count": 9,
   "metadata": {},
   "outputs": [
    {
     "name": "stdout",
     "output_type": "stream",
     "text": [
      "64\n"
     ]
    }
   ],
   "source": [
    "ch=\"@\"\n",
    "a=ord(ch)\n",
    "if(a<127):\n",
    "    print(int(a))"
   ]
  },
  {
   "cell_type": "markdown",
   "metadata": {},
   "source": [
    "33. WAP to check whether a character is in the special symbol or not. If the special\n",
    "symbol, to display a symbol with ascii value.\n"
   ]
  },
  {
   "cell_type": "code",
   "execution_count": 18,
   "metadata": {},
   "outputs": [
    {
     "name": "stdout",
     "output_type": "stream",
     "text": [
      "given char is symbol 36\n"
     ]
    }
   ],
   "source": [
    "a='$'\n",
    "if('48'<a<'57')and('65'<a<'90')and('97'<a<'122'):\n",
    "    print(\"it is not a special symbol\")\n",
    "else:\n",
    "    print(\"given char is symbol\",ord(a))\n"
   ]
  },
  {
   "cell_type": "markdown",
   "metadata": {},
   "source": [
    "34. WAP to check whether a character is an even number or not. If the even number, to\n",
    "display an even number.\n"
   ]
  },
  {
   "cell_type": "code",
   "execution_count": 20,
   "metadata": {},
   "outputs": [
    {
     "name": "stdout",
     "output_type": "stream",
     "text": [
      "Given number is even\n"
     ]
    }
   ],
   "source": [
    "a=int(\"46\")\n",
    "if(a%2==0):\n",
    "    print(\"Given number is even\")"
   ]
  },
  {
   "cell_type": "markdown",
   "metadata": {},
   "source": [
    "35. WAP to check whether a Given two integers a and b, if any of the integers is 10 or if\n",
    "their sum is 10, to perform the sum of the numbers and to display the square of the\n",
    "result.\n"
   ]
  },
  {
   "cell_type": "code",
   "execution_count": 21,
   "metadata": {},
   "outputs": [
    {
     "name": "stdout",
     "output_type": "stream",
     "text": [
      "7396\n"
     ]
    }
   ],
   "source": [
    "a=10\n",
    "b=76\n",
    "if('a' or 'b'==10) or (a+b==10):\n",
    "    c=a+b\n",
    "    print(c**2)\n"
   ]
  },
  {
   "cell_type": "markdown",
   "metadata": {},
   "source": [
    "36. WAP to check whether a character is in the vowel or not. If the vowel,print the next\n",
    "character.\n"
   ]
  },
  {
   "cell_type": "code",
   "execution_count": 28,
   "metadata": {},
   "outputs": [
    {
     "name": "stdout",
     "output_type": "stream",
     "text": [
      "b\n"
     ]
    }
   ],
   "source": [
    "a=\"a\"\n",
    "if(a == a or e or i or o or u ):\n",
    "    c=ord(a)\n",
    "    d=c+1\n",
    "    print(chr(d))\n",
    "\n"
   ]
  },
  {
   "cell_type": "markdown",
   "metadata": {},
   "source": [
    "37. WAP to check whether a character is in the not a vowel. If it's not a vowel,print the\n",
    "previous character.\n"
   ]
  },
  {
   "cell_type": "code",
   "execution_count": 30,
   "metadata": {},
   "outputs": [
    {
     "name": "stdout",
     "output_type": "stream",
     "text": [
      "b\n"
     ]
    }
   ],
   "source": [
    "a=\"c\"\n",
    "if(a != 'a' or 'e' or 'i' or 'o' or 'u' ):\n",
    "    c=ord(a)\n",
    "    d=c-1\n",
    "    print(chr(d))"
   ]
  },
  {
   "cell_type": "markdown",
   "metadata": {},
   "source": [
    "38. WAP to check whether a given value is a single value data type or not. If single\n",
    "value, display the given value as a single value data type.\n"
   ]
  },
  {
   "cell_type": "code",
   "execution_count": 37,
   "metadata": {},
   "outputs": [
    {
     "name": "stdout",
     "output_type": "stream",
     "text": [
      "single value datatype\n"
     ]
    }
   ],
   "source": [
    "a=\"\"\n",
    "if(a=='int' or'float'or'bool'or'complex'==type(a)):\n",
    "    print(\"single value datatype\")"
   ]
  },
  {
   "cell_type": "markdown",
   "metadata": {},
   "source": [
    "39. WAP to check whether a given value is a multi-value data type or not. If multi value,\n",
    "store the given value inside the tuple and display it.\n"
   ]
  },
  {
   "cell_type": "markdown",
   "metadata": {},
   "source": [
    "40. WAP to check whether a given value is an immutable data type or not. If an\n",
    "immutable data type value, store the given value inside the set and display it.\n"
   ]
  },
  {
   "cell_type": "markdown",
   "metadata": {},
   "source": [
    "41. WAP to check whether the middle element of a given list is odd or not. If it is odd\n",
    "then print odd then print the number else directly print the number\n"
   ]
  },
  {
   "cell_type": "markdown",
   "metadata": {},
   "source": [
    "42. WAP Return a new string with \"not\" prefixed to the front of the original string. Return the string unmodified if the string already has the word \"not\" at the beginning.\n"
   ]
  },
  {
   "cell_type": "markdown",
   "metadata": {},
   "source": [
    "43. WAP to check whether the two variables are pointing to the same memory location\n",
    "or not if they are pointing to the same memory location then print the address of\n",
    "both the variables.\n"
   ]
  },
  {
   "cell_type": "code",
   "execution_count": 60,
   "metadata": {},
   "outputs": [
    {
     "name": "stdout",
     "output_type": "stream",
     "text": [
      "140716100832280 140716100832280\n",
      "140716100832280\n"
     ]
    }
   ],
   "source": [
    "n1=20\n",
    "n2=20\n",
    "print(id(n1),id(n2))\n",
    "if(id(n1)==id(n2)):\n",
    "    print(id(n1))\n"
   ]
  },
  {
   "cell_type": "markdown",
   "metadata": {},
   "source": [
    "44. WAP to check whether the given length of the string is even or not. If the condition is satisfied, display the sequence of characters from zero position to length of\n",
    "collection -2."
   ]
  },
  {
   "cell_type": "code",
   "execution_count": 66,
   "metadata": {},
   "outputs": [
    {
     "name": "stdout",
     "output_type": "stream",
     "text": [
      "gjhk\n"
     ]
    }
   ],
   "source": [
    "a='gjhkjb'\n",
    "if((len(a))%2==0):\n",
    "    print(a[0:-2:])"
   ]
  },
  {
   "cell_type": "markdown",
   "metadata": {},
   "source": [
    "45. WAP to check whether the two given strings are having the same values or not. If\n",
    "both are not the same values then swap the values of one variable to another\n",
    "variable after swapping print the two values."
   ]
  },
  {
   "cell_type": "code",
   "execution_count": 71,
   "metadata": {},
   "outputs": [
    {
     "name": "stdout",
     "output_type": "stream",
     "text": [
      "cdd cdd\n"
     ]
    }
   ],
   "source": [
    "a=\"addd\"\n",
    "b=\"cdd\"\n",
    "if(a!=b):\n",
    "    a=b\n",
    "    print(a,b)\n"
   ]
  },
  {
   "cell_type": "markdown",
   "metadata": {},
   "source": [
    "46. WAP to check whether a given character is a special symbol or not. If satisfied,\n",
    "store the symbol as a key and value as a ascii value of the given character inside the\n",
    "dictionary."
   ]
  },
  {
   "cell_type": "code",
   "execution_count": 78,
   "metadata": {},
   "outputs": [
    {
     "ename": "TypeError",
     "evalue": "'str' object is not callable",
     "output_type": "error",
     "traceback": [
      "\u001b[1;31m---------------------------------------------------------------------------\u001b[0m",
      "\u001b[1;31mTypeError\u001b[0m                                 Traceback (most recent call last)",
      "Cell \u001b[1;32mIn[78], line 6\u001b[0m\n\u001b[0;32m      4\u001b[0m key\u001b[38;5;241m=\u001b[39ma\n\u001b[0;32m      5\u001b[0m value\u001b[38;5;241m=\u001b[39m\u001b[38;5;28mord\u001b[39m(a)\n\u001b[1;32m----> 6\u001b[0m \u001b[38;5;28mprint\u001b[39m(\u001b[38;5;28mdict\u001b[39m(\u001b[43mkey\u001b[49m\u001b[43m(\u001b[49m\u001b[43mvalue\u001b[49m\u001b[43m)\u001b[49m))\n",
      "\u001b[1;31mTypeError\u001b[0m: 'str' object is not callable"
     ]
    }
   ],
   "source": [
    "a=\"$\"\n",
    "b=('48'<a<'57')and('65'<a<'90')and('97'<a<'122')\n",
    "if(a!=b):\n",
    "    key=a\n",
    "    value=ord(a)\n",
    "    print(dict(key(value)))"
   ]
  },
  {
   "cell_type": "markdown",
   "metadata": {},
   "source": [
    "\n",
    "47. WAP to check whether a given key is not present in the dictionary or not. If the key is not present, append the new key inside the dictionary.\n"
   ]
  },
  {
   "cell_type": "code",
   "execution_count": 89,
   "metadata": {},
   "outputs": [
    {
     "name": "stdout",
     "output_type": "stream",
     "text": [
      "<class 'dict'>\n"
     ]
    }
   ],
   "source": [
    "d={1:12,'a':'aphabets',3:2.34}\n",
    "print(type(d))\n",
    "key=3\n",
    "if(key in d):\n",
    "    "
   ]
  },
  {
   "cell_type": "markdown",
   "metadata": {},
   "source": [
    "48. WAP whether a given string, and it displays a new string with the first and last\n",
    "characters switched.\n"
   ]
  },
  {
   "cell_type": "code",
   "execution_count": 90,
   "metadata": {},
   "outputs": [
    {
     "ename": "SyntaxError",
     "evalue": "invalid syntax. Perhaps you forgot a comma? (3477580617.py, line 3)",
     "output_type": "error",
     "traceback": [
      "\u001b[1;36m  Cell \u001b[1;32mIn[90], line 3\u001b[1;36m\u001b[0m\n\u001b[1;33m    t=(s[])\u001b[0m\n\u001b[1;37m       ^\u001b[0m\n\u001b[1;31mSyntaxError\u001b[0m\u001b[1;31m:\u001b[0m invalid syntax. Perhaps you forgot a comma?\n"
     ]
    }
   ],
   "source": [
    "s=\"fhjhkjk\"\n",
    "if('a'<=ch<='z' or 'A'<=ch<='Z'):\n",
    "    t=(s[])"
   ]
  },
  {
   "cell_type": "markdown",
   "metadata": {},
   "source": [
    "49. WAP to check whether the last digit should be 2 in the given number then print the\n",
    "last digit.\n"
   ]
  },
  {
   "cell_type": "code",
   "execution_count": 91,
   "metadata": {},
   "outputs": [
    {
     "name": "stdout",
     "output_type": "stream",
     "text": [
      "2\n"
     ]
    }
   ],
   "source": [
    "a=546572\n",
    "if(a%10==2):\n",
    "    print(a%10)"
   ]
  },
  {
   "cell_type": "markdown",
   "metadata": {},
   "source": [
    "50. WAP to check whether a Given two integers a and b, if any of the integers is 10 or if\n",
    "their sum is 10, to perform the sum of the numbers and to display the square of the\n",
    "result."
   ]
  },
  {
   "cell_type": "code",
   "execution_count": 93,
   "metadata": {},
   "outputs": [
    {
     "name": "stdout",
     "output_type": "stream",
     "text": [
      "100\n"
     ]
    }
   ],
   "source": [
    "a=7\n",
    "b=3\n",
    "if(('a' or 'b' ==10)or(a+b==10)):\n",
    "    c=a+b\n",
    "    print(c**2)"
   ]
  },
  {
   "cell_type": "markdown",
   "metadata": {},
   "source": [
    "51. WAP to check whether a given string(str) and one integer(n) value, to display a new\n",
    "string that is devoid of the character at index n. if you are given a non-empty string\n",
    "and an int n. The value of n will be a legitimate character index from the original\n",
    "string, therefore it will fall within the range of 0 to len(str)-1, inclusive.\n"
   ]
  },
  {
   "cell_type": "code",
   "execution_count": null,
   "metadata": {},
   "outputs": [],
   "source": [
    "str=\"apple\"\n",
    "n=8\n"
   ]
  },
  {
   "cell_type": "markdown",
   "metadata": {},
   "source": [
    "52. WAP to check whether both string collections are equal or not if it is not equal print the both strings along with the length of a string if both are equal ignore it"
   ]
  },
  {
   "cell_type": "code",
   "execution_count": 1,
   "metadata": {},
   "outputs": [
    {
     "name": "stdout",
     "output_type": "stream",
     "text": [
      "apple 5\n",
      "appe 4\n"
     ]
    }
   ],
   "source": [
    "s1=\"apple\"\n",
    "s2=\"appe\"\n",
    "if(s1!=s2):\n",
    "    print(s1,len(s1))\n",
    "    print(s2,len(s2))"
   ]
  },
  {
   "cell_type": "markdown",
   "metadata": {},
   "source": [
    "# _______________ if else : _____________"
   ]
  },
  {
   "cell_type": "markdown",
   "metadata": {},
   "source": [
    "53. WAP to check whether a number is positive or negative. If Positive print positive\n",
    "message or else print Negative Number.\n"
   ]
  },
  {
   "cell_type": "code",
   "execution_count": 97,
   "metadata": {},
   "outputs": [
    {
     "name": "stdout",
     "output_type": "stream",
     "text": [
      "number is -ve\n"
     ]
    }
   ],
   "source": [
    "a=-567\n",
    "if(a>0):\n",
    "    print(\"number is +ve\")\n",
    "else:\n",
    "    print(\"number is -ve\")"
   ]
  },
  {
   "cell_type": "markdown",
   "metadata": {},
   "source": [
    "54. WAP to check whether a number is even or odd. If even, print message an even or\n",
    "else print message as odd.\n"
   ]
  },
  {
   "cell_type": "code",
   "execution_count": 99,
   "metadata": {},
   "outputs": [
    {
     "name": "stdout",
     "output_type": "stream",
     "text": [
      "number is odd\n"
     ]
    }
   ],
   "source": [
    "a=567\n",
    "if(a%2==0):\n",
    "    print(\"number is even\")\n",
    "else:\n",
    "    print(\"number is odd\")"
   ]
  },
  {
   "cell_type": "markdown",
   "metadata": {},
   "source": [
    "55. Write a program to check whether a given number is greater than 10 or not. if it is\n",
    "greater than 10 print message as greater or else print that number with not a greater\n",
    "than."
   ]
  },
  {
   "cell_type": "code",
   "execution_count": 2,
   "metadata": {},
   "outputs": [
    {
     "name": "stdout",
     "output_type": "stream",
     "text": [
      " number is greater than 10\n"
     ]
    }
   ],
   "source": [
    "a=46\n",
    "if(a>10):\n",
    "    print( \" number is greater than 10\")\n",
    "else:\n",
    "    print(\"number is not greater than 10 \",a)"
   ]
  },
  {
   "cell_type": "markdown",
   "metadata": {},
   "source": [
    "56. WAP to check whether a given value is present in between 45 to 125. If value is\n",
    "present print the ascii character.\n"
   ]
  },
  {
   "cell_type": "code",
   "execution_count": 103,
   "metadata": {},
   "outputs": [
    {
     "name": "stdout",
     "output_type": "stream",
     "text": [
      "C\n"
     ]
    }
   ],
   "source": [
    "a=67\n",
    "if(45<a<125):\n",
    "    print(chr(a))"
   ]
  },
  {
   "cell_type": "markdown",
   "metadata": {},
   "source": [
    "57. WAP to check whether the given two input numbers are divisible by 3 and 5. If it is\n",
    "divisible, print “Good Morning”, if it is not print “Good Evening”.\n"
   ]
  },
  {
   "cell_type": "code",
   "execution_count": 104,
   "metadata": {},
   "outputs": [
    {
     "name": "stdout",
     "output_type": "stream",
     "text": [
      "Good Mng\n"
     ]
    }
   ],
   "source": [
    "a=5\n",
    "b=465\n",
    "if((a and b)%3==0) and((a and b)%5==0):\n",
    "    print(\"Good Mng\")\n",
    "else:\n",
    "    print(\"Good evening\")"
   ]
  },
  {
   "cell_type": "markdown",
   "metadata": {},
   "source": [
    "58. WAP to accept two integers and check whether they are equal or not.\n",
    "If equal, multiply to value or quotation value and display it.\n"
   ]
  },
  {
   "cell_type": "code",
   "execution_count": 106,
   "metadata": {},
   "outputs": [
    {
     "name": "stdout",
     "output_type": "stream",
     "text": [
      "430336\n"
     ]
    }
   ],
   "source": [
    "a=656\n",
    "b=656\n",
    "if(a==b):\n",
    "\n",
    "    print(a*b)"
   ]
  },
  {
   "cell_type": "markdown",
   "metadata": {},
   "source": [
    "59. WAP to find the largest of two numbers.\n"
   ]
  },
  {
   "cell_type": "code",
   "execution_count": 107,
   "metadata": {},
   "outputs": [
    {
     "name": "stdout",
     "output_type": "stream",
     "text": [
      "687 is largest value than 67\n"
     ]
    }
   ],
   "source": [
    "a=67\n",
    "b=687\n",
    "if(a>b):\n",
    "    print(a,\"is largest value than\",b)\n",
    "else:\n",
    "    print(b,\"is largest value than\",a)"
   ]
  },
  {
   "cell_type": "markdown",
   "metadata": {},
   "source": [
    "60. WAP to check whether the input number is greater than 10 or not if it is greater than\n",
    "10 print messages as greater with print that number. if that number is not greater\n",
    "than 10 print that number.\n"
   ]
  },
  {
   "cell_type": "code",
   "execution_count": 108,
   "metadata": {},
   "outputs": [
    {
     "name": "stdout",
     "output_type": "stream",
     "text": [
      "789 greater than 10\n"
     ]
    }
   ],
   "source": [
    "a=789\n",
    "if(a>10):\n",
    "    print(a,\"greater than 10\")\n",
    "else:\n",
    "    print(a)"
   ]
  },
  {
   "cell_type": "markdown",
   "metadata": {},
   "source": [
    "61. WAP to the given number integer, if n is greater than 21,print the absolute\n",
    "difference between n and 21 otherwise print twice the absolute difference.\n"
   ]
  },
  {
   "cell_type": "code",
   "execution_count": 110,
   "metadata": {},
   "outputs": [
    {
     "name": "stdout",
     "output_type": "stream",
     "text": [
      "-48\n"
     ]
    }
   ],
   "source": [
    "a=-3\n",
    "if(a>21):\n",
    "    print(\"Difference :\", a-21)\n",
    "else:\n",
    "    print((a-21)*2)"
   ]
  },
  {
   "cell_type": "markdown",
   "metadata": {},
   "source": [
    "62. WAP to find the smallest of two numbers.\n"
   ]
  },
  {
   "cell_type": "code",
   "execution_count": 111,
   "metadata": {},
   "outputs": [
    {
     "name": "stdout",
     "output_type": "stream",
     "text": [
      "67 is smallest value than 687\n"
     ]
    }
   ],
   "source": [
    "a=67\n",
    "b=687\n",
    "if(a<b):\n",
    "    print(a,\"is smallest value than\",b)\n",
    "else:\n",
    "    print(b,\"is smallest value than\",a)"
   ]
  },
  {
   "cell_type": "markdown",
   "metadata": {},
   "source": [
    "63. WAP to check whether the given number is even or odd. If it is even then make it as\n",
    "an add number, if it is an odd number then make it as even number.\n"
   ]
  },
  {
   "cell_type": "code",
   "execution_count": 112,
   "metadata": {},
   "outputs": [
    {
     "name": "stdout",
     "output_type": "stream",
     "text": [
      "8979 make it even : 8980\n"
     ]
    }
   ],
   "source": [
    "a=8979\n",
    "if(a%2==0):\n",
    "    print(\"add number with 1 :\",a+1)\n",
    "else:\n",
    "    print(a,\"make it even :\",a+1)"
   ]
  },
  {
   "cell_type": "markdown",
   "metadata": {},
   "source": [
    "64. WAP to check whether the given number is divisible by 3 or not if yes,print the\n",
    "number or else print the cube of the numbers.\n"
   ]
  },
  {
   "cell_type": "code",
   "execution_count": 118,
   "metadata": {},
   "outputs": [
    {
     "name": "stdout",
     "output_type": "stream",
     "text": [
      "780\n"
     ]
    }
   ],
   "source": [
    "a=780\n",
    "if(a%3==0):\n",
    "    print(a)\n",
    "else:\n",
    "    (a**3)"
   ]
  },
  {
   "cell_type": "markdown",
   "metadata": {},
   "source": [
    "65. WAP to check whether the given input is divisible by 3 and 5. If yes print the actual\n",
    "number or else print string of that number.\n"
   ]
  },
  {
   "cell_type": "code",
   "execution_count": 123,
   "metadata": {},
   "outputs": [
    {
     "name": "stdout",
     "output_type": "stream",
     "text": [
      "6788\n"
     ]
    }
   ],
   "source": [
    "n=6788\n",
    "if(n%3==0)and(n%5==0):\n",
    "    print(n)\n",
    "else:\n",
    "    print(str(n))"
   ]
  },
  {
   "cell_type": "markdown",
   "metadata": {},
   "source": [
    "66. WAP to check whether the given number lies between 1 to 19, if it is true square that\n",
    "number or else false cube that number and display the number.\n"
   ]
  },
  {
   "cell_type": "code",
   "execution_count": 124,
   "metadata": {},
   "outputs": [
    {
     "name": "stdout",
     "output_type": "stream",
     "text": [
      "True 64\n"
     ]
    }
   ],
   "source": [
    "a=8\n",
    "if(1<a<19):\n",
    "    print(\"True\",a**2)\n",
    "else:\n",
    "    print(\"False\",a**3)\n"
   ]
  },
  {
   "cell_type": "markdown",
   "metadata": {},
   "source": [
    "67. WAP to check whether the student has passed or failed. If the student got more than\n",
    "40 marks, print ‘PASS’ along with those marks, if it is not printed ‘FAIL’ along with\n",
    "those marks.\n"
   ]
  },
  {
   "cell_type": "code",
   "execution_count": 125,
   "metadata": {},
   "outputs": [
    {
     "name": "stdout",
     "output_type": "stream",
     "text": [
      "student PASS 78\n"
     ]
    }
   ],
   "source": [
    "m=78\n",
    "if(m>40):\n",
    "    print(\"student PASS\",m)\n",
    "else:\n",
    "    print(\"student FAILD\",m)\n",
    "\n"
   ]
  },
  {
   "cell_type": "markdown",
   "metadata": {},
   "source": [
    "68. WAP to check whether a given value is even and in range of 47 to 58 and not in 0 or\n",
    "odd. if condition is True, to perform display the ascii character.or else to perform\n",
    "floor division with 5 and display it.\n"
   ]
  },
  {
   "cell_type": "code",
   "execution_count": 3,
   "metadata": {},
   "outputs": [
    {
     "name": "stdout",
     "output_type": "stream",
     "text": [
      "2---> 6\n"
     ]
    }
   ],
   "source": [
    "a=34\n",
    "b=(a%2==0)\n",
    "c=47<a<58\n",
    "d=(a%2!=1 and a!=0)\n",
    "\n",
    "if(b and c and d):\n",
    "    print(\"1--->\",chr(a))\n",
    "else:\n",
    "    print(\"2--->\",a//5)"
   ]
  },
  {
   "cell_type": "markdown",
   "metadata": {},
   "source": [
    "69. WAP to check whether a given value is less than 125 and in between 47 to 125 or not.\n",
    "if condition is True, to perform store the given value as key and value as a character\n",
    "into the dict.or else to append the value in list and display it.\n"
   ]
  },
  {
   "cell_type": "code",
   "execution_count": 67,
   "metadata": {},
   "outputs": [
    {
     "name": "stdout",
     "output_type": "stream",
     "text": [
      "{120: 'x'}\n"
     ]
    }
   ],
   "source": [
    "a=120\n",
    "if(a<125 and 47<a<125):\n",
    "    print({a:chr(a)})\n",
    "else:\n",
    "    print(list(map(int,str(a))))"
   ]
  },
  {
   "cell_type": "markdown",
   "metadata": {},
   "source": [
    "70. WAP to check whether a given character is in the alphabet or not. if alphabet,\n",
    "display the alphabet with character.or else display the not alphabet with character.\n"
   ]
  },
  {
   "cell_type": "code",
   "execution_count": 142,
   "metadata": {},
   "outputs": [
    {
     "name": "stdout",
     "output_type": "stream",
     "text": [
      "NOT alphabet with character A\n"
     ]
    }
   ],
   "source": [
    "a='A'\n",
    "if(\"a\"<=a<=\"z\" and \"A\"<=a<=\"Z\"):\n",
    "    print(\"Alphabet with character\",a)\n",
    "else:\n",
    "    print(\"NOT alphabet with character\",a)\n"
   ]
  },
  {
   "cell_type": "markdown",
   "metadata": {},
   "source": [
    "71. WAP to check whether a given character is uppercase or other character. if\n",
    "uppercase, display the uppercase with character.or else display the other character\n",
    "with character.\n"
   ]
  },
  {
   "cell_type": "code",
   "execution_count": 4,
   "metadata": {},
   "outputs": [
    {
     "name": "stdout",
     "output_type": "stream",
     "text": [
      "Upper case B\n"
     ]
    }
   ],
   "source": [
    "ch=\"B\"\n",
    "if(\"A\"<=ch<=\"Z\"):\n",
    "    print(\"Upper case\",ch)\n",
    "else:\n",
    "    print(\"Other character\",ch)"
   ]
  },
  {
   "cell_type": "markdown",
   "metadata": {},
   "source": [
    "72. WAP to check whether a given character is lowercase or other character. if\n",
    "lowercase, display the lowercase with character.or else display the other character\n",
    "with character.\n"
   ]
  },
  {
   "cell_type": "code",
   "execution_count": 5,
   "metadata": {},
   "outputs": [
    {
     "name": "stdout",
     "output_type": "stream",
     "text": [
      "Lower case b\n"
     ]
    }
   ],
   "source": [
    "ch=\"b\"\n",
    "if(\"a\"<=ch<=\"z\"):\n",
    "    print(\"Lower case\",ch)\n",
    "else:\n",
    "    print(\"Other character\",ch)"
   ]
  },
  {
   "cell_type": "markdown",
   "metadata": {},
   "source": [
    "73. WAP to check whether a given character is uppercase or other character. if\n",
    "uppercase, convert to lowercase .or else display the ascii number.\n"
   ]
  },
  {
   "cell_type": "code",
   "execution_count": 10,
   "metadata": {},
   "outputs": [
    {
     "name": "stdout",
     "output_type": "stream",
     "text": [
      "h\n"
     ]
    }
   ],
   "source": [
    "ch=\"H\"\n",
    "if(\"A\"<=ch<=\"Z\"):\n",
    "    print(ch.lower())\n",
    "else:\n",
    "    print(ord(ch))"
   ]
  },
  {
   "cell_type": "markdown",
   "metadata": {},
   "source": [
    "74. WAP to check whether the given character is in lowercase or uppercase. If it is in\n",
    "lowercase, convert it into uppercase, or else it is in uppercase and convert it into\n",
    "lowercase. Display the value.\n"
   ]
  },
  {
   "cell_type": "code",
   "execution_count": 12,
   "metadata": {},
   "outputs": [
    {
     "name": "stdout",
     "output_type": "stream",
     "text": [
      "I\n"
     ]
    }
   ],
   "source": [
    "ch=\"i\"\n",
    "if(\"A\"<=ch<=\"Z\"):\n",
    "    print(ch.lower())\n",
    "else:\n",
    "    print(ch.upper())"
   ]
  },
  {
   "cell_type": "markdown",
   "metadata": {},
   "source": [
    "75. WAP to check whether the given string of the first character is a special symbol or\n",
    "not. If a special symbol, to extract and display the middle character or else to\n",
    "reverse the string and display the half of the string.\n"
   ]
  },
  {
   "cell_type": "code",
   "execution_count": null,
   "metadata": {},
   "outputs": [],
   "source": [
    "s=\"ghgjk\"\n",
    "c1=((\"a\"<=s<=\"z\" and \"A\"<=s<=\"Z\") and('0'<=s<='9'))\n",
    "if(s[0]!=c1):\n",
    "    "
   ]
  },
  {
   "cell_type": "markdown",
   "metadata": {},
   "source": [
    "76. WAP to check whether the input character is a vowel or not. If it is vowel print\n",
    "‘VOWEL’ along with that character, if it is not just print ‘CONSONANT’.\n"
   ]
  },
  {
   "cell_type": "code",
   "execution_count": 24,
   "metadata": {},
   "outputs": [
    {
     "name": "stdout",
     "output_type": "stream",
     "text": [
      "CONSONANT\n"
     ]
    }
   ],
   "source": [
    "ch='t'\n",
    "if(ch == a and 'e' and 'i' and 'o' and 'u' ):\n",
    "    print(\"VOWEL\",ch)\n",
    "else:\n",
    "    print(\"CONSONANT\")"
   ]
  },
  {
   "cell_type": "markdown",
   "metadata": {},
   "source": [
    "77. WAP to check whether a given character is a vowel or consonant. if vowel,to print\n",
    "the next character of a given character or else print previous characters.\n",
    "\n"
   ]
  },
  {
   "cell_type": "code",
   "execution_count": 33,
   "metadata": {},
   "outputs": [
    {
     "name": "stdout",
     "output_type": "stream",
     "text": [
      "CONSONANT c\n"
     ]
    }
   ],
   "source": [
    "ch='d'\n",
    "c1=ord(ch)\n",
    "if(ch == 'a' and 'e' and 'i' and 'o' and 'u' ):\n",
    "    \n",
    "    print(\"VOWEL\",chr(c1+1))\n",
    "else:\n",
    "    print(\"CONSONANT\",chr(c1-1))"
   ]
  },
  {
   "cell_type": "markdown",
   "metadata": {},
   "source": [
    "78. WAP to check whether a given string of first character is alphabet or not\n",
    "if the alphabet prints, reverse the string or else print the middle character.\n"
   ]
  },
  {
   "cell_type": "markdown",
   "metadata": {},
   "source": [
    "79. WAP to check whether the given input character is uppercase or lowercase. If the\n",
    "input character is upper case convert into lower case and vice versa.\n",
    "\n"
   ]
  },
  {
   "cell_type": "code",
   "execution_count": 35,
   "metadata": {},
   "outputs": [
    {
     "name": "stdout",
     "output_type": "stream",
     "text": [
      "E\n"
     ]
    }
   ],
   "source": [
    "ch=\"e\"\n",
    "if(\"A\"<=ch<=\"Z\"):\n",
    "    print(ch.lower())\n",
    "else:\n",
    "    print(ch.upper())"
   ]
  },
  {
   "cell_type": "markdown",
   "metadata": {},
   "source": [
    "80. WAP to check whether a given string is less than 3 characters, to print the entire\n",
    "string otherwise to print after third positions to the remaining string.\n"
   ]
  },
  {
   "cell_type": "code",
   "execution_count": 37,
   "metadata": {},
   "outputs": [
    {
     "name": "stdout",
     "output_type": "stream",
     "text": [
      "34567\n"
     ]
    }
   ],
   "source": [
    "s=\"01234567\"\n",
    "if(len(s)<3):\n",
    "    print(s)\n",
    "else:\n",
    "    print(s[3::])"
   ]
  },
  {
   "cell_type": "markdown",
   "metadata": {},
   "source": [
    "81. WAP to check whether a given length of the string is even or not. if even, to append\n",
    "the new string called \"bye\" or else print the first and last characters.\n"
   ]
  },
  {
   "cell_type": "code",
   "execution_count": 38,
   "metadata": {},
   "outputs": [
    {
     "name": "stdout",
     "output_type": "stream",
     "text": [
      "a e\n"
     ]
    }
   ],
   "source": [
    "a=\"apple\"\n",
    "if((len(a))%2==0):\n",
    "    print(a+'bye')\n",
    "else:\n",
    "    print(a[0],a[-1])"
   ]
  },
  {
   "cell_type": "markdown",
   "metadata": {},
   "source": [
    "82. WAP to check whether a given length of the string is odd or not. if odd, to append\n",
    "the new string(\"Haii\") from the starting of the given string, or else to avoid the\n",
    "starting character and ending character of the given\n",
    "string and to display the remaining characters.\n"
   ]
  },
  {
   "cell_type": "code",
   "execution_count": 42,
   "metadata": {},
   "outputs": [
    {
     "name": "stdout",
     "output_type": "stream",
     "text": [
      "re\n"
     ]
    }
   ],
   "source": [
    "s=\"tree\"\n",
    "if(len(s)%2==1):\n",
    "    print('haii'+s)\n",
    "else:\n",
    "    print(s[1:-1:1])\n"
   ]
  },
  {
   "cell_type": "markdown",
   "metadata": {},
   "source": [
    "83. WAP to check whether the last of the given string is a special character or not, if the\n",
    "special character prints reverse the string except the last character or else to check\n",
    "if the length of the string is odd or not, if odd to extract the middle character to the\n",
    "end of the string.\n"
   ]
  },
  {
   "cell_type": "code",
   "execution_count": 43,
   "metadata": {},
   "outputs": [
    {
     "name": "stdout",
     "output_type": "stream",
     "text": [
      "ognam\n"
     ]
    }
   ],
   "source": [
    "s=\"mango@\"\n",
    "c1=((\"a\"<=s<=\"z\" and \"A\"<=s<=\"Z\") and('0'<=s<='9'))\n",
    "if(s[-1]!=c1):\n",
    "    print(s[-2::-1])\n",
    "else:\n"
   ]
  },
  {
   "cell_type": "markdown",
   "metadata": {},
   "source": [
    "84. WAP to check whether a given year is a leap year or not. if leap year, print leap year\n",
    "or else not a leap year.\n"
   ]
  },
  {
   "cell_type": "code",
   "execution_count": 48,
   "metadata": {},
   "outputs": [
    {
     "name": "stdout",
     "output_type": "stream",
     "text": [
      "leap year\n"
     ]
    }
   ],
   "source": [
    "year=2024\n",
    "if(year%4==0):\n",
    "    print(\"leap year\")\n",
    "else:\n",
    "    print(\"not a leap year\")"
   ]
  },
  {
   "cell_type": "markdown",
   "metadata": {},
   "source": [
    "85. WAP to find out the greatest of two numbers and display the greatest number.if the\n",
    "greatest number, display the greatest message with value.\n"
   ]
  },
  {
   "cell_type": "code",
   "execution_count": 50,
   "metadata": {},
   "outputs": [
    {
     "name": "stdout",
     "output_type": "stream",
     "text": [
      "67 greater than 56\n"
     ]
    }
   ],
   "source": [
    "a=56\n",
    "b=67\n",
    "if(a>b):\n",
    "    print(a,\"greater than\",b)\n",
    "else:\n",
    "    print(b,\"greater than\",a)\n"
   ]
  },
  {
   "cell_type": "markdown",
   "metadata": {},
   "source": [
    "86. WAP to check whether the given value is present inside the given collection or not.if\n",
    "value is present, display the value is available or else the value is not present.\n"
   ]
  },
  {
   "cell_type": "code",
   "execution_count": 52,
   "metadata": {},
   "outputs": [
    {
     "name": "stdout",
     "output_type": "stream",
     "text": [
      "Value is NOT available\n"
     ]
    }
   ],
   "source": [
    "a='g'\n",
    "c=['a','s','f','h','o','k']\n",
    "if(a==c):\n",
    "    print( \"Value is available\")\n",
    "else:\n",
    "    print( \"Value is NOT available\")\n"
   ]
  },
  {
   "cell_type": "markdown",
   "metadata": {},
   "source": [
    "87. WAP whether a given string, if string length is more than 2, then it displays a new\n",
    "string with the first and last characters switched, otherwise the display the 3 copies\n",
    "of given string.\n"
   ]
  },
  {
   "cell_type": "code",
   "execution_count": 65,
   "metadata": {},
   "outputs": [
    {
     "name": "stdout",
     "output_type": "stream",
     "text": [
      "s ango m\n"
     ]
    }
   ],
   "source": [
    "s=\"mangos\"\n",
    "if(len(s)%2==0):\n",
    "    print(s[-1],s[1:-1:],s[0])\n",
    "else:\n",
    "    print(s*3)"
   ]
  },
  {
   "cell_type": "markdown",
   "metadata": {},
   "source": [
    "88. WAP to check whether a given value is a list and first and last values should be\n",
    "integer,if condition is satisfied first value is true division by 3 and perform the\n",
    "bitwise not for last value and those result values are stored in same positions in list\n",
    "or else, to perform length of the collection power 2 and display it.\n"
   ]
  },
  {
   "cell_type": "code",
   "execution_count": null,
   "metadata": {},
   "outputs": [],
   "source": [
    "l=[1,2,3]\n",
    "if((type(l)==list)and(type(l[0]andl[-1])==int)):\n",
    "    \n"
   ]
  },
  {
   "cell_type": "markdown",
   "metadata": {},
   "source": [
    "89. WAP to check whether a given value is a string or not and length of the value should\n",
    "be more than 7, if condition is satisfied to append the new string in the middle of the\n",
    "given string or else to perform the replications with 3 and display the result.\n"
   ]
  },
  {
   "cell_type": "code",
   "execution_count": null,
   "metadata": {},
   "outputs": [],
   "source": []
  },
  {
   "cell_type": "markdown",
   "metadata": {},
   "source": [
    "90. WAP to check if the given string of first and second character should be sequence or\n",
    "not. if the sequence prints the first,second and last two characters, or else the first\n",
    "half string is reversed and the remaining half string should be normal and display it.\n"
   ]
  },
  {
   "cell_type": "code",
   "execution_count": 64,
   "metadata": {},
   "outputs": [
    {
     "ename": "SyntaxError",
     "evalue": "incomplete input (1395059156.py, line 7)",
     "output_type": "error",
     "traceback": [
      "\u001b[1;36m  Cell \u001b[1;32mIn[64], line 7\u001b[1;36m\u001b[0m\n\u001b[1;33m    \u001b[0m\n\u001b[1;37m    ^\u001b[0m\n\u001b[1;31mSyntaxError\u001b[0m\u001b[1;31m:\u001b[0m incomplete input\n"
     ]
    }
   ],
   "source": [
    "s=\"acdef\"\n",
    "a=ord(s[0])\n",
    "b=ord(s[1])\n",
    "if(a+1==b):\n",
    "    print(s[0],s[1],s[-2::1])\n",
    "else:\n",
    "    "
   ]
  },
  {
   "cell_type": "markdown",
   "metadata": {},
   "source": [
    "91. WAP to check whether a given value is present inside the collection or not. If\n",
    "present, print the value or else print value is not found.\n"
   ]
  },
  {
   "cell_type": "code",
   "execution_count": 66,
   "metadata": {},
   "outputs": [
    {
     "name": "stdout",
     "output_type": "stream",
     "text": [
      "g Value is NOT available\n"
     ]
    }
   ],
   "source": [
    "a='g'\n",
    "c=['a','s','f','h','o','k']\n",
    "if(a==c):\n",
    "    print( a,\"Value is available\")\n",
    "else:\n",
    "    print( a,\"Value is NOT available\")\n"
   ]
  },
  {
   "cell_type": "markdown",
   "metadata": {},
   "source": [
    "92. WAP to check whether a given key is present in the dict or not. if key is present:\n",
    "display the value or else add key and new value inside the dict.\n"
   ]
  },
  {
   "cell_type": "code",
   "execution_count": 75,
   "metadata": {},
   "outputs": [
    {
     "name": "stdout",
     "output_type": "stream",
     "text": [
      "{1: 45, 'a': 'apple', 'm': 678} {1: 56}\n"
     ]
    }
   ],
   "source": [
    "d={1:45,\"a\":\"apple\",\"m\":678}\n",
    "key=1\n",
    "newvalue=56\n",
    "if(key == d):\n",
    "    print(key)\n",
    "else:\n",
    "     print(d,{key:newvalue})\n",
    "    "
   ]
  },
  {
   "cell_type": "markdown",
   "metadata": {},
   "source": [
    "93. WAP to check whether a given collection is set or not.if set, append the new value,\n",
    "or else eliminate the duplicate values in collection. final results should be set type.\n"
   ]
  },
  {
   "cell_type": "code",
   "execution_count": 79,
   "metadata": {},
   "outputs": [
    {
     "name": "stdout",
     "output_type": "stream",
     "text": [
      "{1, 2, 3}\n"
     ]
    }
   ],
   "source": [
    "\n",
    "t1={1,2,2,2,3,3,1}\n",
    "if(type(t1)==set):\n",
    "    print(set(t))"
   ]
  },
  {
   "cell_type": "markdown",
   "metadata": {},
   "source": [
    "94. WAP to read the age of a candidate and determine whether it is eligible for his/her\n",
    "own vote or not.it eligible print age and eligible messages or else print not eligible.\n"
   ]
  },
  {
   "cell_type": "code",
   "execution_count": 80,
   "metadata": {},
   "outputs": [
    {
     "name": "stdout",
     "output_type": "stream",
     "text": [
      "17 Not Eligibile for voting\n"
     ]
    }
   ],
   "source": [
    "age=17\n",
    "if(age>18):\n",
    "    print(age,\"Eligible for voting\")\n",
    "else:\n",
    "    print(age,\"Not Eligibile for voting\")"
   ]
  },
  {
   "cell_type": "markdown",
   "metadata": {},
   "source": [
    "95. WAP to check whether a given value is even and in between 47 to 58 and not in 0 or\n",
    "odd. if condition is True, to perform display the ascii character.or else to perform\n",
    "floor division with 5 and display it.\n"
   ]
  },
  {
   "cell_type": "code",
   "execution_count": 81,
   "metadata": {},
   "outputs": [
    {
     "name": "stdout",
     "output_type": "stream",
     "text": [
      "11\n"
     ]
    }
   ],
   "source": [
    "v=57\n",
    "e=v%2==0\n",
    "c1=(v!=0)or(v%2!=1)\n",
    "if(e and 47<v<58 and c1):\n",
    "    print(chr(v))\n",
    "else:\n",
    "    print(v//5)"
   ]
  },
  {
   "cell_type": "markdown",
   "metadata": {},
   "source": [
    "96. WAP to check whether the given string is palindrome or not if it is a palindrome\n",
    "string palindrome along with the string if it is not a palindrome print not palindrome\n"
   ]
  },
  {
   "cell_type": "code",
   "execution_count": 91,
   "metadata": {},
   "outputs": [
    {
     "name": "stdout",
     "output_type": "stream",
     "text": [
      "string is palindrom\n"
     ]
    }
   ],
   "source": [
    "s=\"soos\"\n",
    "r=s[::-1]\n",
    "if(r==s):\n",
    "    print(\"string is palindrom\")\n",
    "else:\n",
    "     print(\"string is not a palindrom\")\n",
    "    "
   ]
  },
  {
   "cell_type": "markdown",
   "metadata": {},
   "source": [
    "97. WAP to check whether a given number is palindrome or not. If palindrome, display\n",
    "the given value as a palindrome or else not a palindrome.\n"
   ]
  },
  {
   "cell_type": "code",
   "execution_count": 103,
   "metadata": {},
   "outputs": [
    {
     "name": "stdout",
     "output_type": "stream",
     "text": [
      "8008 given number is palindrom\n"
     ]
    }
   ],
   "source": [
    "s=str(8008)\n",
    "r=s[::-1]\n",
    "if(s==r):\n",
    "    print(s,\"given number is palindrom\")\n",
    "else:\n",
    "     print(s,\"given number is not a palindrom\")"
   ]
  },
  {
   "cell_type": "markdown",
   "metadata": {},
   "source": [
    "98. WAP to check length of both string collections equal or not if both are equal print\n",
    "the concat the two strings and display, or else if any one of the collection not equal\n",
    "print both the collections with lengths\n"
   ]
  },
  {
   "cell_type": "code",
   "execution_count": 105,
   "metadata": {},
   "outputs": [
    {
     "name": "stdout",
     "output_type": "stream",
     "text": [
      "hie! lenght 4\n",
      "hello lenght 5\n"
     ]
    }
   ],
   "source": [
    "s1=\"hie!\"\n",
    "s2=\"hello\"\n",
    "if(len(s1)== len(s2)):\n",
    "    print(s1+s2)\n",
    "else:\n",
    "    print(s1,\"lenght\", len(s1))\n",
    "    print(s2,\"lenght\", len(s2))"
   ]
  },
  {
   "cell_type": "markdown",
   "metadata": {},
   "source": [
    "99. WAP to check whether both given values point to the same memory location or not.\n",
    "if it is true print the middle item of the second collection, or else if it is false print the\n",
    "first item and last item of the first collection along with the memory address.\n"
   ]
  },
  {
   "cell_type": "markdown",
   "metadata": {},
   "source": [
    "100. WAP to check whether a given string collection is more than ten, and the first + last\n",
    "character of the ascii values should be divisible by 5, if condition is satisfied print\n",
    "first,middle,last characters ASCII values or else print the string three times.\n"
   ]
  },
  {
   "cell_type": "markdown",
   "metadata": {},
   "source": [
    "101. WAP to check whether the middle of the item present in the list is string data type or\n",
    "not if it is string print that list or else if it is not string then print that middle item.\n"
   ]
  },
  {
   "cell_type": "markdown",
   "metadata": {},
   "source": [
    "102. WAP Given a string, return a new string where the first and last characters have\n",
    "been exchanged.\n"
   ]
  },
  {
   "cell_type": "markdown",
   "metadata": {},
   "source": [
    "103. Write a program to find out such numbers which are divisible by 7 but are not a\n",
    "multiple of 5. Both the conditional are satisfied and print actual value. if one\n",
    "condition is not satisfied actual number is multiply by 4 and print result\n"
   ]
  },
  {
   "cell_type": "markdown",
   "metadata": {},
   "source": [
    "104. WAP to check whether two values are pointing to the same memory address or not.\n",
    "If the same memory displays the address or else displays the two values addresses.\n"
   ]
  },
  {
   "cell_type": "markdown",
   "metadata": {},
   "source": [
    "105. WAP to check whether a given input character is a special symbol or not if it is a\n",
    "special symbol then print that character three times and tell print that character 5\n",
    "times.\n"
   ]
  },
  {
   "cell_type": "markdown",
   "metadata": {},
   "source": [
    "106. WAP to check length of both string collections equal or not if it is equal print the\n",
    "connection of any one of the collections if it is not equal print both the collection.\n",
    "\n"
   ]
  },
  {
   "cell_type": "markdown",
   "metadata": {},
   "source": [
    "107. WAP To check whether both input variables point to the same memory location or\n",
    "not if it is true print the last item of the second collection, if it is false print the first\n",
    "item of the first collection along with the memory address.\n"
   ]
  },
  {
   "cell_type": "markdown",
   "metadata": {},
   "source": [
    "108. WAP to print the string collection five times when the length of the string collection\n",
    "should be more than 3 and the middle character of the string should be vowel and\n",
    "the first character ASCII value should be even, to print the previous character of\n",
    "middle character, or else if ASCII value is odd then print the string three times as\n",
    "print that string.\n"
   ]
  },
  {
   "cell_type": "markdown",
   "metadata": {},
   "source": [
    "109. Ravi would like to buy a new cello or red pen. The cost of the pen should be 10. If\n",
    "the pen is available in the shop, he will buy the pen. If it is not there he will come out\n",
    "of the shop."
   ]
  },
  {
   "cell_type": "markdown",
   "metadata": {},
   "source": [
    "110. WAP to perform addition and subtraction operation by using list collection if the first\n",
    "and middle data items number are even performing addition operation, or else\n",
    "performing subtraction.\n"
   ]
  },
  {
   "cell_type": "markdown",
   "metadata": {},
   "source": [
    "111. WAP to check whether the first item of these two lists is either integer or not. If\n",
    "it is an integer, concatenate these two lists or else print the memory address of\n",
    "these two lists."
   ]
  },
  {
   "cell_type": "code",
   "execution_count": null,
   "metadata": {},
   "outputs": [],
   "source": []
  },
  {
   "cell_type": "code",
   "execution_count": null,
   "metadata": {},
   "outputs": [],
   "source": []
  },
  {
   "cell_type": "markdown",
   "metadata": {},
   "source": [
    "112. WAP to Cw a given num is +ve, -ve ,or zero with i/p from user"
   ]
  },
  {
   "cell_type": "code",
   "execution_count": 67,
   "metadata": {},
   "outputs": [
    {
     "name": "stdout",
     "output_type": "stream",
     "text": [
      "0  is a ZERO\n"
     ]
    }
   ],
   "source": [
    "a=int(input(\"Enter any nummber to if it a +ve, -ve ,or zero: \"))\n",
    "if(a>0):\n",
    "    print(a, \" is a +ve num\")\n",
    "elif(a<0):\n",
    "    print(a, \" is a -ve num\")\n",
    "else:\n",
    "    print(a, \" is a ZERO\")"
   ]
  },
  {
   "cell_type": "markdown",
   "metadata": {},
   "source": [
    "113. WAP to cw given character is upper case / lower case / digit/ special symbol"
   ]
  },
  {
   "cell_type": "code",
   "execution_count": 68,
   "metadata": {},
   "outputs": [
    {
     "name": "stdout",
     "output_type": "stream",
     "text": [
      "* Special symbol\n"
     ]
    }
   ],
   "source": [
    "a=input(\"Enter any character: \")\n",
    "if('A'<=a<='Z'):\n",
    "    print(a,\"is an upper case \")\n",
    "elif('a'<=a<='z'):\n",
    "    print(a,\"is an lower case \")\n",
    "elif('0'<=a<='9'):\n",
    "    print(a,\"is an digit/number \")\n",
    "else:\n",
    "    print(a, \"Special symbol\")"
   ]
  },
  {
   "cell_type": "markdown",
   "metadata": {},
   "source": [
    "114. WAP to CW given num is divisible by 3& 5. if num divisible by 3 print \"fizz\" ,if num divisible by 5 print \"bizz\" , if it is divisible by both print \"fizzbizz\"."
   ]
  },
  {
   "cell_type": "code",
   "execution_count": 69,
   "metadata": {},
   "outputs": [
    {
     "name": "stdout",
     "output_type": "stream",
     "text": [
      "15  fizz\n"
     ]
    }
   ],
   "source": [
    "a=int(input(\"Enter any nummber : \"))\n",
    "if(a%3==0):\n",
    "    print(a, \" fizz\")\n",
    "elif(a%5==0):\n",
    "    print(a, \" bizz\")\n",
    "elif(a%3 and a%5==0):\n",
    "    print(a, \" fizzbizz\")"
   ]
  },
  {
   "cell_type": "markdown",
   "metadata": {},
   "source": [
    "115. WAp to find out the relationship b/w two values & display the relationship"
   ]
  },
  {
   "cell_type": "code",
   "execution_count": null,
   "metadata": {},
   "outputs": [],
   "source": []
  },
  {
   "cell_type": "markdown",
   "metadata": {},
   "source": [
    "116. WAP to CW if given num is 1 digit / 2 digit / 3 digit /more than 3 digits\n",
    "\n",
    "if 1-digit -display one digit value \n",
    "\n",
    "if 2-digit -display two digit value \n",
    "\n",
    "if 3-digit -display three digit value\n",
    "\n",
    "if n-digit -display n digit value  "
   ]
  },
  {
   "cell_type": "code",
   "execution_count": 73,
   "metadata": {},
   "outputs": [
    {
     "name": "stdout",
     "output_type": "stream",
     "text": [
      "8907 - more than three digit value \n"
     ]
    }
   ],
   "source": [
    "a=input(\"Enter any nummber : \")\n",
    "if(len(a)==1):\n",
    "    print(a,\"-one digit value \")\n",
    "elif(len(a)==2):\n",
    "    print(a,\"- two digit value \")\n",
    "elif(len(a)==3):\n",
    "    print(a, \"- three digit value \")\n",
    "else:\n",
    "    print(a, \"- more than three digit value \")"
   ]
  },
  {
   "cell_type": "markdown",
   "metadata": {},
   "source": [
    "117. wap to cw given character is an alphabet or ascii number or special charater or invalid . \n",
    "\n",
    "if alphabet , display alphabet with charater\n",
    "\n",
    "or elif ascii number then display ascii number with charater \n",
    "\n",
    "or else display the special character with charater"
   ]
  },
  {
   "cell_type": "code",
   "execution_count": 57,
   "metadata": {},
   "outputs": [
    {
     "name": "stdout",
     "output_type": "stream",
     "text": [
      "ASCII NUMBER {\n"
     ]
    }
   ],
   "source": [
    "s=\"123\"\n",
    "if('A'<=s<='Z' or 'a'<=s<='z'):\n",
    "    print(\"Alphabet\",s)\n",
    "elif(0<=(int(s))<=127):\n",
    "    print(\"ASCII NUMBER\", chr(int(s)))\n",
    "else:\n",
    "    print(\"special charater\",s)"
   ]
  },
  {
   "cell_type": "markdown",
   "metadata": {},
   "source": [
    "118.WAP to accept number between 1-5 & display that number in word form "
   ]
  },
  {
   "cell_type": "code",
   "execution_count": 65,
   "metadata": {},
   "outputs": [
    {
     "name": "stdout",
     "output_type": "stream",
     "text": [
      "five\n"
     ]
    }
   ],
   "source": [
    "s=input(\"Enter any num from 1-5 to convert into words : \")\n",
    "if(s==1):\n",
    "    print(\"one\")\n",
    "elif(s==2):\n",
    "    print(\"two\")\n",
    "elif(s==3):\n",
    "    print(\"three\")\n",
    "elif(s==4):\n",
    "    print(\"four\")\n",
    "else:\n",
    "    print(\"five\")"
   ]
  },
  {
   "cell_type": "markdown",
   "metadata": {},
   "source": [
    "119. WAP to cw the given i/p is upper case /lower case/number/special symbol & display with a message:\n"
   ]
  },
  {
   "cell_type": "code",
   "execution_count": 64,
   "metadata": {},
   "outputs": [
    {
     "name": "stdout",
     "output_type": "stream",
     "text": [
      "67 is an digit/number \n"
     ]
    }
   ],
   "source": [
    "a=input(\"Enter any character: \")\n",
    "if('A'<=a<='Z'):\n",
    "    print(a,\"is an upper case \")\n",
    "elif('a'<=a<='z'):\n",
    "    print(a,\"is an lower case \")\n",
    "elif('0'<=a<='9'):\n",
    "    print(a,\"is an digit/number \")\n",
    "else:\n",
    "    print(a, \"Special symbol\")"
   ]
  },
  {
   "cell_type": "markdown",
   "metadata": {},
   "source": [
    "120. \n"
   ]
  },
  {
   "cell_type": "code",
   "execution_count": null,
   "metadata": {},
   "outputs": [],
   "source": []
  },
  {
   "cell_type": "markdown",
   "metadata": {},
   "source": [
    "121. wap to cw given charater is an lower case /upper case /numeric /special charater & display the type of case is."
   ]
  },
  {
   "cell_type": "code",
   "execution_count": 66,
   "metadata": {},
   "outputs": [
    {
     "name": "stdout",
     "output_type": "stream",
     "text": [
      "special character <class 'str'>\n"
     ]
    }
   ],
   "source": [
    "a='#'\n",
    "if('A'<=s<='Z'):\n",
    "    print(a,\"Upper case\",type(a))\n",
    "elif('a'<=s<='z'):\n",
    "    print(a,\"Lower case\",type(a))\n",
    "elif('0'<=a<='9'):\n",
    "    print(a,\"numeric\",type(a))\n",
    "else:\n",
    "    print(\"special character\",type(a))"
   ]
  },
  {
   "cell_type": "markdown",
   "metadata": {},
   "source": [
    "122.WAP to cw the given percentage is which grade & display the grade \n",
    "\n",
    "NOTE: 1st grade/2nd grade/ 3rd grade / FAIL\n"
   ]
  },
  {
   "cell_type": "code",
   "execution_count": 61,
   "metadata": {},
   "outputs": [
    {
     "name": "stdout",
     "output_type": "stream",
     "text": [
      "78 2nd grade\n"
     ]
    }
   ],
   "source": [
    "g=int(input(\"Enter a grade/Percentage :\"))\n",
    "if(g>=95):\n",
    "    print(g,\"1st grade\")\n",
    "elif(75<=g<=94):\n",
    "    print(g,\"2nd grade\")\n",
    "elif(60<=g<=74):\n",
    "    print(g,\"3rd grade\")\n",
    "else:\n",
    "    print(\"FAILD\")"
   ]
  },
  {
   "cell_type": "markdown",
   "metadata": {},
   "source": [
    "123. WAP to perform the arthmetic operations depend on the users"
   ]
  },
  {
   "cell_type": "code",
   "execution_count": 74,
   "metadata": {},
   "outputs": [
    {
     "name": "stdout",
     "output_type": "stream",
     "text": [
      "Power:  4 ** 3 = 64\n"
     ]
    }
   ],
   "source": [
    "a=int(input(\"Enter 1st num:\"))   \n",
    "b=int(input(\"Enter 2nd num:\"))  \n",
    "c=input(\"enter the operation to be perform + - //  / % * **:\")\n",
    "if(c=='+'):\n",
    "    print(\"Addition : \",a,\"+\",b,\"=\",a+b)\n",
    "elif(c=='-'):\n",
    "    print(\"subtraction : \",a,\"-\",b,\"=\",a-b)\n",
    "elif(c=='//'):\n",
    "    print(\"Floor division : \",a,\"//\",b,\"=\",a//b)\n",
    "elif(c=='/'):\n",
    "    print(\"division : \",a,\"/\",b,\"=\",a/b)\n",
    "elif(c=='%'):\n",
    "    print(\"Modulus : \",a,\"%\",b,\"=\",a%b)\n",
    "elif(c=='*'):\n",
    "    print(\"Multiplcationn : \",a,\"*\",b,\"=\",a*b)\n",
    "else:\n",
    "    print(\"Power: \",a,\"**\",b,\"=\",a**b)"
   ]
  },
  {
   "cell_type": "markdown",
   "metadata": {},
   "source": [
    "124&116 are same"
   ]
  },
  {
   "cell_type": "markdown",
   "metadata": {},
   "source": [
    "125. WAP to Cw a given collection is a list/ tuple/ string/set\n",
    "\n",
    "if-list- append the new value in the middle of the list\n",
    "\n",
    "if-tuple-append new value at the starting of the tuple\n",
    "\n",
    "if-set-append new value in set\n",
    "\n",
    "else-a new key as given character  and value -its ASCII value with character"
   ]
  },
  {
   "cell_type": "code",
   "execution_count": 130,
   "metadata": {},
   "outputs": [
    {
     "name": "stdout",
     "output_type": "stream",
     "text": [
      "('h', 1, 2)\n"
     ]
    }
   ],
   "source": [
    "a=(1,2)  # input(\"enter the collection of elemnts (,,) [,,,] {,,} {:}  : \")\n",
    "nv='h'   # input(\"Enter any charater need to be added :\")\n",
    "if(type(a)==list):\n",
    "    m_i=len(a)//2\n",
    "    a=a[:m_i:]+[nv]+a[m_i::]\n",
    "    print(a)\n",
    "elif(type(a)==tuple):\n",
    "    a=(nv,)+ a[0::1]\n",
    "    print(a)\n",
    "elif(type(a)==set):\n",
    "    print({nv} | a)\n",
    "else:\n",
    "    a=({nv:ord(nv)}|a[0::])\n",
    "    print(a)\n"
   ]
  },
  {
   "cell_type": "markdown",
   "metadata": {},
   "source": [
    "126. WAP to CW a given value is  int/ float/string/ other,\n",
    "\n",
    "if int - given value division by 5 & display the quotient\n",
    "\n",
    "if float - perform the bitwise operation or operation with 15\n",
    "\n",
    "if string - extract last position value & store it in first position of string\n",
    "\n",
    "else store the value in list & display result"
   ]
  },
  {
   "cell_type": "code",
   "execution_count": 16,
   "metadata": {},
   "outputs": [
    {
     "name": "stdout",
     "output_type": "stream",
     "text": [
      "list[[1, 2, 3], 12]\n"
     ]
    }
   ],
   "source": [
    "a= [1,2,3],(12)\n",
    "if(type(a)==int):\n",
    "    print(a//5)\n",
    "elif(type(a)==float):\n",
    "    print(int(a)|15)\n",
    "elif(type(a)==str):\n",
    "    a=a[-1]+a[0:-1:]\n",
    "    print(a)\n",
    "else:\n",
    "    a=list[a]\n",
    "    print(a)\n"
   ]
  },
  {
   "cell_type": "markdown",
   "metadata": {},
   "source": [
    "127. WAP to CW the given chracter is upper case or ascii value \n",
    "\n",
    "if- upper case - convert to lower case & concatenate next charater of given character\n",
    "\n",
    "or\n",
    "\n",
    "if -ascii value-convert ascii value & subtract that ascii value by 6 then finally convert value into the ascii character & display the value\n",
    "\n",
    "else- display Invalid input"
   ]
  },
  {
   "cell_type": "code",
   "execution_count": 59,
   "metadata": {},
   "outputs": [
    {
     "name": "stdout",
     "output_type": "stream",
     "text": [
      "v\n"
     ]
    }
   ],
   "source": [
    "a='124'\n",
    "if('A'<=a<='Z'):\n",
    "    l=a.lower()\n",
    "    n=ord(l)+1\n",
    "    add=l+chr(n)\n",
    "    print(add)\n",
    "elif('0'<=a<='127'):\n",
    "    d=chr(int(a)-6)\n",
    "    print(d)\n",
    "else:\n",
    "    print(\"INVAID INPUT\")\n",
    "   \n"
   ]
  }
 ],
 "metadata": {
  "kernelspec": {
   "display_name": "Python 3",
   "language": "python",
   "name": "python3"
  },
  "language_info": {
   "codemirror_mode": {
    "name": "ipython",
    "version": 3
   },
   "file_extension": ".py",
   "mimetype": "text/x-python",
   "name": "python",
   "nbconvert_exporter": "python",
   "pygments_lexer": "ipython3",
   "version": "3.12.2"
  }
 },
 "nbformat": 4,
 "nbformat_minor": 2
}
