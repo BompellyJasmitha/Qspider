{
 "cells": [
  {
   "cell_type": "markdown",
   "metadata": {},
   "source": [
    "1. WAP to check whether a number is positive. If Positive, print a message Positive.\n"
   ]
  },
  {
   "cell_type": "code",
   "execution_count": 79,
   "metadata": {},
   "outputs": [
    {
     "name": "stdout",
     "output_type": "stream",
     "text": [
      "4 number is +ve \n"
     ]
    }
   ],
   "source": [
    "num=4\n",
    "if(num>0):\n",
    "    print(num,\"number is +ve \")"
   ]
  },
  {
   "cell_type": "markdown",
   "metadata": {},
   "source": [
    "2. WAP to display hello world if the number is greater than 1 and lesser than 5\n"
   ]
  },
  {
   "cell_type": "code",
   "execution_count": 80,
   "metadata": {},
   "outputs": [
    {
     "name": "stdout",
     "output_type": "stream",
     "text": [
      "hello world\n"
     ]
    }
   ],
   "source": [
    "num=3\n",
    "if(num>1)and(num<5):\n",
    "    print(\"hello world\")"
   ]
  },
  {
   "cell_type": "markdown",
   "metadata": {},
   "source": [
    "3. WAP to check whether the given number is divisible by 3 or not if print fizz.\n"
   ]
  },
  {
   "cell_type": "code",
   "execution_count": 81,
   "metadata": {},
   "outputs": [
    {
     "name": "stdout",
     "output_type": "stream",
     "text": [
      "fizz\n"
     ]
    }
   ],
   "source": [
    "num=9\n",
    "if(num%3==0):\n",
    "    print(\"fizz\")"
   ]
  },
  {
   "cell_type": "markdown",
   "metadata": {},
   "source": [
    "4. WAP to check whether given input is divisible by 2 and 6. If the condition is\n",
    "satisfied, convert the given number into a complex number.\n"
   ]
  },
  {
   "cell_type": "code",
   "execution_count": 82,
   "metadata": {},
   "outputs": [
    {
     "name": "stdout",
     "output_type": "stream",
     "text": [
      "(12+0j)\n"
     ]
    }
   ],
   "source": [
    "num=12\n",
    "if(num%2==0 and num%6==0):\n",
    "    print(complex(num))"
   ]
  },
  {
   "cell_type": "markdown",
   "metadata": {},
   "source": [
    "5. WAP to check whether a given input is divisible by 3 or 5. If the condition is\n",
    "satisfied, the number is converted to a list.\n",
    "\n",
    "\n",
    "i/p: 30\n",
    "\n",
    "o/p:[‘3’,’0’]"
   ]
  },
  {
   "cell_type": "code",
   "execution_count": 83,
   "metadata": {},
   "outputs": [
    {
     "name": "stdout",
     "output_type": "stream",
     "text": [
      "[3, 0]\n"
     ]
    }
   ],
   "source": [
    "num=30\n",
    "if(num%3==0 and num%5==0):\n",
    "    print(list(map(int,str(num))))"
   ]
  },
  {
   "cell_type": "markdown",
   "metadata": {},
   "source": [
    "6. Write a program to check whether a given number is multiple of 5 or not"
   ]
  },
  {
   "cell_type": "code",
   "execution_count": 84,
   "metadata": {},
   "outputs": [
    {
     "name": "stdout",
     "output_type": "stream",
     "text": [
      "multiple of 5\n"
     ]
    }
   ],
   "source": [
    "num=25\n",
    "if(num%5==0):\n",
    "    print(\"multiple of 5\")"
   ]
  },
  {
   "cell_type": "markdown",
   "metadata": {},
   "source": [
    "7. WAP to check whether the given input is 0 or not if 0 prints 0."
   ]
  },
  {
   "cell_type": "code",
   "execution_count": 85,
   "metadata": {},
   "outputs": [
    {
     "name": "stdout",
     "output_type": "stream",
     "text": [
      "0\n"
     ]
    }
   ],
   "source": [
    "num=0\n",
    "if(num==0):\n",
    "    print(0)"
   ]
  },
  {
   "cell_type": "markdown",
   "metadata": {},
   "source": [
    "8. WAP to check whether a number is negative. If negative, print a message negative."
   ]
  },
  {
   "cell_type": "code",
   "execution_count": 86,
   "metadata": {},
   "outputs": [
    {
     "name": "stdout",
     "output_type": "stream",
     "text": [
      "number is -ve \n"
     ]
    }
   ],
   "source": [
    "num=-2\n",
    "if(num<0):\n",
    "    print(\"number is -ve \")"
   ]
  },
  {
   "cell_type": "markdown",
   "metadata": {},
   "source": [
    "9. WAP to check whether a number is even or not. If even, store the value inside the\n",
    "list."
   ]
  },
  {
   "cell_type": "code",
   "execution_count": 87,
   "metadata": {},
   "outputs": [
    {
     "name": "stdout",
     "output_type": "stream",
     "text": [
      "[2, 3, 4]\n"
     ]
    }
   ],
   "source": [
    "num=234\n",
    "if(num%2==0):\n",
    "    a=list(map(int,str(num)))\n",
    "    print(a)\n"
   ]
  },
  {
   "cell_type": "markdown",
   "metadata": {},
   "source": [
    "10. WAP to check whether a number is odd or not. If odd, store the value inside the\n",
    "tuple.\n"
   ]
  },
  {
   "cell_type": "code",
   "execution_count": 88,
   "metadata": {},
   "outputs": [
    {
     "name": "stdout",
     "output_type": "stream",
     "text": [
      "(2, 3, 4)\n"
     ]
    }
   ],
   "source": [
    "#10\n",
    "\n",
    "num=234\n",
    "if(num%2==0):\n",
    "    a=tuple(map(int,str(num)))\n",
    "    print(a)"
   ]
  },
  {
   "cell_type": "markdown",
   "metadata": {},
   "source": [
    "11. WAP to check if the given number is even or not. if it is yes, to print the power of 4 in a given number.\n"
   ]
  },
  {
   "cell_type": "code",
   "execution_count": 89,
   "metadata": {},
   "outputs": [
    {
     "name": "stdout",
     "output_type": "stream",
     "text": [
      "1099511627776\n"
     ]
    }
   ],
   "source": [
    "num=20\n",
    "if(num%2==0):\n",
    "    print(4**num)"
   ]
  },
  {
   "cell_type": "markdown",
   "metadata": {},
   "source": [
    "12. WAP to take the input from the user as a number and check whether it is a number\n",
    "or not. if yes. take the number and add some value and print it.\n"
   ]
  },
  {
   "cell_type": "code",
   "execution_count": 90,
   "metadata": {},
   "outputs": [
    {
     "ename": "KeyboardInterrupt",
     "evalue": "Interrupted by user",
     "output_type": "error",
     "traceback": [
      "\u001b[1;31m---------------------------------------------------------------------------\u001b[0m",
      "\u001b[1;31mKeyboardInterrupt\u001b[0m                         Traceback (most recent call last)",
      "Cell \u001b[1;32mIn[90], line 1\u001b[0m\n\u001b[1;32m----> 1\u001b[0m a\u001b[38;5;241m=\u001b[39m\u001b[38;5;28mint\u001b[39m(\u001b[38;5;28;43minput\u001b[39;49m\u001b[43m(\u001b[49m\u001b[38;5;124;43m\"\u001b[39;49m\u001b[38;5;124;43mEnter a num:\u001b[39;49m\u001b[38;5;124;43m\"\u001b[39;49m\u001b[43m)\u001b[49m)\n\u001b[0;32m      2\u001b[0m \u001b[38;5;28;01mif\u001b[39;00m((a\u001b[38;5;241m<\u001b[39m\u001b[38;5;241m=\u001b[39m\u001b[38;5;241m0\u001b[39m) \u001b[38;5;129;01mand\u001b[39;00m(a\u001b[38;5;241m<\u001b[39m\u001b[38;5;241m0\u001b[39m)):\n\u001b[0;32m      3\u001b[0m     \u001b[38;5;28mprint\u001b[39m(\u001b[38;5;124m\"\u001b[39m\u001b[38;5;124mgiven num is\u001b[39m\u001b[38;5;124m\"\u001b[39m,a, \u001b[38;5;124m\"\u001b[39m\u001b[38;5;124m& sum with 68 is : \u001b[39m\u001b[38;5;124m\"\u001b[39m ,a\u001b[38;5;241m+\u001b[39m\u001b[38;5;241m68\u001b[39m)\n",
      "File \u001b[1;32m~\\AppData\\Roaming\\Python\\Python312\\site-packages\\ipykernel\\kernelbase.py:1270\u001b[0m, in \u001b[0;36mKernel.raw_input\u001b[1;34m(self, prompt)\u001b[0m\n\u001b[0;32m   1268\u001b[0m     msg \u001b[38;5;241m=\u001b[39m \u001b[38;5;124m\"\u001b[39m\u001b[38;5;124mraw_input was called, but this frontend does not support input requests.\u001b[39m\u001b[38;5;124m\"\u001b[39m\n\u001b[0;32m   1269\u001b[0m     \u001b[38;5;28;01mraise\u001b[39;00m StdinNotImplementedError(msg)\n\u001b[1;32m-> 1270\u001b[0m \u001b[38;5;28;01mreturn\u001b[39;00m \u001b[38;5;28;43mself\u001b[39;49m\u001b[38;5;241;43m.\u001b[39;49m\u001b[43m_input_request\u001b[49m\u001b[43m(\u001b[49m\n\u001b[0;32m   1271\u001b[0m \u001b[43m    \u001b[49m\u001b[38;5;28;43mstr\u001b[39;49m\u001b[43m(\u001b[49m\u001b[43mprompt\u001b[49m\u001b[43m)\u001b[49m\u001b[43m,\u001b[49m\n\u001b[0;32m   1272\u001b[0m \u001b[43m    \u001b[49m\u001b[38;5;28;43mself\u001b[39;49m\u001b[38;5;241;43m.\u001b[39;49m\u001b[43m_parent_ident\u001b[49m\u001b[43m[\u001b[49m\u001b[38;5;124;43m\"\u001b[39;49m\u001b[38;5;124;43mshell\u001b[39;49m\u001b[38;5;124;43m\"\u001b[39;49m\u001b[43m]\u001b[49m\u001b[43m,\u001b[49m\n\u001b[0;32m   1273\u001b[0m \u001b[43m    \u001b[49m\u001b[38;5;28;43mself\u001b[39;49m\u001b[38;5;241;43m.\u001b[39;49m\u001b[43mget_parent\u001b[49m\u001b[43m(\u001b[49m\u001b[38;5;124;43m\"\u001b[39;49m\u001b[38;5;124;43mshell\u001b[39;49m\u001b[38;5;124;43m\"\u001b[39;49m\u001b[43m)\u001b[49m\u001b[43m,\u001b[49m\n\u001b[0;32m   1274\u001b[0m \u001b[43m    \u001b[49m\u001b[43mpassword\u001b[49m\u001b[38;5;241;43m=\u001b[39;49m\u001b[38;5;28;43;01mFalse\u001b[39;49;00m\u001b[43m,\u001b[49m\n\u001b[0;32m   1275\u001b[0m \u001b[43m\u001b[49m\u001b[43m)\u001b[49m\n",
      "File \u001b[1;32m~\\AppData\\Roaming\\Python\\Python312\\site-packages\\ipykernel\\kernelbase.py:1313\u001b[0m, in \u001b[0;36mKernel._input_request\u001b[1;34m(self, prompt, ident, parent, password)\u001b[0m\n\u001b[0;32m   1310\u001b[0m \u001b[38;5;28;01mexcept\u001b[39;00m \u001b[38;5;167;01mKeyboardInterrupt\u001b[39;00m:\n\u001b[0;32m   1311\u001b[0m     \u001b[38;5;66;03m# re-raise KeyboardInterrupt, to truncate traceback\u001b[39;00m\n\u001b[0;32m   1312\u001b[0m     msg \u001b[38;5;241m=\u001b[39m \u001b[38;5;124m\"\u001b[39m\u001b[38;5;124mInterrupted by user\u001b[39m\u001b[38;5;124m\"\u001b[39m\n\u001b[1;32m-> 1313\u001b[0m     \u001b[38;5;28;01mraise\u001b[39;00m \u001b[38;5;167;01mKeyboardInterrupt\u001b[39;00m(msg) \u001b[38;5;28;01mfrom\u001b[39;00m \u001b[38;5;28;01mNone\u001b[39;00m\n\u001b[0;32m   1314\u001b[0m \u001b[38;5;28;01mexcept\u001b[39;00m \u001b[38;5;167;01mException\u001b[39;00m:\n\u001b[0;32m   1315\u001b[0m     \u001b[38;5;28mself\u001b[39m\u001b[38;5;241m.\u001b[39mlog\u001b[38;5;241m.\u001b[39mwarning(\u001b[38;5;124m\"\u001b[39m\u001b[38;5;124mInvalid Message:\u001b[39m\u001b[38;5;124m\"\u001b[39m, exc_info\u001b[38;5;241m=\u001b[39m\u001b[38;5;28;01mTrue\u001b[39;00m)\n",
      "\u001b[1;31mKeyboardInterrupt\u001b[0m: Interrupted by user"
     ]
    }
   ],
   "source": [
    "a=int(input(\"Enter a num:\"))\n",
    "if((a<=0) and(a<0)):\n",
    "    print(\"given num is\",a, \"& sum with 68 is : \" ,a+68)"
   ]
  },
  {
   "cell_type": "markdown",
   "metadata": {},
   "source": [
    "13. WAP to check whether a given value is divisible by 5 and 7. If the value is\n",
    "divisible,to display the square of the values."
   ]
  },
  {
   "cell_type": "code",
   "execution_count": null,
   "metadata": {},
   "outputs": [
    {
     "name": "stdout",
     "output_type": "stream",
     "text": [
      "1225\n"
     ]
    }
   ],
   "source": [
    "num=35\n",
    "if (num%5==0) and(num%7==0):\n",
    "    print(num**2)"
   ]
  },
  {
   "cell_type": "markdown",
   "metadata": {},
   "source": [
    "14. WAP to check whether the given value's last digit is greater than 5 or not.if greater,to perform the bitwise right shift operator (skipping value is 2)\n"
   ]
  },
  {
   "cell_type": "code",
   "execution_count": null,
   "metadata": {},
   "outputs": [
    {
     "name": "stdout",
     "output_type": "stream",
     "text": [
      "skipp value 2\n"
     ]
    }
   ],
   "source": [
    "num=27\n",
    "ld=num%10\n",
    "if(ld>5):\n",
    "    print(\"skipp value 2\")"
   ]
  },
  {
   "cell_type": "markdown",
   "metadata": {},
   "source": [
    "15. WAP to check whether a given value is divisible by 3 and less than 30. If the value is divisible,to display the square of the values.\n"
   ]
  },
  {
   "cell_type": "code",
   "execution_count": null,
   "metadata": {},
   "outputs": [
    {
     "name": "stdout",
     "output_type": "stream",
     "text": [
      "576\n"
     ]
    }
   ],
   "source": [
    "num=24\n",
    "if(num%3==0) and(num<30):\n",
    "    print(num**2)"
   ]
  },
  {
   "cell_type": "markdown",
   "metadata": {},
   "source": [
    "16. WAP to check whether a given value is an even number and divisible by 4. If\n",
    "satisfied ,to display the cube of the values.\n"
   ]
  },
  {
   "cell_type": "code",
   "execution_count": null,
   "metadata": {},
   "outputs": [
    {
     "name": "stdout",
     "output_type": "stream",
     "text": [
      "64\n"
     ]
    }
   ],
   "source": [
    "n=4\n",
    "if (n%2==0) and(n%4==0):\n",
    "    print(n**3)"
   ]
  },
  {
   "cell_type": "markdown",
   "metadata": {},
   "source": [
    "17. WAP to check whether a given value is even or not. If the even number stores the\n",
    "value inside the list.\n"
   ]
  },
  {
   "cell_type": "code",
   "execution_count": null,
   "metadata": {},
   "outputs": [
    {
     "name": "stdout",
     "output_type": "stream",
     "text": [
      "[6, 5, 7, 6]\n"
     ]
    }
   ],
   "source": [
    "num=6576\n",
    "if(num%2==0):\n",
    "    print(list(map(int,str(num))))"
   ]
  },
  {
   "cell_type": "markdown",
   "metadata": {},
   "source": [
    "18. WAP to check whether a given value is a negative or even number. If satisfied ,to\n",
    "display the last digit of the values.\n"
   ]
  },
  {
   "cell_type": "code",
   "execution_count": null,
   "metadata": {},
   "outputs": [
    {
     "name": "stdout",
     "output_type": "stream",
     "text": [
      "4\n",
      "6\n",
      "-14\n",
      "6\n"
     ]
    }
   ],
   "source": [
    "a=-14\n",
    "print(14%10)\n",
    "print(-14%10)\n",
    "if(a<0)or(a%2==0):\n",
    "    print(a)\n",
    "    print(a%10)"
   ]
  },
  {
   "cell_type": "markdown",
   "metadata": {},
   "source": [
    "19. WAP to check whether a given value is a negative or odd number and divisible by 4.\n",
    "If satisfied ,to display the cube of the values.\n"
   ]
  },
  {
   "cell_type": "code",
   "execution_count": null,
   "metadata": {},
   "outputs": [
    {
     "name": "stdout",
     "output_type": "stream",
     "text": [
      "-343\n"
     ]
    }
   ],
   "source": [
    "a=-7\n",
    "if(a<0)or(a%2==1):\n",
    "    print(a**3)"
   ]
  },
  {
   "cell_type": "markdown",
   "metadata": {},
   "source": [
    "20. WAP to check whether a given ascii value is divisible by 4 and even value. If\n",
    "satisfied, to display the ascii character.\n"
   ]
  },
  {
   "cell_type": "code",
   "execution_count": null,
   "metadata": {},
   "outputs": [
    {
     "name": "stdout",
     "output_type": "stream",
     "text": [
      "60\n",
      "D\n",
      "D\n"
     ]
    }
   ],
   "source": [
    "a= 68\n",
    "print(chr(68))\n",
    "if(a%4==0)and(a%2==0):\n",
    "    print(chr(a))"
   ]
  },
  {
   "cell_type": "markdown",
   "metadata": {},
   "source": [
    "21. WAP to check whether a given value is present in between 45 to 125 and the number\n",
    "should be divisible by 4 and 5 and even value. If satisfied, to display the ascii\n",
    "character."
   ]
  },
  {
   "cell_type": "code",
   "execution_count": null,
   "metadata": {},
   "outputs": [
    {
     "name": "stdout",
     "output_type": "stream",
     "text": [
      "<\n"
     ]
    }
   ],
   "source": [
    "a=60\n",
    "b=(a%4==0 and a%5==0)\n",
    "c=(a%2==0)\n",
    "if(45<a<125 and b and c ):\n",
    "    print(chr(a))"
   ]
  },
  {
   "cell_type": "markdown",
   "metadata": {},
   "source": [
    "\n",
    "22. WAP to check whether a given value is present in between 25 to 100 and the number\n",
    "should be divisible by 4 and 5. If satisfied, to display multiplication of given value\n",
    "with 5.\n"
   ]
  },
  {
   "cell_type": "code",
   "execution_count": null,
   "metadata": {},
   "outputs": [
    {
     "name": "stdout",
     "output_type": "stream",
     "text": [
      "300\n"
     ]
    }
   ],
   "source": [
    "a=60\n",
    "b=(a%4==0 and a%5==0)\n",
    "if(25<a<100):\n",
    "    print(a*5)"
   ]
  },
  {
   "cell_type": "markdown",
   "metadata": {},
   "source": [
    "23. WAP to check whether a given number is an integer and odd number. If the\n",
    "condition is satisfied, the integer is divisible by 5 and displays the result.\n"
   ]
  },
  {
   "cell_type": "code",
   "execution_count": 5,
   "metadata": {},
   "outputs": [],
   "source": [
    "a=509\n",
    "if((a<=0 and a>0) and (a%2==1)):\n",
    "    print(a/5)"
   ]
  },
  {
   "cell_type": "markdown",
   "metadata": {},
   "source": [
    "24. WAP to check whether a given value is an integer or not. If integer, the given value\n",
    "is converted to string and displays the result.\n"
   ]
  },
  {
   "cell_type": "code",
   "execution_count": 11,
   "metadata": {},
   "outputs": [],
   "source": [
    "v=45\n",
    "if((a<=0 and a>0)and (a%2==1)):\n",
    "    print((chr(v)))\n",
    "    print(list(map(int,str(num))))"
   ]
  },
  {
   "cell_type": "markdown",
   "metadata": {},
   "source": [
    "25. WAP to check whether a given value is less than 125 and greater than 60 or not. If\n",
    "the condition is satisfied, take the name and extract the middle character and\n",
    "display it."
   ]
  },
  {
   "cell_type": "code",
   "execution_count": null,
   "metadata": {},
   "outputs": [],
   "source": [
    "a=56\n",
    "if(a<125 and 60<a):\n",
    "    "
   ]
  },
  {
   "cell_type": "markdown",
   "metadata": {},
   "source": [
    "26. WAP to check whether a given two integers are equal or not. If both are equal, to\n",
    "perform addition and display the result.\n"
   ]
  },
  {
   "cell_type": "code",
   "execution_count": 13,
   "metadata": {},
   "outputs": [
    {
     "name": "stdout",
     "output_type": "stream",
     "text": [
      "100\n"
     ]
    }
   ],
   "source": [
    "a=50\n",
    "b=50\n",
    "if(a==b):\n",
    "    print(a+b)"
   ]
  },
  {
   "cell_type": "markdown",
   "metadata": {},
   "source": [
    "27. WAP to check whether two values are equal or not. if equal, to perform\n",
    "multiplication of two numbers and that result is division by 3 and display the value.\n",
    "\n"
   ]
  },
  {
   "cell_type": "code",
   "execution_count": 14,
   "metadata": {},
   "outputs": [
    {
     "name": "stdout",
     "output_type": "stream",
     "text": [
      "1\n"
     ]
    }
   ],
   "source": [
    "a=20\n",
    "b=20\n",
    "if(a==b):\n",
    "    c=(a*b)\n",
    "    print(c%3)\n"
   ]
  },
  {
   "cell_type": "markdown",
   "metadata": {},
   "source": [
    "28. WAP to check whether a character is in the alphabet or not. If the alphabet, store the\n",
    "value inside the dict(key as a character and value as an ascii value).\n",
    "\n"
   ]
  },
  {
   "cell_type": "code",
   "execution_count": 85,
   "metadata": {},
   "outputs": [
    {
     "name": "stdout",
     "output_type": "stream",
     "text": [
      "{'a': 97}\n"
     ]
    }
   ],
   "source": [
    "ch='a'\n",
    "if('a'<=ch<='z' or 'A'<=ch<='Z'):\n",
    "    print({ch:ord(ch)})"
   ]
  },
  {
   "cell_type": "markdown",
   "metadata": {},
   "source": [
    "29. WAP to check whether a character is in the uppercase or not. If the uppercase, store\n",
    "the value inside the dict(key as a character and value as an ascii value).\n"
   ]
  },
  {
   "cell_type": "code",
   "execution_count": 86,
   "metadata": {},
   "outputs": [
    {
     "name": "stdout",
     "output_type": "stream",
     "text": [
      "{'D': 68}\n"
     ]
    }
   ],
   "source": [
    "ch='D'\n",
    "if('A'<=ch<='Z'):\n",
    "    print({ch:ord(ch)})"
   ]
  },
  {
   "cell_type": "markdown",
   "metadata": {},
   "source": [
    "30. WAP to check whether a character is in the uppercase or not. If the uppercase,\n",
    "convert to lowercase and store the value inside the dict(character as a key and ascii\n",
    "value as a value).\n"
   ]
  },
  {
   "cell_type": "code",
   "execution_count": 88,
   "metadata": {},
   "outputs": [
    {
     "name": "stdout",
     "output_type": "stream",
     "text": [
      "{'m': 109}\n"
     ]
    }
   ],
   "source": [
    "ch='M'\n",
    "if('A'<=ch<='Z'):\n",
    "    lc=ch.lower()\n",
    "    print({lc:ord(lc)})"
   ]
  },
  {
   "cell_type": "markdown",
   "metadata": {},
   "source": [
    "31. WAP to check whether a character is in the lowercase or not. If the lowercase, to\n",
    "perform the replication operation on that character.\n"
   ]
  },
  {
   "cell_type": "markdown",
   "metadata": {},
   "source": [
    "32. WAP to check whether a character is in the ascii number or not. If the ascii number,\n",
    "to convert into integer.\n"
   ]
  },
  {
   "cell_type": "markdown",
   "metadata": {},
   "source": [
    "33. WAP to check whether a character is in the special symbol or not. If the special\n",
    "symbol, to display a symbol with ascii value.\n"
   ]
  },
  {
   "cell_type": "code",
   "execution_count": 18,
   "metadata": {},
   "outputs": [
    {
     "name": "stdout",
     "output_type": "stream",
     "text": [
      "given char is symbol 36\n"
     ]
    }
   ],
   "source": [
    "a='$'\n",
    "if('48'<a<'57')and('65'<a<'90')and('97'<a<'122'):\n",
    "    print(\"it is not a special symbol\")\n",
    "else:\n",
    "    print(\"given char is symbol\",ord(a))\n"
   ]
  },
  {
   "cell_type": "markdown",
   "metadata": {},
   "source": [
    "34. WAP to check whether a character is an even number or not. If the even number, to\n",
    "display an even number.\n"
   ]
  },
  {
   "cell_type": "code",
   "execution_count": 20,
   "metadata": {},
   "outputs": [
    {
     "name": "stdout",
     "output_type": "stream",
     "text": [
      "Given number is even\n"
     ]
    }
   ],
   "source": [
    "a=int(\"46\")\n",
    "if(a%2==0):\n",
    "    print(\"Given number is even\")"
   ]
  },
  {
   "cell_type": "markdown",
   "metadata": {},
   "source": [
    "35. WAP to check whether a Given two integers a and b, if any of the integers is 10 or if\n",
    "their sum is 10, to perform the sum of the numbers and to display the square of the\n",
    "result.\n"
   ]
  },
  {
   "cell_type": "code",
   "execution_count": 21,
   "metadata": {},
   "outputs": [
    {
     "name": "stdout",
     "output_type": "stream",
     "text": [
      "7396\n"
     ]
    }
   ],
   "source": [
    "a=10\n",
    "b=76\n",
    "if('a' or 'b'==10) or (a+b==10):\n",
    "    c=a+b\n",
    "    print(c**2)\n"
   ]
  },
  {
   "cell_type": "markdown",
   "metadata": {},
   "source": [
    "36. WAP to check whether a character is in the vowel or not. If the vowel,print the next\n",
    "character.\n"
   ]
  },
  {
   "cell_type": "code",
   "execution_count": 28,
   "metadata": {},
   "outputs": [
    {
     "name": "stdout",
     "output_type": "stream",
     "text": [
      "b\n"
     ]
    }
   ],
   "source": [
    "a=\"a\"\n",
    "if(a == a or e or i or o or u ):\n",
    "    c=ord(a)\n",
    "    d=c+1\n",
    "    print(chr(d))\n",
    "\n"
   ]
  },
  {
   "cell_type": "markdown",
   "metadata": {},
   "source": [
    "37. WAP to check whether a character is in the not a vowel. If it's not a vowel,print the\n",
    "previous character.\n"
   ]
  },
  {
   "cell_type": "code",
   "execution_count": 30,
   "metadata": {},
   "outputs": [
    {
     "name": "stdout",
     "output_type": "stream",
     "text": [
      "b\n"
     ]
    }
   ],
   "source": [
    "a=\"c\"\n",
    "if(a != 'a' or 'e' or 'i' or 'o' or 'u' ):\n",
    "    c=ord(a)\n",
    "    d=c-1\n",
    "    print(chr(d))"
   ]
  },
  {
   "cell_type": "markdown",
   "metadata": {},
   "source": [
    "38. WAP to check whether a given value is a single value data type or not. If single\n",
    "value, display the given value as a single value data type.\n"
   ]
  },
  {
   "cell_type": "code",
   "execution_count": 37,
   "metadata": {},
   "outputs": [
    {
     "name": "stdout",
     "output_type": "stream",
     "text": [
      "single value datatype\n"
     ]
    }
   ],
   "source": [
    "a=\"\"\n",
    "if(a=='int' or'float'or'bool'or'complex'==type(a)):\n",
    "    print(\"single value datatype\")"
   ]
  },
  {
   "cell_type": "markdown",
   "metadata": {},
   "source": [
    "39. WAP to check whether a given value is a multi-value data type or not. If multi value,\n",
    "store the given value inside the tuple and display it.\n"
   ]
  },
  {
   "cell_type": "markdown",
   "metadata": {},
   "source": [
    "40. WAP to check whether a given value is an immutable data type or not. If an\n",
    "immutable data type value, store the given value inside the set and display it.\n"
   ]
  },
  {
   "cell_type": "markdown",
   "metadata": {},
   "source": [
    "41. WAP to check whether the middle element of a given list is odd or not. If it is odd\n",
    "then print odd then print the number else directly print the number\n"
   ]
  },
  {
   "cell_type": "markdown",
   "metadata": {},
   "source": [
    "42. WAP Return a new string with \"not\" prefixed to the front of the original string. Return the string unmodified if the string already has the word \"not\" at the beginning.\n"
   ]
  },
  {
   "cell_type": "markdown",
   "metadata": {},
   "source": [
    "43. WAP to check whether the two variables are pointing to the same memory location\n",
    "or not if they are pointing to the same memory location then print the address of\n",
    "both the variables.\n"
   ]
  },
  {
   "cell_type": "code",
   "execution_count": 60,
   "metadata": {},
   "outputs": [
    {
     "name": "stdout",
     "output_type": "stream",
     "text": [
      "140716100832280 140716100832280\n",
      "140716100832280\n"
     ]
    }
   ],
   "source": [
    "n1=20\n",
    "n2=20\n",
    "print(id(n1),id(n2))\n",
    "if(id(n1)==id(n2)):\n",
    "    print(id(n1))\n"
   ]
  },
  {
   "cell_type": "markdown",
   "metadata": {},
   "source": [
    "44. WAP to check whether the given length of the string is even or not. If the condition is satisfied, display the sequence of characters from zero position to length of\n",
    "collection -2."
   ]
  },
  {
   "cell_type": "code",
   "execution_count": 66,
   "metadata": {},
   "outputs": [
    {
     "name": "stdout",
     "output_type": "stream",
     "text": [
      "gjhk\n"
     ]
    }
   ],
   "source": [
    "a='gjhkjb'\n",
    "if((len(a))%2==0):\n",
    "    print(a[0:-2:])"
   ]
  },
  {
   "cell_type": "markdown",
   "metadata": {},
   "source": [
    "45. WAP to check whether the two given strings are having the same values or not. If\n",
    "both are not the same values then swap the values of one variable to another\n",
    "variable after swapping print the two values."
   ]
  },
  {
   "cell_type": "code",
   "execution_count": 71,
   "metadata": {},
   "outputs": [
    {
     "name": "stdout",
     "output_type": "stream",
     "text": [
      "cdd cdd\n"
     ]
    }
   ],
   "source": [
    "a=\"addd\"\n",
    "b=\"cdd\"\n",
    "if(a!=b):\n",
    "    a=b\n",
    "    print(a,b)\n"
   ]
  },
  {
   "cell_type": "markdown",
   "metadata": {},
   "source": [
    "46. WAP to check whether a given character is a special symbol or not. If satisfied,\n",
    "store the symbol as a key and value as a ascii value of the given character inside the\n",
    "dictionary."
   ]
  },
  {
   "cell_type": "code",
   "execution_count": 78,
   "metadata": {},
   "outputs": [
    {
     "ename": "TypeError",
     "evalue": "'str' object is not callable",
     "output_type": "error",
     "traceback": [
      "\u001b[1;31m---------------------------------------------------------------------------\u001b[0m",
      "\u001b[1;31mTypeError\u001b[0m                                 Traceback (most recent call last)",
      "Cell \u001b[1;32mIn[78], line 6\u001b[0m\n\u001b[0;32m      4\u001b[0m key\u001b[38;5;241m=\u001b[39ma\n\u001b[0;32m      5\u001b[0m value\u001b[38;5;241m=\u001b[39m\u001b[38;5;28mord\u001b[39m(a)\n\u001b[1;32m----> 6\u001b[0m \u001b[38;5;28mprint\u001b[39m(\u001b[38;5;28mdict\u001b[39m(\u001b[43mkey\u001b[49m\u001b[43m(\u001b[49m\u001b[43mvalue\u001b[49m\u001b[43m)\u001b[49m))\n",
      "\u001b[1;31mTypeError\u001b[0m: 'str' object is not callable"
     ]
    }
   ],
   "source": [
    "a=\"$\"\n",
    "b=('48'<a<'57')and('65'<a<'90')and('97'<a<'122')\n",
    "if(a!=b):\n",
    "    key=a\n",
    "    value=ord(a)\n",
    "    print(dict(key(value)))"
   ]
  },
  {
   "cell_type": "markdown",
   "metadata": {},
   "source": [
    "\n",
    "47. WAP to check whether a given key is not present in the dictionary or not. If the key is not present, append the new key inside the dictionary.\n"
   ]
  },
  {
   "cell_type": "code",
   "execution_count": 89,
   "metadata": {},
   "outputs": [
    {
     "name": "stdout",
     "output_type": "stream",
     "text": [
      "<class 'dict'>\n"
     ]
    }
   ],
   "source": [
    "d={1:12,'a':'aphabets',3:2.34}\n",
    "print(type(d))\n",
    "key=3\n",
    "if(key in d):\n",
    "    "
   ]
  },
  {
   "cell_type": "markdown",
   "metadata": {},
   "source": [
    "48. WAP whether a given string, and it displays a new string with the first and last\n",
    "characters switched.\n"
   ]
  },
  {
   "cell_type": "code",
   "execution_count": 90,
   "metadata": {},
   "outputs": [
    {
     "ename": "SyntaxError",
     "evalue": "invalid syntax. Perhaps you forgot a comma? (3477580617.py, line 3)",
     "output_type": "error",
     "traceback": [
      "\u001b[1;36m  Cell \u001b[1;32mIn[90], line 3\u001b[1;36m\u001b[0m\n\u001b[1;33m    t=(s[])\u001b[0m\n\u001b[1;37m       ^\u001b[0m\n\u001b[1;31mSyntaxError\u001b[0m\u001b[1;31m:\u001b[0m invalid syntax. Perhaps you forgot a comma?\n"
     ]
    }
   ],
   "source": [
    "s=\"fhjhkjk\"\n",
    "if('a'<=ch<='z' or 'A'<=ch<='Z'):\n",
    "    t=(s[])"
   ]
  },
  {
   "cell_type": "markdown",
   "metadata": {},
   "source": [
    "49. WAP to check whether the last digit should be 2 in the given number then print the\n",
    "last digit.\n"
   ]
  },
  {
   "cell_type": "code",
   "execution_count": 91,
   "metadata": {},
   "outputs": [
    {
     "name": "stdout",
     "output_type": "stream",
     "text": [
      "2\n"
     ]
    }
   ],
   "source": [
    "a=546572\n",
    "if(a%10==2):\n",
    "    print(a%10)"
   ]
  },
  {
   "cell_type": "markdown",
   "metadata": {},
   "source": [
    "50. WAP to check whether a Given two integers a and b, if any of the integers is 10 or if\n",
    "their sum is 10, to perform the sum of the numbers and to display the square of the\n",
    "result."
   ]
  },
  {
   "cell_type": "code",
   "execution_count": 93,
   "metadata": {},
   "outputs": [
    {
     "name": "stdout",
     "output_type": "stream",
     "text": [
      "100\n"
     ]
    }
   ],
   "source": [
    "a=7\n",
    "b=3\n",
    "if(('a' or 'b' ==10)or(a+b==10)):\n",
    "    c=a+b\n",
    "    print(c**2)"
   ]
  },
  {
   "cell_type": "markdown",
   "metadata": {},
   "source": [
    "51. WAP to check whether a given string(str) and one integer(n) value, to display a new\n",
    "string that is devoid of the character at index n. if you are given a non-empty string\n",
    "and an int n. The value of n will be a legitimate character index from the original\n",
    "string, therefore it will fall within the range of 0 to len(str)-1, inclusive.\n"
   ]
  },
  {
   "cell_type": "code",
   "execution_count": null,
   "metadata": {},
   "outputs": [],
   "source": [
    "str=\"apple\"\n",
    "n=8\n"
   ]
  },
  {
   "cell_type": "markdown",
   "metadata": {},
   "source": [
    "52. WAP to check whether both string collections are equal or not if it is not equal print the both strings along with the length of a string if both are equal ignore it"
   ]
  },
  {
   "cell_type": "code",
   "execution_count": 96,
   "metadata": {},
   "outputs": [
    {
     "name": "stdout",
     "output_type": "stream",
     "text": [
      "apple 5\n",
      "appe 4\n"
     ]
    }
   ],
   "source": [
    "s1=\"apple\"\n",
    "s2=\"appe\"\n",
    "if(s1!=s2):\n",
    "    print(s1,len(s1))\n",
    "    print(s2,len(s2))"
   ]
  },
  {
   "cell_type": "markdown",
   "metadata": {},
   "source": [
    "# if else"
   ]
  },
  {
   "cell_type": "markdown",
   "metadata": {},
   "source": [
    "53. WAP to check whether a number is positive or negative. If Positive print positive\n",
    "message or else print Negative Number.\n"
   ]
  },
  {
   "cell_type": "code",
   "execution_count": 97,
   "metadata": {},
   "outputs": [
    {
     "name": "stdout",
     "output_type": "stream",
     "text": [
      "number is -ve\n"
     ]
    }
   ],
   "source": [
    "a=-567\n",
    "if(a>0):\n",
    "    print(\"number is +ve\")\n",
    "else:\n",
    "    print(\"number is -ve\")"
   ]
  },
  {
   "cell_type": "markdown",
   "metadata": {},
   "source": [
    "54. WAP to check whether a number is even or odd. If even, print message an even or\n",
    "else print message as odd.\n"
   ]
  },
  {
   "cell_type": "code",
   "execution_count": 99,
   "metadata": {},
   "outputs": [
    {
     "name": "stdout",
     "output_type": "stream",
     "text": [
      "number is odd\n"
     ]
    }
   ],
   "source": [
    "a=567\n",
    "if(a%2==0):\n",
    "    print(\"number is even\")\n",
    "else:\n",
    "    print(\"number is odd\")"
   ]
  },
  {
   "cell_type": "markdown",
   "metadata": {},
   "source": [
    "55. Write a program to check whether a given number is greater than 10 or not. if it is\n",
    "greater than 10 print message as greater or else print that number with not a greater\n",
    "than."
   ]
  },
  {
   "cell_type": "code",
   "execution_count": 100,
   "metadata": {},
   "outputs": [
    {
     "name": "stdout",
     "output_type": "stream",
     "text": [
      " number is greater than 10\n"
     ]
    }
   ],
   "source": [
    "a=46\n",
    "if(a>10):\n",
    "    print( \" number is greater than 10\")\n",
    "else:\n",
    "    print(\"number is not greater than 10 \")"
   ]
  },
  {
   "cell_type": "markdown",
   "metadata": {},
   "source": [
    "56. WAP to check whether a given value is present in between 45 to 125. If value is\n",
    "present print the ascii character.\n"
   ]
  },
  {
   "cell_type": "code",
   "execution_count": 103,
   "metadata": {},
   "outputs": [
    {
     "name": "stdout",
     "output_type": "stream",
     "text": [
      "C\n"
     ]
    }
   ],
   "source": [
    "a=67\n",
    "if(45<a<125):\n",
    "    print(chr(a))"
   ]
  },
  {
   "cell_type": "markdown",
   "metadata": {},
   "source": [
    "57. WAP to check whether the given two input numbers are divisible by 3 and 5. If it is\n",
    "divisible, print “Good Morning”, if it is not print “Good Evening”.\n"
   ]
  },
  {
   "cell_type": "code",
   "execution_count": 104,
   "metadata": {},
   "outputs": [
    {
     "name": "stdout",
     "output_type": "stream",
     "text": [
      "Good Mng\n"
     ]
    }
   ],
   "source": [
    "a=5\n",
    "b=465\n",
    "if((a and b)%3==0) and((a and b)%5==0):\n",
    "    print(\"Good Mng\")\n",
    "else:\n",
    "    print(\"Good evening\")"
   ]
  },
  {
   "cell_type": "markdown",
   "metadata": {},
   "source": [
    "58. WAP to accept two integers and check whether they are equal or not.\n",
    "If equal, multiply to value or quotation value and display it.\n"
   ]
  },
  {
   "cell_type": "code",
   "execution_count": 106,
   "metadata": {},
   "outputs": [
    {
     "name": "stdout",
     "output_type": "stream",
     "text": [
      "430336\n"
     ]
    }
   ],
   "source": [
    "a=656\n",
    "b=656\n",
    "if(a==b):\n",
    "\n",
    "    print(a*b)"
   ]
  },
  {
   "cell_type": "markdown",
   "metadata": {},
   "source": [
    "59. WAP to find the largest of two numbers.\n"
   ]
  },
  {
   "cell_type": "code",
   "execution_count": 107,
   "metadata": {},
   "outputs": [
    {
     "name": "stdout",
     "output_type": "stream",
     "text": [
      "687 is largest value than 67\n"
     ]
    }
   ],
   "source": [
    "a=67\n",
    "b=687\n",
    "if(a>b):\n",
    "    print(a,\"is largest value than\",b)\n",
    "else:\n",
    "    print(b,\"is largest value than\",a)"
   ]
  },
  {
   "cell_type": "markdown",
   "metadata": {},
   "source": [
    "60. WAP to check whether the input number is greater than 10 or not if it is greater than\n",
    "10 print messages as greater with print that number. if that number is not greater\n",
    "than 10 print that number.\n"
   ]
  },
  {
   "cell_type": "code",
   "execution_count": 108,
   "metadata": {},
   "outputs": [
    {
     "name": "stdout",
     "output_type": "stream",
     "text": [
      "789 greater than 10\n"
     ]
    }
   ],
   "source": [
    "a=789\n",
    "if(a>10):\n",
    "    print(a,\"greater than 10\")\n",
    "else:\n",
    "    print(a)"
   ]
  },
  {
   "cell_type": "markdown",
   "metadata": {},
   "source": [
    "61. WAP to the given number integer, if n is greater than 21,print the absolute\n",
    "difference between n and 21 otherwise print twice the absolute difference.\n"
   ]
  },
  {
   "cell_type": "code",
   "execution_count": 110,
   "metadata": {},
   "outputs": [
    {
     "name": "stdout",
     "output_type": "stream",
     "text": [
      "-48\n"
     ]
    }
   ],
   "source": [
    "a=-3\n",
    "if(a>21):\n",
    "    print(\"Difference :\", a-21)\n",
    "else:\n",
    "    print((a-21)*2)"
   ]
  },
  {
   "cell_type": "markdown",
   "metadata": {},
   "source": [
    "62. WAP to find the smallest of two numbers.\n"
   ]
  },
  {
   "cell_type": "code",
   "execution_count": 111,
   "metadata": {},
   "outputs": [
    {
     "name": "stdout",
     "output_type": "stream",
     "text": [
      "67 is smallest value than 687\n"
     ]
    }
   ],
   "source": [
    "a=67\n",
    "b=687\n",
    "if(a<b):\n",
    "    print(a,\"is smallest value than\",b)\n",
    "else:\n",
    "    print(b,\"is smallest value than\",a)"
   ]
  },
  {
   "cell_type": "markdown",
   "metadata": {},
   "source": [
    "63. WAP to check whether the given number is even or odd. If it is even then make it as\n",
    "an add number, if it is an odd number then make it as even number.\n"
   ]
  },
  {
   "cell_type": "code",
   "execution_count": 112,
   "metadata": {},
   "outputs": [
    {
     "name": "stdout",
     "output_type": "stream",
     "text": [
      "8979 make it even : 8980\n"
     ]
    }
   ],
   "source": [
    "a=8979\n",
    "if(a%2==0):\n",
    "    print(\"add number with 1 :\",a+1)\n",
    "else:\n",
    "    print(a,\"make it even :\",a+1)"
   ]
  },
  {
   "cell_type": "markdown",
   "metadata": {},
   "source": [
    "64. WAP to check whether the given number is divisible by 3 or not if yes,print the\n",
    "number or else print the cube of the numbers.\n"
   ]
  },
  {
   "cell_type": "code",
   "execution_count": 118,
   "metadata": {},
   "outputs": [
    {
     "name": "stdout",
     "output_type": "stream",
     "text": [
      "780\n"
     ]
    }
   ],
   "source": [
    "a=780\n",
    "if(a%3==0):\n",
    "    print(a)\n",
    "else:\n",
    "    (a**3)"
   ]
  },
  {
   "cell_type": "markdown",
   "metadata": {},
   "source": [
    "65. WAP to check whether the given input is divisible by 3 and 5. If yes print the actual\n",
    "number or else print string of that number.\n"
   ]
  },
  {
   "cell_type": "code",
   "execution_count": 123,
   "metadata": {},
   "outputs": [
    {
     "name": "stdout",
     "output_type": "stream",
     "text": [
      "6788\n"
     ]
    }
   ],
   "source": [
    "n=6788\n",
    "if(n%3==0)and(n%5==0):\n",
    "    print(n)\n",
    "else:\n",
    "    print(str(n))"
   ]
  },
  {
   "cell_type": "markdown",
   "metadata": {},
   "source": [
    "66. WAP to check whether the given number lies between 1 to 19, if it is true square that\n",
    "number or else false cube that number and display the number.\n"
   ]
  },
  {
   "cell_type": "code",
   "execution_count": 124,
   "metadata": {},
   "outputs": [
    {
     "name": "stdout",
     "output_type": "stream",
     "text": [
      "True 64\n"
     ]
    }
   ],
   "source": [
    "a=8\n",
    "if(1<a<19):\n",
    "    print(\"True\",a**2)\n",
    "else:\n",
    "    print(\"False\",a**3)\n"
   ]
  },
  {
   "cell_type": "markdown",
   "metadata": {},
   "source": [
    "67. WAP to check whether the student has passed or failed. If the student got more than\n",
    "40 marks, print ‘PASS’ along with those marks, if it is not printed ‘FAIL’ along with\n",
    "those marks.\n"
   ]
  },
  {
   "cell_type": "code",
   "execution_count": 125,
   "metadata": {},
   "outputs": [
    {
     "name": "stdout",
     "output_type": "stream",
     "text": [
      "student PASS 78\n"
     ]
    }
   ],
   "source": [
    "m=78\n",
    "if(m>40):\n",
    "    print(\"student PASS\",m)\n",
    "else:\n",
    "    print(\"student FAILD\",m)\n",
    "\n"
   ]
  },
  {
   "cell_type": "markdown",
   "metadata": {},
   "source": [
    "68. WAP to check whether a given value is even and in range of 47 to 58 and not in 0 or\n",
    "odd. if condition is True, to perform display the ascii character.or else to perform\n",
    "floor division with 5 and display it.\n"
   ]
  },
  {
   "cell_type": "code",
   "execution_count": 129,
   "metadata": {},
   "outputs": [
    {
     "name": "stdout",
     "output_type": "stream",
     "text": [
      "2---> 6\n"
     ]
    }
   ],
   "source": [
    "a=34\n",
    "b=(a%2==0)\n",
    "c=47<a<58\n",
    "d=(a%2!=1 and a!=0)\n",
    "\n",
    "if(b and c and d):\n",
    "    print(\"1--->\",chr(a))\n",
    "else:\n",
    "    print(\"2--->\",a//5)"
   ]
  },
  {
   "cell_type": "markdown",
   "metadata": {},
   "source": [
    "69. WAP to check whether a given value is less than 125 and in between 47 to 125 or not.\n",
    "if condition is True, to perform store the given value as key and value as a character\n",
    "into the dict.or else to append the value in list and display it.\n"
   ]
  },
  {
   "cell_type": "code",
   "execution_count": 134,
   "metadata": {},
   "outputs": [
    {
     "name": "stdout",
     "output_type": "stream",
     "text": [
      "[3, 4]\n"
     ]
    }
   ],
   "source": [
    "a=34\n",
    "if(a<125 and 47<a<125):\n",
    "    print({a:chr(a)})\n",
    "else:\n",
    "    print(list(map(int,str(a))))"
   ]
  },
  {
   "cell_type": "markdown",
   "metadata": {},
   "source": [
    "70. WAP to check whether a given character is in the alphabet or not. if alphabet,\n",
    "display the alphabet with character.or else display the not alphabet with character.\n"
   ]
  },
  {
   "cell_type": "code",
   "execution_count": 139,
   "metadata": {},
   "outputs": [
    {
     "name": "stdout",
     "output_type": "stream",
     "text": [
      "NOT alphabet with character g\n"
     ]
    }
   ],
   "source": [
    "a='g'\n",
    "if(\"a\"<=a<=\"z\" and \"A\"<=a<=\"Z\"):\n",
    "    print(\"Alphabet with character\",a)\n",
    "else:\n",
    "    print(\"NOT alphabet with character\",a)\n"
   ]
  },
  {
   "cell_type": "code",
   "execution_count": null,
   "metadata": {},
   "outputs": [],
   "source": []
  }
 ],
 "metadata": {
  "kernelspec": {
   "display_name": "Python 3",
   "language": "python",
   "name": "python3"
  },
  "language_info": {
   "codemirror_mode": {
    "name": "ipython",
    "version": 3
   },
   "file_extension": ".py",
   "mimetype": "text/x-python",
   "name": "python",
   "nbconvert_exporter": "python",
   "pygments_lexer": "ipython3",
   "version": "3.12.2"
  }
 },
 "nbformat": 4,
 "nbformat_minor": 2
}
