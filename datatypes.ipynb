{
 "cells": [
  {
   "cell_type": "markdown",
   "metadata": {},
   "source": [
    "Data Type : type(var/value)\n",
    " 1. Single value data type \n",
    " a.int\n",
    " b.float\n",
    " c.complex\n",
    " d.None\n",
    " "
   ]
  },
  {
   "cell_type": "code",
   "execution_count": 3,
   "metadata": {},
   "outputs": [
    {
     "name": "stdout",
     "output_type": "stream",
     "text": [
      "23 <class 'int'>\n",
      "4.5 <class 'float'>\n",
      "(2+4j) <class 'complex'>\n",
      "None <class 'NoneType'>\n"
     ]
    }
   ],
   "source": [
    "a=23\n",
    "b=4.5\n",
    "c=2+4j\n",
    "d=None\n",
    "print(a,type(a))\n",
    "print(b,type(b))\n",
    "print(c,type(c))\n",
    "print(d,type(d))"
   ]
  },
  {
   "cell_type": "markdown",
   "metadata": {},
   "source": [
    "2. Multi value data type: \n",
    "a. string :   \n",
    "   ~ varnamr=\"ch1ch2ch3....chn\" or 'ch1ch2ch3....chn'\n",
    "   ~ doc or documentation string '''CH1ch2.....                             \"\"\" ch1ch2ch3.....\n",
    "                                   ch7ch8.. 'nb'...                 or      ch8ch9.....chn\n",
    "                                   ch9ch10 \"jhj\"  ..........chn'''           \"\"\""
   ]
  },
  {
   "cell_type": "code",
   "execution_count": null,
   "metadata": {},
   "outputs": [],
   "source": [
    "s=\"hello MVDT\"\n",
    "t='Hi! MVDT'\n",
    "print(s)\n",
    "print(t)"
   ]
  },
  {
   "cell_type": "code",
   "execution_count": 11,
   "metadata": {},
   "outputs": [
    {
     "name": "stdout",
     "output_type": "stream",
     "text": [
      "i'm sonu,a student \n",
      "   i'm studying in \"10th class\"\n",
      "   i'm of '12 years' old\n",
      "  \n"
     ]
    }
   ],
   "source": [
    "s='''i'm sonu,a student \n",
    "   i'm studying in \"10th class\"\n",
    "   i'm of '12 years' old\n",
    "  '''\n",
    "print(s)"
   ]
  }
 ],
 "metadata": {
  "kernelspec": {
   "display_name": "Python 3",
   "language": "python",
   "name": "python3"
  },
  "language_info": {
   "codemirror_mode": {
    "name": "ipython",
    "version": 3
   },
   "file_extension": ".py",
   "mimetype": "text/x-python",
   "name": "python",
   "nbconvert_exporter": "python",
   "pygments_lexer": "ipython3",
   "version": "3.12.2"
  }
 },
 "nbformat": 4,
 "nbformat_minor": 2
}
