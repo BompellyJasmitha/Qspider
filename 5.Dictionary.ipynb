{
 "cells": [
  {
   "cell_type": "markdown",
   "metadata": {},
   "source": [
    "# Dictionary \n",
    "\n",
    "syntax: { key1:value1, key2:value2,.......,keyn:valuen}"
   ]
  },
  {
   "cell_type": "markdown",
   "metadata": {},
   "source": [
    "Key   - should UNIQUE & stores only IMMUTABLE DATATYPE VALUES (except set,tuple,list)\n",
    "\n",
    "value - can store any datatype values  \n",
    "\n",
    "indexing cannot be used for accessing the elements but the KEY is used\n",
    "\n",
    "\n",
    "syntax: \n",
    "    varname[key]\n",
    "\n",
    "\n"
   ]
  },
  {
   "cell_type": "code",
   "execution_count": 2,
   "metadata": {},
   "outputs": [
    {
     "name": "stdout",
     "output_type": "stream",
     "text": [
      "{1: 100, 2: 200, 3: 300, 4: 400}\n",
      "<class 'dict'>\n"
     ]
    }
   ],
   "source": [
    "# Example:1    \n",
    "\n",
    "d={1:100,2:200,3:300,4:400}\n",
    "print(d)\n",
    "print(type(d))"
   ]
  },
  {
   "cell_type": "code",
   "execution_count": 3,
   "metadata": {},
   "outputs": [
    {
     "name": "stdout",
     "output_type": "stream",
     "text": [
      "{1: 100, 2: 100, 3: 100, 4: 100}\n"
     ]
    }
   ],
   "source": [
    "#Example:2  value - can store any datatype or same datatype\n",
    "\n",
    "t={1:100,2:100,3:100,4:100}\n",
    "print(t)"
   ]
  },
  {
   "cell_type": "code",
   "execution_count": 4,
   "metadata": {},
   "outputs": [
    {
     "name": "stdout",
     "output_type": "stream",
     "text": [
      "{1: 'tree', 2: 100, 3: 10.2, 4: 'DOG'}\n"
     ]
    }
   ],
   "source": [
    "# Example:3\n",
    "\n",
    "t={1:\"tree\",2:100,3:10.20,4:'DOG'}\n",
    "print(t)"
   ]
  },
  {
   "cell_type": "code",
   "execution_count": 5,
   "metadata": {},
   "outputs": [
    {
     "name": "stdout",
     "output_type": "stream",
     "text": [
      "{1: 800, 2: 200, 4: 900}\n"
     ]
    }
   ],
   "source": [
    "# Example:4 if key-value repeated -1st key value  will be replaced with 2nd key value\n",
    "\n",
    "t={1:100,2:200,1:800,4:900}\n",
    "print(t)\n",
    "\n"
   ]
  },
  {
   "cell_type": "code",
   "execution_count": 6,
   "metadata": {},
   "outputs": [
    {
     "name": "stdout",
     "output_type": "stream",
     "text": [
      "{1: 20000}\n"
     ]
    }
   ],
   "source": [
    "#Example : 5\n",
    "\n",
    "u={1:2,1:20000}\n",
    "print(u)"
   ]
  },
  {
   "cell_type": "code",
   "execution_count": 8,
   "metadata": {},
   "outputs": [
    {
     "name": "stdout",
     "output_type": "stream",
     "text": [
      "100\n",
      "200\n"
     ]
    }
   ],
   "source": [
    "#Example : 6\n",
    "\n",
    "d={1:100,2:200}\n",
    "print(d[1])\n",
    "print(d[2])\n"
   ]
  },
  {
   "cell_type": "code",
   "execution_count": 10,
   "metadata": {},
   "outputs": [
    {
     "name": "stdout",
     "output_type": "stream",
     "text": [
      "50\n",
      "one\n",
      "j\n"
     ]
    }
   ],
   "source": [
    "#Example : 7   indexing cannot be used for accessing the elements but the KEY is used\n",
    "\n",
    "d={\"name\":\"raju\",\"age\":'one',2:50}\n",
    "print(d[2])\n",
    "print(d[\"age\"])\n",
    "print(d[\"name\"][2])"
   ]
  },
  {
   "cell_type": "code",
   "execution_count": 13,
   "metadata": {},
   "outputs": [
    {
     "name": "stdout",
     "output_type": "stream",
     "text": [
      "100\n",
      "200\n",
      "300\n"
     ]
    }
   ],
   "source": [
    "#Example : 8\n",
    "w={1:[100,200,300,400]}\n",
    "print(w[1][0])\n",
    "print(w[1][1])\n",
    "print(w[1][-2])"
   ]
  }
 ],
 "metadata": {
  "kernelspec": {
   "display_name": "Python 3",
   "language": "python",
   "name": "python3"
  },
  "language_info": {
   "codemirror_mode": {
    "name": "ipython",
    "version": 3
   },
   "file_extension": ".py",
   "mimetype": "text/x-python",
   "name": "python",
   "nbconvert_exporter": "python",
   "pygments_lexer": "ipython3",
   "version": "3.12.2"
  }
 },
 "nbformat": 4,
 "nbformat_minor": 2
}
