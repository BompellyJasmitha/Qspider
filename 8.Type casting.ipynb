{
 "cells": [
  {
   "cell_type": "markdown",
   "metadata": {},
   "source": [
    "# why we need type casting?\n",
    "\n",
    "suppose if we have a task w.r.t one data type but given in another/different data type, then we need type casting to convert the given data type into our requried data type tp perform particular task."
   ]
  },
  {
   "cell_type": "markdown",
   "metadata": {},
   "source": [
    "# Type Casting Operations:\n",
    "    1. int(value/data/varname)\n",
    "    2. float(value/data/varname)\n",
    "    3. bool(value/data/varname)\n",
    "    4. complex(value/data/varname)\n",
    "    5. str(value/data/varname)\n",
    "    6. list(value/data/varname)\n",
    "    7. tuple(value/data/varname)\n",
    "    8. set(value/data/varname)\n",
    "    9. dict(value/data/varname) \n",
    "    "
   ]
  },
  {
   "cell_type": "markdown",
   "metadata": {},
   "source": [
    "# 1. Convering \"int\" datatype into another datatype\n",
    "\n",
    "    int-------------> float, complex, boolean/ bool, str   "
   ]
  },
  {
   "cell_type": "code",
   "execution_count": 93,
   "metadata": {},
   "outputs": [
    {
     "name": "stdout",
     "output_type": "stream",
     "text": [
      "<class 'int'>\n",
      "50.0\n",
      "50.0\n",
      "(50+0j)\n",
      "True\n",
      "50\n",
      "f\n",
      "['fruit', 'mango']\n",
      "('fruit', 'mango')\n",
      "{'mango', 'fruit'}\n"
     ]
    },
    {
     "ename": "ValueError",
     "evalue": "dictionary update sequence element #0 has length 5; 2 is required",
     "output_type": "error",
     "traceback": [
      "\u001b[1;31m---------------------------------------------------------------------------\u001b[0m",
      "\u001b[1;31mValueError\u001b[0m                                Traceback (most recent call last)",
      "Cell \u001b[1;32mIn[93], line 28\u001b[0m\n\u001b[0;32m     24\u001b[0m \u001b[38;5;28mprint\u001b[39m(\u001b[38;5;28mset\u001b[39m(b))\n\u001b[0;32m     26\u001b[0m \u001b[38;5;66;03m#print(dict(a))    #'int' object is not iterable\u001b[39;00m\n\u001b[1;32m---> 28\u001b[0m \u001b[38;5;28mprint\u001b[39m(\u001b[38;5;28;43mdict\u001b[39;49m\u001b[43m(\u001b[49m\u001b[43mb\u001b[49m\u001b[43m)\u001b[49m)\n",
      "\u001b[1;31mValueError\u001b[0m: dictionary update sequence element #0 has length 5; 2 is required"
     ]
    }
   ],
   "source": [
    "# Example: 1\n",
    "\n",
    "a=50\n",
    "\n",
    "print(type(a))\n",
    "c=float(a)\n",
    "print(c)\n",
    "print(float(a))\n",
    "print(complex(a))\n",
    "print(bool(a))\n",
    "print(str(a))\n",
    "\n",
    "# print(list(a))  # 'int' object is not iterable\n",
    "\n",
    "\n",
    "# print(tuple(a))   #'int' object is not iterable\n",
    "\n",
    "\n",
    "# print(set(a))  # TypeError: 'int' object is not iterable\n",
    "\n",
    "\n",
    "#print(dict(a))    #'int' object is not iterable\n",
    "\n",
    "\n"
   ]
  },
  {
   "cell_type": "markdown",
   "metadata": {},
   "source": [
    "# 2. Converting \"float\" DT into another DT \n",
    " \n",
    "    float------->int, complex, bool, str"
   ]
  },
  {
   "cell_type": "code",
   "execution_count": 96,
   "metadata": {},
   "outputs": [
    {
     "name": "stdout",
     "output_type": "stream",
     "text": [
      "10\n",
      "(10.2+0j)\n",
      "True\n",
      "10.2\n",
      ".\n",
      "2\n",
      "1\n",
      ".\n"
     ]
    },
    {
     "ename": "TypeError",
     "evalue": "'float' object is not iterable",
     "output_type": "error",
     "traceback": [
      "\u001b[1;31m---------------------------------------------------------------------------\u001b[0m",
      "\u001b[1;31mTypeError\u001b[0m                                 Traceback (most recent call last)",
      "Cell \u001b[1;32mIn[96], line 20\u001b[0m\n\u001b[0;32m     16\u001b[0m \u001b[38;5;28mprint\u001b[39m(\u001b[38;5;28mstr\u001b[39m(f)[\u001b[38;5;241m2\u001b[39m])\n\u001b[0;32m     18\u001b[0m \u001b[38;5;66;03m# print(list(f))   #TypeError: 'float' object is not iterable\u001b[39;00m\n\u001b[0;32m     19\u001b[0m \u001b[38;5;66;03m# print(tuple(f))  #TypeError: 'float' object is not iterable\u001b[39;00m\n\u001b[1;32m---> 20\u001b[0m \u001b[38;5;28mprint\u001b[39m(\u001b[38;5;28;43mset\u001b[39;49m\u001b[43m(\u001b[49m\u001b[43mf\u001b[49m\u001b[43m)\u001b[49m)  \u001b[38;5;66;03m#TypeError: 'float' object is not iterable\u001b[39;00m\n\u001b[0;32m     21\u001b[0m \u001b[38;5;66;03m# print(dict(f))   #TypeError: 'float' object is not iterable\u001b[39;00m\n",
      "\u001b[1;31mTypeError\u001b[0m: 'float' object is not iterable"
     ]
    }
   ],
   "source": [
    "#Example: 1\n",
    "\n",
    "f=10.2\n",
    "\n",
    "print(int(f))\n",
    "\n",
    "print(complex(f))\n",
    "\n",
    "print(bool(f))\n",
    "\n",
    "print(str(f))\n",
    "print(str(f)[2])\n",
    "print(str(f)[3])\n",
    "print(str(f)[0])\n",
    "\n",
    "print(str(f)[2])\n",
    "\n",
    "# print(list(f))   #TypeError: 'float' object is not iterable\n",
    "# print(tuple(f))  #TypeError: 'float' object is not iterable\n",
    "# print(set(f))  #TypeError: 'float' object is not iterable\n",
    "# print(dict(f))   #TypeError: 'float' object is not iterable"
   ]
  },
  {
   "cell_type": "markdown",
   "metadata": {},
   "source": [
    "# 3. Converting \"Complex\" DT into another DT\n",
    "\n",
    "    complex------>bool,str "
   ]
  },
  {
   "cell_type": "code",
   "execution_count": 34,
   "metadata": {},
   "outputs": [
    {
     "name": "stdout",
     "output_type": "stream",
     "text": [
      "(10+2j)\n",
      "<class 'complex'>\n",
      "True\n",
      "(10+2j)\n",
      "+\n",
      "(\n"
     ]
    },
    {
     "ename": "TypeError",
     "evalue": "'complex' object is not iterable",
     "output_type": "error",
     "traceback": [
      "\u001b[1;31m---------------------------------------------------------------------------\u001b[0m",
      "\u001b[1;31mTypeError\u001b[0m                                 Traceback (most recent call last)",
      "Cell \u001b[1;32mIn[34], line 19\u001b[0m\n\u001b[0;32m     13\u001b[0m \u001b[38;5;28mprint\u001b[39m(\u001b[38;5;28mstr\u001b[39m(c)[\u001b[38;5;241m0\u001b[39m])\n\u001b[0;32m     15\u001b[0m \u001b[38;5;66;03m# print(list(c))   #TypeError: 'complex' object is not iterable\u001b[39;00m\n\u001b[0;32m     16\u001b[0m \n\u001b[0;32m     17\u001b[0m \u001b[38;5;66;03m# print(tuple(c))  #TypeError: 'complex' object is not iterable\u001b[39;00m\n\u001b[1;32m---> 19\u001b[0m \u001b[38;5;28mprint\u001b[39m(\u001b[38;5;28;43mdict\u001b[39;49m\u001b[43m(\u001b[49m\u001b[43mc\u001b[49m\u001b[43m)\u001b[49m)\n",
      "\u001b[1;31mTypeError\u001b[0m: 'complex' object is not iterable"
     ]
    }
   ],
   "source": [
    "c=10+2j\n",
    "print(c)\n",
    "print(type(c))\n",
    "\n",
    "#print(int(c))    #TypeError: int() argument must be a string, a bytes-like object or a real number, not 'complex'\n",
    "\n",
    "#print(float(c))  #TypeError: float() argument must be a string or a real number, not 'complex'\n",
    "\n",
    "print(bool(c))\n",
    "\n",
    "print(str(c))\n",
    "print(str(c)[3])\n",
    "print(str(c)[0])\n",
    "\n",
    "# print(list(c))   #TypeError: 'complex' object is not iterable\n",
    "\n",
    "# print(tuple(c))  #TypeError: 'complex' object is not iterable\n",
    "\n",
    "\n",
    "# print(set(c))  #TypeError: 'complex' object is not iterable \n",
    "\n",
    "# print(dict(c))   #TypeError: 'complex' object is not iterable"
   ]
  },
  {
   "cell_type": "markdown",
   "metadata": {},
   "source": [
    "# 4. Converting \"Boolean\" Dt into another DT\n",
    "\n",
    "    Boolean--------->int, float, complex,str"
   ]
  },
  {
   "cell_type": "code",
   "execution_count": 97,
   "metadata": {},
   "outputs": [
    {
     "name": "stdout",
     "output_type": "stream",
     "text": [
      "1\n",
      "1.0\n",
      "(1+0j)\n",
      "True\n",
      "T\n",
      "u\n"
     ]
    },
    {
     "ename": "TypeError",
     "evalue": "'bool' object is not iterable",
     "output_type": "error",
     "traceback": [
      "\u001b[1;31m---------------------------------------------------------------------------\u001b[0m",
      "\u001b[1;31mTypeError\u001b[0m                                 Traceback (most recent call last)",
      "Cell \u001b[1;32mIn[97], line 17\u001b[0m\n\u001b[0;32m     12\u001b[0m \u001b[38;5;28mprint\u001b[39m(\u001b[38;5;28mstr\u001b[39m(b)[\u001b[38;5;241m2\u001b[39m])\n\u001b[0;32m     14\u001b[0m \u001b[38;5;66;03m# print(list(b))   #TypeError: 'bool' object is not iterable\u001b[39;00m\n\u001b[0;32m     15\u001b[0m \n\u001b[0;32m     16\u001b[0m \u001b[38;5;66;03m# print(tuple(b))  #TypeError: 'bool' object is not iterable\u001b[39;00m\n\u001b[1;32m---> 17\u001b[0m \u001b[38;5;28mprint\u001b[39m(\u001b[38;5;28;43mset\u001b[39;49m\u001b[43m(\u001b[49m\u001b[43mb\u001b[49m\u001b[43m)\u001b[49m)  \u001b[38;5;66;03m#TypeError: 'bool' object is not iterable\u001b[39;00m\n\u001b[0;32m     19\u001b[0m \u001b[38;5;66;03m# print(dict(b))   #TypeError: 'bool' object is not iterable\u001b[39;00m\n",
      "\u001b[1;31mTypeError\u001b[0m: 'bool' object is not iterable"
     ]
    }
   ],
   "source": [
    "#Example:1\n",
    "\n",
    "b=True\n",
    "print(int(b))\n",
    "\n",
    "print(float(b))\n",
    "\n",
    "print(complex(b))\n",
    "\n",
    "print(str(b))\n",
    "print(str(b)[0])\n",
    "print(str(b)[2])\n",
    "\n",
    "# print(list(b))   #TypeError: 'bool' object is not iterable\n",
    "\n",
    "# print(tuple(b))  #TypeError: 'bool' object is not iterable\n",
    "# print(set(b))  #TypeError: 'bool' object is not iterable\n",
    "\n",
    "# print(dict(b))   #TypeError: 'bool' object is not iterable\n",
    "\n"
   ]
  },
  {
   "cell_type": "markdown",
   "metadata": {},
   "source": [
    "# 5. Converting \"String\" DT into another DT\n",
    "\n",
    "String with pure integers \n",
    "\n",
    "    String--------->int, float, boolean, complex, list, tuple, set\n",
    "\n",
    "string with alphabets & alpha-numerics\n",
    "\n",
    "    string---------->boolean, list, tuple,set"
   ]
  },
  {
   "cell_type": "code",
   "execution_count": 98,
   "metadata": {},
   "outputs": [
    {
     "name": "stdout",
     "output_type": "stream",
     "text": [
      "123\n",
      "123.0\n",
      "123.34\n",
      "(123+0j)\n",
      "(123.34+0j)\n",
      "(2+3j)\n",
      "True\n",
      "True\n",
      "True\n",
      "['1', '2', '3']\n",
      "['1', '2', '3', '.', '3', '4']\n",
      "['2', '+', '3', 'j']\n",
      "('1', '2', '3')\n",
      "('1', '2', '3', '.', '3', '4')\n",
      "('2', '+', '3', 'j')\n",
      "{'2', '1', '3'}\n",
      "{'2', '4', '1', '3', '.'}\n",
      "{'j', '3', '2', '+'}\n"
     ]
    }
   ],
   "source": [
    "# ( 1 ) String with only integers\n",
    "\n",
    "s1=\"123\"\n",
    "s2=\"123.34\"\n",
    "s3=\"2+3j\"\n",
    "\n",
    "print(int(s1))\n",
    "# print(int(s2)) #ValueError: invalid literal for int() with base 10: '123.34'\n",
    "# print(int(s3))  #ValueError: invalid literal for int() with base 10: '2+3j'\n",
    "\n",
    "print(float(s1))\n",
    "print(float(s2))\n",
    "# print(float(s3))   # ValueError: could not convert string to float: '2+3j'\n",
    "\n",
    "print(complex(s1))\n",
    "print(complex(s2))\n",
    "print(complex(s3))\n",
    "\n",
    "print(bool(s1))\n",
    "print(bool(s2))\n",
    "print(bool(s3))\n",
    "\n",
    "print(list(s1))\n",
    "print(list(s2))\n",
    "print(list(s3))\n",
    "\n",
    "print(tuple(s1))\n",
    "print(tuple(s2))\n",
    "print(tuple(s3))\n",
    "\n",
    "print(set(s1))\n",
    "print(set(s2))\n",
    "print(set(s3))\n",
    "\n",
    "# print(dict(s1))   #ValueError: dictionary update sequence element #0 has length 1; 2 is required\n",
    "# print(dict(s2))   #ValueError: dictionary update sequence element #0 has length 1; 2 is required\n",
    "# print(dict(s3))    #ValueError: dictionary update sequence element #0 has length 1; 2 is required\n"
   ]
  },
  {
   "cell_type": "code",
   "execution_count": 91,
   "metadata": {},
   "outputs": [
    {
     "name": "stdout",
     "output_type": "stream",
     "text": [
      "True\n",
      "True\n",
      "['h', 'e', 'r', 'o']\n",
      "['c', 'a', 'p', '0', '0', '1']\n",
      "o\n",
      "1\n",
      "('h', 'e', 'r', 'o')\n",
      "('c', 'a', 'p', '0', '0', '1')\n",
      "r\n",
      "0\n",
      "{'e', 'o', 'h', 'r'}\n"
     ]
    },
    {
     "ename": "TypeError",
     "evalue": "'set' object is not subscriptable",
     "output_type": "error",
     "traceback": [
      "\u001b[1;31m---------------------------------------------------------------------------\u001b[0m",
      "\u001b[1;31mTypeError\u001b[0m                                 Traceback (most recent call last)",
      "Cell \u001b[1;32mIn[91], line 29\u001b[0m\n\u001b[0;32m     26\u001b[0m \u001b[38;5;28mprint\u001b[39m(\u001b[38;5;28mtuple\u001b[39m(s2)[\u001b[38;5;241m-\u001b[39m\u001b[38;5;241m3\u001b[39m])\n\u001b[0;32m     28\u001b[0m \u001b[38;5;28mprint\u001b[39m(\u001b[38;5;28mset\u001b[39m(s1))\n\u001b[1;32m---> 29\u001b[0m \u001b[38;5;28mprint\u001b[39m(\u001b[38;5;28;43mset\u001b[39;49m\u001b[43m(\u001b[49m\u001b[43ms1\u001b[49m\u001b[43m)\u001b[49m\u001b[43m[\u001b[49m\u001b[38;5;241;43m3\u001b[39;49m\u001b[43m]\u001b[49m)\n\u001b[0;32m     30\u001b[0m \u001b[38;5;28mprint\u001b[39m(\u001b[38;5;28mset\u001b[39m(s2))\n\u001b[0;32m     34\u001b[0m \u001b[38;5;66;03m# print(dict(s1))  # ValueError: dictionary update sequence element #0 has length 1; 2 is required\u001b[39;00m\n\u001b[0;32m     35\u001b[0m \u001b[38;5;66;03m# print(dict(s2))  # ValueError: dictionary update sequence element #0 has length 1; 2 is required\u001b[39;00m\n",
      "\u001b[1;31mTypeError\u001b[0m: 'set' object is not subscriptable"
     ]
    }
   ],
   "source": [
    "# ( 2 ) String with alphabets & alpha-numerics\n",
    "\n",
    "s1=\"hero\"\n",
    "s2=\"cap001\"\n",
    "\n",
    "# print(int(s1))    # ValueError: invalid literal for int() with base 10: 'hero'\n",
    "# print(int(s2))    # ValueError: invalid literal for int() with base 10: 'cap001'\n",
    "\n",
    "# print(float(s1))  # ValueError: could not convert string to float: 'hero'\n",
    "# print(float(s2))  # ValueError: could not convert string to float: 'hero'\n",
    "\n",
    "# print(complex(s1)) # ValueError: complex() arg is a malformed string\n",
    "# print(complex(s2)) # ValueError: complex() arg is a malformed string\n",
    "\n",
    "print(bool(s1)) \n",
    "print(bool(s2))\n",
    "\n",
    "print(list(s1))\n",
    "print(list(s2))\n",
    "print(list(s1)[3])\n",
    "print(list(s2)[-1])\n",
    "\n",
    "print(tuple(s1))\n",
    "print(tuple(s2))\n",
    "print(tuple(s1)[2])\n",
    "print(tuple(s2)[-3])\n",
    "\n",
    "print(set(s1))\n",
    "print(set(s2))\n",
    "\n",
    "\n",
    "\n",
    "# print(dict(s1))  # ValueError: dictionary update sequence element #0 has length 1; 2 is required\n",
    "# print(dict(s2))  # ValueError: dictionary update sequence element #0 has length 1; 2 is required\n"
   ]
  },
  {
   "cell_type": "markdown",
   "metadata": {},
   "source": [
    "# 6. Converting \"list\" DT into another DT\n",
    "\n",
    "    list------------>str,bool,tuple,set,dict"
   ]
  },
  {
   "cell_type": "code",
   "execution_count": 27,
   "metadata": {},
   "outputs": [
    {
     "name": "stdout",
     "output_type": "stream",
     "text": [
      "True\n",
      "[1, 2, 3, 2, 2, 3, 4, 2, 1, 4, 5, 6]\n",
      "(1, 2, 3, 2, 2, 3, 4, 2, 1, 4, 5, 6)\n",
      "{1, 2, 3, 4, 5, 6}\n"
     ]
    }
   ],
   "source": [
    "l=[1,2,3,2,2,3,4,2,1,4,5,6]\n",
    "\n",
    "# print(int(l))   # TypeError: int() argument must be a string, a bytes-like object or a real number, not 'list'\n",
    "# print(float(l)) # TypeError: float() argument must be a string or a real number, not 'list'\n",
    "# print(complex(l)) # TypeError: complex() first argument must be a string or a number, not 'list'\n",
    "\n",
    "print(bool(l))\n",
    "\n",
    "print(str(l))\n",
    "\n",
    "print(tuple(l))\n",
    "\n",
    "print(set(l))\n",
    "\n",
    "# print(dict(l))  # TypeError: cannot convert dictionary update sequence element #0 to a sequence"
   ]
  },
  {
   "cell_type": "markdown",
   "metadata": {},
   "source": [
    "In list Dictionary can't be accessed directly as shown above\n",
    "\n",
    "\n",
    "BUT a list can be converted into dictionary if it contains sub-elements of updated sequence of element 2.\n"
   ]
  },
  {
   "cell_type": "code",
   "execution_count": 101,
   "metadata": {},
   "outputs": [
    {
     "name": "stdout",
     "output_type": "stream",
     "text": [
      "{'name': 'ramu', 'age': 34, 'cars': ['audi', 'BMW', 'porsche'], 1: 100}\n"
     ]
    }
   ],
   "source": [
    "#Example: 1\n",
    "\n",
    "l1=[[\"name\",\"ramu\"],[\"age\",34],[\"cars\",[\"audi\",\"BMW\",\"porsche\"]],[1,100]]\n",
    "print(dict(l1))"
   ]
  },
  {
   "cell_type": "code",
   "execution_count": 104,
   "metadata": {},
   "outputs": [
    {
     "name": "stdout",
     "output_type": "stream",
     "text": [
      "{'name': 'jack', 'age': 23}\n"
     ]
    }
   ],
   "source": [
    "#Example: 2\n",
    "\n",
    "l2=[(\"name\",\"jack\"),(\"age\",23)]\n",
    "print(dict(l2))"
   ]
  },
  {
   "cell_type": "markdown",
   "metadata": {},
   "source": [
    "# 7. Converting \"Tuple\" DT into another DT\n",
    "    Tuple----------> bool,str, list,set,dict"
   ]
  },
  {
   "cell_type": "code",
   "execution_count": 20,
   "metadata": {},
   "outputs": [
    {
     "name": "stdout",
     "output_type": "stream",
     "text": [
      "True\n",
      "(1, 2, 3, 1, 1, 2, 4, 5, 1, 3, 4, 15, 'ramu', 'hari')\n",
      "2\n",
      ",\n",
      "'\n",
      "h\n",
      "[1, 2, 3, 1, 1, 2, 4, 5, 1, 3, 4, 15, 'ramu', 'hari']\n",
      "4\n",
      "5\n",
      "1\n",
      "{1, 2, 3, 4, 5, 'hari', 15, 'ramu'}\n"
     ]
    },
    {
     "ename": "TypeError",
     "evalue": "cannot convert dictionary update sequence element #0 to a sequence",
     "output_type": "error",
     "traceback": [
      "\u001b[1;31m---------------------------------------------------------------------------\u001b[0m",
      "\u001b[1;31mTypeError\u001b[0m                                 Traceback (most recent call last)",
      "Cell \u001b[1;32mIn[20], line 25\u001b[0m\n\u001b[0;32m     22\u001b[0m \u001b[38;5;28mprint\u001b[39m(\u001b[38;5;28mset\u001b[39m(t))\n\u001b[0;32m     23\u001b[0m \u001b[38;5;66;03m# print(set(t)[2])  # TypeError: 'set' object is not subscriptable\u001b[39;00m\n\u001b[1;32m---> 25\u001b[0m \u001b[38;5;28mprint\u001b[39m(\u001b[38;5;28;43mdict\u001b[39;49m\u001b[43m(\u001b[49m\u001b[43mt\u001b[49m\u001b[43m)\u001b[49m)\n",
      "\u001b[1;31mTypeError\u001b[0m: cannot convert dictionary update sequence element #0 to a sequence"
     ]
    }
   ],
   "source": [
    "t=(1,2,3,1,1,2,4,5,1,3,4,15,\"ramu\",\"hari\")\n",
    "\n",
    "# print(int(t))  # TypeError: int() argument must be a string, a bytes-like object or a real number, not 'tuple'\n",
    "\n",
    "# print(float(t))  # TypeError: float() argument must be a string or a real number, not 'tuple'\n",
    "\n",
    "# print(complex(t)) # TypeError: complex() first argument must be a string or a number, not 'tuple'\n",
    "\n",
    "print(bool(t))\n",
    "\n",
    "print(str(t))\n",
    "print(str(t)[4])\n",
    "print(str(t)[5])\n",
    "print(str(t)[-7])\n",
    "print(str(t)[-6])\n",
    "\n",
    "print(list(t))\n",
    "print(list(t)[6])\n",
    "print(list(t)[7])\n",
    "print(list(t)[8])\n",
    "\n",
    "print(set(t))\n",
    "# print(set(t)[2])  # TypeError: 'set' object is not subscriptable\n",
    "\n",
    "#print(dict(t))  # TypeError: cannot convert dictionary update sequence element #0 to a sequence"
   ]
  },
  {
   "cell_type": "markdown",
   "metadata": {},
   "source": [
    "In Tuple, Dictionary can't be accessed directly as shown above\n",
    "\n",
    "\n",
    "BUT a Tuple can be converted into dictionary if it contains sub-elements of updated sequence of element 2.\n"
   ]
  },
  {
   "cell_type": "code",
   "execution_count": 24,
   "metadata": {},
   "outputs": [
    {
     "name": "stdout",
     "output_type": "stream",
     "text": [
      "{'name': 'jashu', 'age': 30, 'marks': '100'}\n"
     ]
    }
   ],
   "source": [
    "# tuple contains tuple\n",
    "\n",
    "t1=((\"name\",\"jashu\"),(\"age\",30),(\"marks\",\"100\"))\n",
    "print(dict(t1))"
   ]
  },
  {
   "cell_type": "code",
   "execution_count": 26,
   "metadata": {},
   "outputs": [
    {
     "name": "stdout",
     "output_type": "stream",
     "text": [
      "{'employee': 'ravi', 'department': 'developer', 'role': 'HR'}\n"
     ]
    }
   ],
   "source": [
    "# tuple contains tu\"ple & list\n",
    "\n",
    "t2= ((\"employee\",\"ravi\"),(\"department\",'developer'),[\"role\",'HR'])\n",
    "print(dict(t2))"
   ]
  },
  {
   "cell_type": "markdown",
   "metadata": {},
   "source": [
    "# 8. Converting \"set\" DT into another DT \n",
    "\n",
    "set----------->bool, str, list,tuple,dict"
   ]
  },
  {
   "cell_type": "code",
   "execution_count": 37,
   "metadata": {},
   "outputs": [
    {
     "name": "stdout",
     "output_type": "stream",
     "text": [
      "True\n",
      "{1, 2, 3, 4}\n",
      "3\n",
      "[1, 2, 3, 4]\n",
      "3\n",
      "(1, 2, 3, 4)\n",
      "4\n"
     ]
    },
    {
     "ename": "TypeError",
     "evalue": "cannot convert dictionary update sequence element #0 to a sequence",
     "output_type": "error",
     "traceback": [
      "\u001b[1;31m---------------------------------------------------------------------------\u001b[0m",
      "\u001b[1;31mTypeError\u001b[0m                                 Traceback (most recent call last)",
      "Cell \u001b[1;32mIn[37], line 13\u001b[0m\n\u001b[0;32m     10\u001b[0m \u001b[38;5;28mprint\u001b[39m(\u001b[38;5;28mtuple\u001b[39m(s))\n\u001b[0;32m     11\u001b[0m \u001b[38;5;28mprint\u001b[39m(\u001b[38;5;28mtuple\u001b[39m(s)[\u001b[38;5;241m3\u001b[39m])\n\u001b[1;32m---> 13\u001b[0m \u001b[38;5;28mprint\u001b[39m(\u001b[38;5;28;43mdict\u001b[39;49m\u001b[43m(\u001b[49m\u001b[43ms\u001b[49m\u001b[43m)\u001b[49m)\n",
      "\u001b[1;31mTypeError\u001b[0m: cannot convert dictionary update sequence element #0 to a sequence"
     ]
    }
   ],
   "source": [
    "s={1,2,3,4,2,1,3,3,4,2}\n",
    "print(bool(s))\n",
    "\n",
    "print(str(s))\n",
    "print(str(s)[7])\n",
    "\n",
    "print(list(s))\n",
    "print(list(s)[2])\n",
    "\n",
    "print(tuple(s))\n",
    "print(tuple(s)[3])\n",
    "\n",
    "print(dict(s))\n"
   ]
  },
  {
   "cell_type": "markdown",
   "metadata": {},
   "source": [
    "In sets, Dictionary can't be accessed directly as shown above\n",
    "\n",
    "\n",
    "BUT a sets can be converted into dictionary if it contains sub-elements of updated sequence of element 2.\n"
   ]
  },
  {
   "cell_type": "code",
   "execution_count": 43,
   "metadata": {},
   "outputs": [
    {
     "name": "stdout",
     "output_type": "stream",
     "text": [
      "{'rollno': 10, 1: 2, 3: 4, 'name': 'ramu'}\n"
     ]
    },
    {
     "ename": "TypeError",
     "evalue": "unhashable type: 'list'",
     "output_type": "error",
     "traceback": [
      "\u001b[1;31m---------------------------------------------------------------------------\u001b[0m",
      "\u001b[1;31mTypeError\u001b[0m                                 Traceback (most recent call last)",
      "Cell \u001b[1;32mIn[43], line 3\u001b[0m\n\u001b[0;32m      1\u001b[0m s\u001b[38;5;241m=\u001b[39m{(\u001b[38;5;241m1\u001b[39m,\u001b[38;5;241m2\u001b[39m),(\u001b[38;5;241m3\u001b[39m,\u001b[38;5;241m4\u001b[39m),(\u001b[38;5;124m\"\u001b[39m\u001b[38;5;124mname\u001b[39m\u001b[38;5;124m\"\u001b[39m,\u001b[38;5;124m\"\u001b[39m\u001b[38;5;124mramu\u001b[39m\u001b[38;5;124m\"\u001b[39m),(\u001b[38;5;124m\"\u001b[39m\u001b[38;5;124mrollno\u001b[39m\u001b[38;5;124m\"\u001b[39m,\u001b[38;5;241m10\u001b[39m)}\n\u001b[0;32m      2\u001b[0m \u001b[38;5;28mprint\u001b[39m(\u001b[38;5;28mdict\u001b[39m(s))\n\u001b[1;32m----> 3\u001b[0m t\u001b[38;5;241m=\u001b[39m{[\u001b[38;5;241m1\u001b[39m,\u001b[38;5;241m2\u001b[39m]}\n\u001b[0;32m      4\u001b[0m \u001b[38;5;28mprint\u001b[39m(\u001b[38;5;28mdict\u001b[39m(t))\n",
      "\u001b[1;31mTypeError\u001b[0m: unhashable type: 'list'"
     ]
    }
   ],
   "source": [
    "s={(1,2),(3,4),(\"name\",\"ramu\"),(\"rollno\",10)}\n",
    "print(dict(s))\n",
    "t={[1,2]}  # unhashable type: 'list'\n",
    "print(dict(t))\n"
   ]
  },
  {
   "cell_type": "markdown",
   "metadata": {},
   "source": [
    "# 9. Converting \"dict\" DT into another DT\n",
    "\n",
    "dict---->bool,str,list,tuple,set"
   ]
  },
  {
   "cell_type": "code",
   "execution_count": 47,
   "metadata": {},
   "outputs": [
    {
     "name": "stdout",
     "output_type": "stream",
     "text": [
      "True\n",
      "{'name': 'ramu', 'age': 45}\n",
      "['name', 'age']\n",
      "('name', 'age')\n",
      "{'age', 'name'}\n"
     ]
    }
   ],
   "source": [
    "d={\"name\":\"ramu\",\"age\":45}\n",
    "\n",
    "print(bool(d))\n",
    "print(str(d))\n",
    "print(list(d))\n",
    "print(tuple(d))\n",
    "print(set(d))\n"
   ]
  }
 ],
 "metadata": {
  "kernelspec": {
   "display_name": "Python 3",
   "language": "python",
   "name": "python3"
  },
  "language_info": {
   "codemirror_mode": {
    "name": "ipython",
    "version": 3
   },
   "file_extension": ".py",
   "mimetype": "text/x-python",
   "name": "python",
   "nbconvert_exporter": "python",
   "pygments_lexer": "ipython3",
   "version": "3.12.2"
  }
 },
 "nbformat": 4,
 "nbformat_minor": 2
}
