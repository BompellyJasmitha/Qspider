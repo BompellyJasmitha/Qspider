{
 "cells": [
  {
   "cell_type": "markdown",
   "metadata": {},
   "source": [
    "# IDENTIFIERS------> name according to requirement\n",
    " \n",
    " 4--Types:\n",
    "    \n",
    "    1. variable name\n",
    "    2. class name\n",
    "    3. method name/ function name\n",
    "    4. object name\n",
    "\n",
    "    "
   ]
  },
  {
   "cell_type": "markdown",
   "metadata": {},
   "source": [
    "# To Give A Valid Name We Need To Follow Rules Of Identifiers:\n",
    "\n",
    "    1. Should not be a KEY-WORD\n",
    "    2. Should not contain any SPECIAL SYMBOLS except UNDERSCORE '_'\n",
    "    3. Can contain all alphabets or alphanumerics \n",
    "    4. should not be numeri-alphabets or all numerics"
   ]
  },
  {
   "cell_type": "markdown",
   "metadata": {},
   "source": [
    "# VALID IDENTIFIERS                 IN-VALID IDENTIFIERS\n",
    "\n",
    "num_1                                  1@2\n",
    "dinga                                  num@1\n",
    "manga                                  x$y$Z\n",
    "num                                    a_b@1\n",
    "XY_Z                                   xy@zx\n",
    "_ab                                    raja  1\n",
    "a_b\n",
    "int_variable\n",
    "int\n",
    "float_1\n",
    "basic\n",
    "digit\n",
    "Values\n",
    "@value\n",
    "tuple_1\n",
    "st_1\n",
    "str1\n",
    "raju_1"
   ]
  },
  {
   "cell_type": "code",
   "execution_count": 11,
   "metadata": {},
   "outputs": [
    {
     "name": "stdout",
     "output_type": "stream",
     "text": [
      "g\n",
      "r\n"
     ]
    }
   ],
   "source": [
    "# l=[1,2,(5,6),\"hero\",{1,2,3,4},{1:200,2:\"mango\",3:20.67}] \\ print: g,r(memory allocation dig)\n",
    "\n",
    "l=[1,2,(5,6),\"hero\",{1,2,3,4},{1:200,2:\"mango\",3:20.67}]\n",
    "print(l[5][2][3])\n",
    "print(l[3][2])"
   ]
  },
  {
   "cell_type": "code",
   "execution_count": 2,
   "metadata": {},
   "outputs": [
    {
     "name": "stdout",
     "output_type": "stream",
     "text": [
      "False\n",
      "None\n",
      "True\n",
      "and\n",
      "as\n",
      "assert\n",
      "async\n",
      "await\n",
      "break\n",
      "class\n",
      "continue\n",
      "def\n",
      "del\n",
      "elif\n",
      "else\n",
      "except\n",
      "finally\n",
      "for\n",
      "from\n",
      "global\n",
      "if\n",
      "import\n",
      "in\n",
      "is\n",
      "lambda\n",
      "nonlocal\n",
      "not\n",
      "or\n",
      "pass\n",
      "raise\n",
      "return\n",
      "try\n",
      "while\n",
      "with\n",
      "yield\n"
     ]
    }
   ],
   "source": [
    "# method:1 to print all 35 keywords in the python: \n",
    "\n",
    "\n",
    "import keyword\n",
    "for i in keyword.kwlist:\n",
    "    print(i)"
   ]
  },
  {
   "cell_type": "code",
   "execution_count": 3,
   "metadata": {},
   "outputs": [
    {
     "name": "stdout",
     "output_type": "stream",
     "text": [
      "['False', 'None', 'True', 'and', 'as', 'assert', 'async', 'await', 'break', 'class', 'continue', 'def', 'del', 'elif', 'else', 'except', 'finally', 'for', 'from', 'global', 'if', 'import', 'in', 'is', 'lambda', 'nonlocal', 'not', 'or', 'pass', 'raise', 'return', 'try', 'while', 'with', 'yield']\n"
     ]
    }
   ],
   "source": [
    "# method:2\n",
    "\n",
    "import keyword\n",
    "print(keyword.kwlist)"
   ]
  }
 ],
 "metadata": {
  "kernelspec": {
   "display_name": "Python 3",
   "language": "python",
   "name": "python3"
  },
  "language_info": {
   "codemirror_mode": {
    "name": "ipython",
    "version": 3
   },
   "file_extension": ".py",
   "mimetype": "text/x-python",
   "name": "python",
   "nbconvert_exporter": "python",
   "pygments_lexer": "ipython3",
   "version": "3.12.2"
  }
 },
 "nbformat": 4,
 "nbformat_minor": 2
}
