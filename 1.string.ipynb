{
 "cells": [
  {
   "cell_type": "markdown",
   "metadata": {},
   "source": [
    "# STRING:\n",
    " \n",
    "syntax: varname=\"ch1ch2ch3.....chn\" or varname='ch1ch2ch3.....chn'"
   ]
  },
  {
   "cell_type": "code",
   "execution_count": 10,
   "metadata": {},
   "outputs": [
    {
     "name": "stdout",
     "output_type": "stream",
     "text": [
      "red apple <class 'str'>\n"
     ]
    }
   ],
   "source": [
    "s=\"red apple\"\n",
    "print(s,type(s))"
   ]
  },
  {
   "cell_type": "code",
   "execution_count": 11,
   "metadata": {},
   "outputs": [
    {
     "name": "stdout",
     "output_type": "stream",
     "text": [
      "hello i'm jack\n",
      "<class 'str'>\n"
     ]
    }
   ],
   "source": [
    "s=\"hello i'm jack\"\n",
    "print(s)\n",
    "print(type(s))"
   ]
  },
  {
   "cell_type": "code",
   "execution_count": 12,
   "metadata": {},
   "outputs": [
    {
     "name": "stdout",
     "output_type": "stream",
     "text": [
      "janu said, \"im a student\".\n",
      "<class 'str'>\n"
     ]
    }
   ],
   "source": [
    "s='janu said, \"im a student\".'\n",
    "print(s)\n",
    "print(type(s))"
   ]
  },
  {
   "cell_type": "code",
   "execution_count": 13,
   "metadata": {},
   "outputs": [
    {
     "name": "stdout",
     "output_type": "stream",
     "text": [
      "i'm good <class 'str'>\n"
     ]
    }
   ],
   "source": [
    "s=\"i'm good\"\n",
    "print(s,type(s))"
   ]
  },
  {
   "cell_type": "markdown",
   "metadata": {},
   "source": [
    "# DOC or DOCUMENTATION STRING :\n",
    "     syntax: \"\"\"   \"\"\" /'''  '''"
   ]
  },
  {
   "cell_type": "code",
   "execution_count": 14,
   "metadata": {},
   "outputs": [
    {
     "name": "stdout",
     "output_type": "stream",
     "text": [
      " i'm sonu ,a student\n",
      "              i'm studying in a \"10th class\"\n",
      "              i'm of '12's years of age.\n"
     ]
    }
   ],
   "source": [
    "paragraph=\"\"\" i'm sonu ,a student\n",
    "              i'm studying in a \"10th class\"\n",
    "              i'm of '12's years of age.\"\"\"\n",
    "print(paragraph)"
   ]
  },
  {
   "cell_type": "markdown",
   "metadata": {},
   "source": [
    "# STRING SUPPORT'S INDEXING s:\n",
    " indexing can be +ve or -ve ./ indexing is to get or read a single characters from a string.\n",
    " \n",
    " syntax : varname[index]"
   ]
  },
  {
   "cell_type": "code",
   "execution_count": 15,
   "metadata": {},
   "outputs": [
    {
     "name": "stdout",
     "output_type": "stream",
     "text": [
      "r\n",
      "r\n"
     ]
    }
   ],
   "source": [
    "# we can print a single character from a string in two ways\n",
    "\n",
    "# WAY-1:\n",
    "\n",
    "st=\"hero\"\n",
    "v=st[2]\n",
    "print(v)\n",
    "\n",
    "# WAY-2:\n",
    "\n",
    "st=\"hero\"\n",
    "print(st[2])"
   ]
  },
  {
   "cell_type": "code",
   "execution_count": 16,
   "metadata": {},
   "outputs": [
    {
     "name": "stdout",
     "output_type": "stream",
     "text": [
      "e\n",
      "e\n",
      "t\n"
     ]
    }
   ],
   "source": [
    "#print using -ve indexing\n",
    "st=\"tiger\"\n",
    "v=st[3]\n",
    "print(v)\n",
    "print(st[-2])\n",
    "print(st[0])"
   ]
  },
  {
   "cell_type": "code",
   "execution_count": 17,
   "metadata": {},
   "outputs": [
    {
     "name": "stdout",
     "output_type": "stream",
     "text": [
      " \n",
      "r\n",
      "d\n",
      "i\n"
     ]
    }
   ],
   "source": [
    "st='im a developer'\n",
    "print(st[2])\n",
    "print(st[-1])\n",
    "print(st[5])\n",
    "print(st[0])"
   ]
  },
  {
   "cell_type": "markdown",
   "metadata": {},
   "source": [
    "# string is IMMUTABLE - CANNOT BE CHANGED \n",
    "  entier character in a string             # can be changed      dinga---->rani \n",
    "  \n",
    "  single character in a string             # cannot be changed   rani----->pani\n"
   ]
  },
  {
   "cell_type": "code",
   "execution_count": 23,
   "metadata": {},
   "outputs": [
    {
     "name": "stdout",
     "output_type": "stream",
     "text": [
      "Before modification : rani\n"
     ]
    },
    {
     "ename": "TypeError",
     "evalue": "'str' object does not support item assignment",
     "output_type": "error",
     "traceback": [
      "\u001b[1;31m---------------------------------------------------------------------------\u001b[0m",
      "\u001b[1;31mTypeError\u001b[0m                                 Traceback (most recent call last)",
      "Cell \u001b[1;32mIn[23], line 5\u001b[0m\n\u001b[0;32m      2\u001b[0m st\u001b[38;5;241m=\u001b[39m\u001b[38;5;124m\"\u001b[39m\u001b[38;5;124mrani\u001b[39m\u001b[38;5;124m\"\u001b[39m\n\u001b[0;32m      3\u001b[0m \u001b[38;5;28mprint\u001b[39m(\u001b[38;5;124m\"\u001b[39m\u001b[38;5;124mBefore modification :\u001b[39m\u001b[38;5;124m\"\u001b[39m , st)\n\u001b[1;32m----> 5\u001b[0m \u001b[43mst\u001b[49m\u001b[43m[\u001b[49m\u001b[38;5;241;43m0\u001b[39;49m\u001b[43m]\u001b[49m\u001b[38;5;241m=\u001b[39m\u001b[38;5;124m\"\u001b[39m\u001b[38;5;124ml\u001b[39m\u001b[38;5;124m\"\u001b[39m     \u001b[38;5;66;03m# ERROR message\u001b[39;00m\n",
      "\u001b[1;31mTypeError\u001b[0m: 'str' object does not support item assignment"
     ]
    }
   ],
   "source": [
    "# cannot be changed   rani----->pani\n",
    "st=\"rani\"\n",
    "print(\"Before modification :\" , st) # o/p: Before modification : rani\n",
    "\n",
    "st[0]=\"l\"                           #o/p: ERROR message\n",
    "  "
   ]
  },
  {
   "cell_type": "code",
   "execution_count": 24,
   "metadata": {},
   "outputs": [
    {
     "name": "stdout",
     "output_type": "stream",
     "text": [
      "Before modification: dinga\n",
      "After modification: rani\n"
     ]
    }
   ],
   "source": [
    " # can be changed      dinga---->rani\n",
    "st=\"dinga\"\n",
    "print(\"Before modification:\",st)\n",
    "\n",
    "st=\"rani\"\n",
    "print(\"After modification:\",st)"
   ]
  },
  {
   "cell_type": "markdown",
   "metadata": {},
   "source": [
    " String Allows Duplicate Characters"
   ]
  },
  {
   "cell_type": "code",
   "execution_count": 25,
   "metadata": {},
   "outputs": [
    {
     "name": "stdout",
     "output_type": "stream",
     "text": [
      "hdjgjhechhbjjhjhjhj\n"
     ]
    }
   ],
   "source": [
    "st=\"hdjgjhechhbjjhjhjhj\"\n",
    "print(st)"
   ]
  }
 ],
 "metadata": {
  "kernelspec": {
   "display_name": "Python 3",
   "language": "python",
   "name": "python3"
  },
  "language_info": {
   "codemirror_mode": {
    "name": "ipython",
    "version": 3
   },
   "file_extension": ".py",
   "mimetype": "text/x-python",
   "name": "python",
   "nbconvert_exporter": "python",
   "pygments_lexer": "ipython3",
   "version": "3.12.2"
  }
 },
 "nbformat": 4,
 "nbformat_minor": 2
}
