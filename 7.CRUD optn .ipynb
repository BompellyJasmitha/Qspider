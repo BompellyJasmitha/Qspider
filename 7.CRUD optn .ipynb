{
 "cells": [
  {
   "cell_type": "markdown",
   "metadata": {},
   "source": [
    "# C-creating a list - 2 ways\n",
    "\n",
    "1. creating an empty list\n",
    "2. creating a list with a pre-define elements"
   ]
  },
  {
   "cell_type": "code",
   "execution_count": 3,
   "metadata": {},
   "outputs": [
    {
     "name": "stdout",
     "output_type": "stream",
     "text": [
      "[]\n"
     ]
    }
   ],
   "source": [
    "# Example: 1\n",
    "l=[]\n",
    "print(l)"
   ]
  },
  {
   "cell_type": "code",
   "execution_count": 2,
   "metadata": {},
   "outputs": [
    {
     "name": "stdout",
     "output_type": "stream",
     "text": [
      "[1, 2, 3, 4, 5]\n"
     ]
    }
   ],
   "source": [
    "#Example :2\n",
    "l2=[1,2,3,4,5]\n",
    "print(l2)"
   ]
  },
  {
   "cell_type": "markdown",
   "metadata": {},
   "source": [
    "# R- Read a list- 2 ways\n",
    "\n",
    "1. read complete list\n",
    "2. read only particural element in the list"
   ]
  },
  {
   "cell_type": "markdown",
   "metadata": {},
   "source": [
    "1 Reading complete list at a time"
   ]
  },
  {
   "cell_type": "code",
   "execution_count": 4,
   "metadata": {},
   "outputs": [
    {
     "name": "stdout",
     "output_type": "stream",
     "text": [
      "[1, 2, 'raja', 4]\n",
      "[1, 2, 'raja', 4]\n"
     ]
    }
   ],
   "source": [
    "#Example: 1\n",
    "\n",
    "l=[1,2,\"raja\",4]\n",
    "print(l)     # we can directly print the elements\n",
    "v=l\n",
    "print(v)     # allocating to another variable\n",
    " \n"
   ]
  },
  {
   "cell_type": "code",
   "execution_count": 10,
   "metadata": {},
   "outputs": [
    {
     "name": "stdout",
     "output_type": "stream",
     "text": [
      "[1, 2, 'raja', 4, 5]\n",
      "2097729561216\n",
      "2097729561216\n"
     ]
    }
   ],
   "source": [
    "# Example:2  print the address of the element \n",
    "\n",
    "l=[1,2,\"raja\",4,5]\n",
    "print(l)\n",
    "print(id(l))\n",
    "list=l\n",
    "print(id(list))"
   ]
  },
  {
   "cell_type": "markdown",
   "metadata": {},
   "source": [
    "2 Reading the single element using idexing "
   ]
  },
  {
   "cell_type": "code",
   "execution_count": 11,
   "metadata": {},
   "outputs": [
    {
     "name": "stdout",
     "output_type": "stream",
     "text": [
      "[1, 2, 3, 'list']\n",
      "4\n",
      "t\n"
     ]
    }
   ],
   "source": [
    "# EXample:1\n",
    "\n",
    "l=[1,2,3,\"list\"]\n",
    "print(l)\n",
    "print(l[0]+l[-2])  # arthimatic operatios can be performed \n",
    "v=l\n",
    "print(l[3][-1])"
   ]
  },
  {
   "cell_type": "markdown",
   "metadata": {},
   "source": [
    "# U - Update a list - 2 ways\n",
    "\n",
    "1. update the list w. r. t to variables\n"
   ]
  },
  {
   "cell_type": "code",
   "execution_count": 1,
   "metadata": {},
   "outputs": [
    {
     "name": "stdout",
     "output_type": "stream",
     "text": [
      "[1, 2, 3]\n",
      "1808458598272\n",
      "[1, 2, 3, 4, 5, 6]\n",
      "1808458607616\n"
     ]
    }
   ],
   "source": [
    "#EXamole:1\n",
    "\n",
    "l1=[1,2,3]\n",
    "l2=[1,2,3,4,5,6]\n",
    "print(l1)\n",
    "print(id(l1))\n",
    "print(l2)\n",
    "print(id(l2))"
   ]
  },
  {
   "cell_type": "markdown",
   "metadata": {},
   "source": [
    "2. update the w.r.t single elements in alist  2 ways:\n",
    "\n",
    "                     2a.                           2b.\n",
    "can update      value part                      value part \n",
    "                  sub-block                       element"
   ]
  },
  {
   "cell_type": "code",
   "execution_count": 3,
   "metadata": {},
   "outputs": [
    {
     "name": "stdout",
     "output_type": "stream",
     "text": [
      "[1, 2, 3]\n",
      "1808458688896\n",
      "[3, 2, 4, 1, 5]\n",
      "1808458746176\n"
     ]
    }
   ],
   "source": [
    "#Example:2\n",
    "\n",
    "u=[1,2,3]\n",
    "print(u)\n",
    "print(id(u))\n",
    "u=[3,2,4,1,5]\n",
    "print(u)\n",
    "print(id(u))\n"
   ]
  },
  {
   "cell_type": "code",
   "execution_count": 6,
   "metadata": {},
   "outputs": [
    {
     "name": "stdout",
     "output_type": "stream",
     "text": [
      "[100, 200, 3, 400]\n",
      "[3, 200, 3, 400]\n",
      "3\n"
     ]
    }
   ],
   "source": [
    "#Example: 3\n",
    "\n",
    "u=[100,200,3,400]\n",
    "print(u)\n",
    "u[0]=u[2]\n",
    "print(u)\n",
    "print(u[0])"
   ]
  },
  {
   "cell_type": "code",
   "execution_count": 9,
   "metadata": {},
   "outputs": [
    {
     "name": "stdout",
     "output_type": "stream",
     "text": [
      "1808464848832\n",
      "[300, 2, 1]\n",
      "1808464848832\n",
      "[300, 200, 1]\n",
      "1808464848832\n",
      "[300, 200, 1000]\n",
      "1808464848832\n"
     ]
    }
   ],
   "source": [
    "#Example: 4\n",
    "\n",
    "t=[3,2,1]\n",
    "print(id(t))\n",
    "t[0]=300\n",
    "print(t)\n",
    "print(id(t))\n",
    "t[1]=200\n",
    "print(t)\n",
    "print(id(t))\n",
    "t[2]=1000\n",
    "print(t)\n",
    "print(id(t))"
   ]
  },
  {
   "cell_type": "markdown",
   "metadata": {},
   "source": [
    "# D-Delete w.r.t list -2 ways\n",
    "\n",
    "1. delete complete elements (list becomes empty)\n",
    "\n",
    "2. delete particular element "
   ]
  },
  {
   "cell_type": "code",
   "execution_count": 10,
   "metadata": {},
   "outputs": [
    {
     "ename": "NameError",
     "evalue": "name 'l' is not defined",
     "output_type": "error",
     "traceback": [
      "\u001b[1;31m---------------------------------------------------------------------------\u001b[0m",
      "\u001b[1;31mNameError\u001b[0m                                 Traceback (most recent call last)",
      "Cell \u001b[1;32mIn[10], line 5\u001b[0m\n\u001b[0;32m      3\u001b[0m l\u001b[38;5;241m=\u001b[39m[\u001b[38;5;241m1\u001b[39m,\u001b[38;5;241m2\u001b[39m,\u001b[38;5;241m3\u001b[39m,\u001b[38;5;241m4\u001b[39m,\u001b[38;5;241m5\u001b[39m]\n\u001b[0;32m      4\u001b[0m \u001b[38;5;28;01mdel\u001b[39;00m(l)\n\u001b[1;32m----> 5\u001b[0m \u001b[38;5;28mprint\u001b[39m(\u001b[43ml\u001b[49m)\n",
      "\u001b[1;31mNameError\u001b[0m: name 'l' is not defined"
     ]
    }
   ],
   "source": [
    "#EXample:1\n",
    "\n",
    "l=[1,2,3,4,5]\n",
    "del(l)\n",
    "print(l)"
   ]
  },
  {
   "cell_type": "code",
   "execution_count": 12,
   "metadata": {},
   "outputs": [
    {
     "name": "stdout",
     "output_type": "stream",
     "text": [
      "[2, 3, 4, 5]\n"
     ]
    }
   ],
   "source": [
    "#Example:2\n",
    "\n",
    "l=[1,2,3,4,5]\n",
    "del l[0]\n",
    "print(l)"
   ]
  }
 ],
 "metadata": {
  "kernelspec": {
   "display_name": "Python 3",
   "language": "python",
   "name": "python3"
  },
  "language_info": {
   "codemirror_mode": {
    "name": "ipython",
    "version": 3
   },
   "file_extension": ".py",
   "mimetype": "text/x-python",
   "name": "python",
   "nbconvert_exporter": "python",
   "pygments_lexer": "ipython3",
   "version": "3.12.2"
  }
 },
 "nbformat": 4,
 "nbformat_minor": 2
}
