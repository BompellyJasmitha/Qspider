{
 "cells": [
  {
   "cell_type": "markdown",
   "metadata": {},
   "source": [
    "# Expression's :\n",
    "    expression = 9 + 1\n",
    "    where 9 & 1 is OPERANDS (data:1,2.5,\"apple\",..)\n",
    "            + is OPERATOR (symbol: +, -, //, /, %,...)\n",
    "\n",
    "Expression is a combination of data / (OPERANDS)  & symbols / (OPERATORS) which produces the desire results."
   ]
  },
  {
   "cell_type": "markdown",
   "metadata": {},
   "source": [
    "    1. Arthimatic Operators (+,-,*,/,//,%,**)\n",
    "    2. Relational Operators (<,>,<=,>=)\n",
    "    3. Comparision Operators  (==,!=)\n",
    "    4. Logical Operators (and ,or,not)\n",
    "    5. Assignment Operators(+=,-=,*=,/=,//=,**=,%=)\n",
    "    6. Bitwise Operators(&,|,~,>>,<<,^)\n",
    "    7. Member ship Operators (in,notin)\n",
    "    8. Identity Operators (is,isnot)"
   ]
  },
  {
   "cell_type": "markdown",
   "metadata": {},
   "source": [
    "# ARTHIMATIC OPERATORS :"
   ]
  },
  {
   "cell_type": "markdown",
   "metadata": {},
   "source": [
    "    1. PLUS ( + ) : 2 ways \n",
    "\n",
    "        Addition : [ int, float, complex, bool]  // for single value datatype\n",
    "        Concatination : [ OPD1 + OPD2 -----> OPD1OPD2 ] // multi value datatype\n",
    "                        [ str1 + str2 -----> str1str2 ]\n",
    "                        [ list1 +list2-----> list1list2]\n",
    "                        [tuple1 + tuple2---> tuple1tuple2]"
   ]
  },
  {
   "cell_type": "markdown",
   "metadata": {},
   "source": [
    "\n",
    "$ Addition: \n",
    "\n",
    "when 2 operand are single value datatypes (int, float, bool, complex) addition is carryed out by simple additon of SVDT . "
   ]
  },
  {
   "cell_type": "code",
   "execution_count": 3,
   "metadata": {},
   "outputs": [
    {
     "name": "stdout",
     "output_type": "stream",
     "text": [
      "32\n",
      "32\n"
     ]
    }
   ],
   "source": [
    "#Example: 1\n",
    "\n",
    "a=10\n",
    "b=22\n",
    "sum=a+b\n",
    "print(sum)\n",
    "print(a+b)"
   ]
  },
  {
   "cell_type": "code",
   "execution_count": 6,
   "metadata": {},
   "outputs": [
    {
     "name": "stdout",
     "output_type": "stream",
     "text": [
      "13.3\n",
      "18.64\n",
      "17.64\n"
     ]
    }
   ],
   "source": [
    "#Example: 2\n",
    "\n",
    "a=True\n",
    "b=12.3\n",
    "c=5.34\n",
    "print(a+b)\n",
    "print(a+b+c)\n",
    "print(b+c)\n",
    "\n"
   ]
  },
  {
   "cell_type": "code",
   "execution_count": 7,
   "metadata": {},
   "outputs": [
    {
     "name": "stdout",
     "output_type": "stream",
     "text": [
      "(32.3+12j)\n",
      "(7+12j)\n",
      "(29.3+7j)\n",
      "(28.3+5j)\n"
     ]
    }
   ],
   "source": [
    "#Example: 3\n",
    "\n",
    "a=1\n",
    "b=3+5j\n",
    "c=4+7j\n",
    "d=25.3\n",
    "\n",
    "print(a+b+c+d)\n",
    "print(a+b+c)\n",
    "print(c+d)\n",
    "print(a+b+d)"
   ]
  },
  {
   "cell_type": "code",
   "execution_count": 15,
   "metadata": {},
   "outputs": [
    {
     "name": "stdout",
     "output_type": "stream",
     "text": [
      "2\n",
      "(23.45+83j)\n",
      "2\n",
      "(21.45+83j)\n"
     ]
    }
   ],
   "source": [
    "#Example: 4\n",
    "\n",
    "a=True\n",
    "b=False\n",
    "g=True\n",
    "c=12\n",
    "d=2.45\n",
    "e=3+5j\n",
    "f=4+78j\n",
    "print(a+b+g)\n",
    "print(a+b+c+d+e+f+g)\n",
    "print(a+b+g)\n",
    "print(c+d+e+f)\n"
   ]
  },
  {
   "cell_type": "markdown",
   "metadata": {},
   "source": [
    "$ Concatination : (merging)\n",
    "\n",
    "In concatination the operands used should be of same datatype."
   ]
  },
  {
   "cell_type": "code",
   "execution_count": 16,
   "metadata": {},
   "outputs": [
    {
     "name": "stdout",
     "output_type": "stream",
     "text": [
      "pythonprogramming\n",
      "programmingpython\n"
     ]
    }
   ],
   "source": [
    "#Example: 1\n",
    "\n",
    "s=\"python\"\n",
    "t=\"programming\"\n",
    "print(s+t)\n",
    "merge=t+s\n",
    "print(merge)"
   ]
  },
  {
   "cell_type": "code",
   "execution_count": 17,
   "metadata": {},
   "outputs": [
    {
     "ename": "TypeError",
     "evalue": "can only concatenate str (not \"int\") to str",
     "output_type": "error",
     "traceback": [
      "\u001b[1;31m---------------------------------------------------------------------------\u001b[0m",
      "\u001b[1;31mTypeError\u001b[0m                                 Traceback (most recent call last)",
      "Cell \u001b[1;32mIn[17], line 5\u001b[0m\n\u001b[0;32m      3\u001b[0m s\u001b[38;5;241m=\u001b[39m\u001b[38;5;124m\"\u001b[39m\u001b[38;5;124mcat\u001b[39m\u001b[38;5;124m\"\u001b[39m\n\u001b[0;32m      4\u001b[0m t\u001b[38;5;241m=\u001b[39m\u001b[38;5;241m20\u001b[39m\n\u001b[1;32m----> 5\u001b[0m \u001b[38;5;28mprint\u001b[39m(\u001b[43ms\u001b[49m\u001b[38;5;241;43m+\u001b[39;49m\u001b[43mt\u001b[49m)\n",
      "\u001b[1;31mTypeError\u001b[0m: can only concatenate str (not \"int\") to str"
     ]
    }
   ],
   "source": [
    "#Example: 2\n",
    "\n",
    "s=\"cat\"\n",
    "t=20\n",
    "print(s+t) #ERROR"
   ]
  },
  {
   "cell_type": "code",
   "execution_count": 18,
   "metadata": {},
   "outputs": [
    {
     "name": "stdout",
     "output_type": "stream",
     "text": [
      "[1, 2, 3, 4, 5, 6]\n"
     ]
    }
   ],
   "source": [
    "#Example: 3\n",
    "\n",
    "l=[1,2,3]\n",
    "l1=[4,5,6]\n",
    "print(l+l1)\n"
   ]
  },
  {
   "cell_type": "code",
   "execution_count": 19,
   "metadata": {},
   "outputs": [
    {
     "name": "stdout",
     "output_type": "stream",
     "text": [
      "(1, 2, 3, 4, 5, 6, 7)\n"
     ]
    }
   ],
   "source": [
    "#Example: 4\n",
    "\n",
    "t=(1,2,3)\n",
    "t1=(4,5,6,7)\n",
    "print(t+t1)"
   ]
  },
  {
   "cell_type": "markdown",
   "metadata": {},
   "source": [
    "     2. Subtaction: ( - )\n",
    "\n",
    "        used find the difference btw 2 operands\n",
    "        takes and gives single value datatypes\n",
    "      "
   ]
  },
  {
   "cell_type": "code",
   "execution_count": 21,
   "metadata": {},
   "outputs": [
    {
     "name": "stdout",
     "output_type": "stream",
     "text": [
      "-8\n",
      "-35.644999999999996\n",
      "(-42-87j)\n",
      "-9\n",
      "(33+87j)\n"
     ]
    }
   ],
   "source": [
    "#Example: 1\n",
    "\n",
    "n1=12\n",
    "n2=20\n",
    "n3=27.645\n",
    "n4=34+87j\n",
    "n5=True\n",
    "print(n1-n2)\n",
    "print(n1-n2-n3)\n",
    "print(n1-n2-n4)\n",
    "print(n1-n2-n5)\n",
    "print(n4-n5)\n"
   ]
  },
  {
   "cell_type": "markdown",
   "metadata": {},
   "source": [
    "    3. Multiplication : ( * )\n",
    "        used to find the product of the operands ----- 2 ways\n",
    "        a. Product\n",
    "        b. Increasing the memory\n"
   ]
  },
  {
   "cell_type": "markdown",
   "metadata": {},
   "source": [
    "$ product:\n",
    "\n",
    "supports(int, float, complex, boolean)\n",
    "\n",
    "\n"
   ]
  },
  {
   "cell_type": "code",
   "execution_count": 3,
   "metadata": {},
   "outputs": [
    {
     "name": "stdout",
     "output_type": "stream",
     "text": [
      "(258363.6+44932.8j)\n",
      "11233.2\n",
      "(258363.6+44932.8j)\n",
      "(23+4j)\n",
      "345\n",
      "0j\n",
      "0.0\n",
      "0\n"
     ]
    }
   ],
   "source": [
    "#Example: 1\n",
    "\n",
    "a=345\n",
    "b=32.56\n",
    "c=23+4j\n",
    "d=True\n",
    "e=False\n",
    "print(a*b*c*d) \n",
    "print(a*b)\n",
    "print(a*b*c)\n",
    "print(d*c)\n",
    "print(a*d)\n",
    "print(a*b*c*d*e)\n",
    "print(a*b*d*e)\n",
    "print(a*d*e)\n"
   ]
  },
  {
   "cell_type": "markdown",
   "metadata": {},
   "source": [
    "$ Increasing the memory :\n",
    "\n",
    "    [str -str]\n",
    "    [list -list]\n",
    "    [tuple -tuple]\n",
    "    does not supports dictionary \n"
   ]
  },
  {
   "cell_type": "code",
   "execution_count": 4,
   "metadata": {},
   "outputs": [
    {
     "name": "stdout",
     "output_type": "stream",
     "text": [
      "rajurajurajuraju\n"
     ]
    }
   ],
   "source": [
    "#Example: 2\n",
    "\n",
    "n=\"raju\"\n",
    "print(n*4)\n",
    "\n"
   ]
  },
  {
   "cell_type": "code",
   "execution_count": 5,
   "metadata": {},
   "outputs": [
    {
     "name": "stdout",
     "output_type": "stream",
     "text": [
      "[1, 2, 3, 4, 5, 1, 2, 3, 4, 5, 1, 2, 3, 4, 5]\n"
     ]
    }
   ],
   "source": [
    "#Example: 3\n",
    "\n",
    "l=[1,2,3,4,5]\n",
    "print(l*3)"
   ]
  },
  {
   "cell_type": "code",
   "execution_count": 6,
   "metadata": {},
   "outputs": [
    {
     "name": "stdout",
     "output_type": "stream",
     "text": [
      "(1, 2, 3, 4, 5, 6, 7, 1, 2, 3, 4, 5, 6, 7, 1, 2, 3, 4, 5, 6, 7)\n"
     ]
    }
   ],
   "source": [
    "#Example: 4\n",
    "\n",
    "t=(1,2,3,4,5,6,7)\n",
    "print(t*3)"
   ]
  },
  {
   "cell_type": "code",
   "execution_count": 7,
   "metadata": {},
   "outputs": [
    {
     "ename": "TypeError",
     "evalue": "unsupported operand type(s) for *: 'dict' and 'int'",
     "output_type": "error",
     "traceback": [
      "\u001b[1;31m---------------------------------------------------------------------------\u001b[0m",
      "\u001b[1;31mTypeError\u001b[0m                                 Traceback (most recent call last)",
      "Cell \u001b[1;32mIn[7], line 4\u001b[0m\n\u001b[0;32m      1\u001b[0m \u001b[38;5;66;03m#Example: 5\u001b[39;00m\n\u001b[0;32m      3\u001b[0m d\u001b[38;5;241m=\u001b[39m{\u001b[38;5;241m1\u001b[39m:\u001b[38;5;124m\"\u001b[39m\u001b[38;5;124mtree\u001b[39m\u001b[38;5;124m\"\u001b[39m,\u001b[38;5;241m2\u001b[39m:\u001b[38;5;241m34\u001b[39m}\n\u001b[1;32m----> 4\u001b[0m \u001b[38;5;28mprint\u001b[39m(\u001b[43md\u001b[49m\u001b[38;5;241;43m*\u001b[39;49m\u001b[38;5;241;43m3\u001b[39;49m)\n",
      "\u001b[1;31mTypeError\u001b[0m: unsupported operand type(s) for *: 'dict' and 'int'"
     ]
    }
   ],
   "source": [
    "#Example: 5\n",
    "\n",
    "d={1:\"tree\",2:34}\n",
    "print(d*3)"
   ]
  },
  {
   "cell_type": "markdown",
   "metadata": {},
   "source": [
    "    4. Division: ( / )\n",
    "\n",
    "          DT supports : [ int, float, Boolean, complex ]\n",
    "\n",
    "        It gives the quotent value as result between 2 operands, they both should have to be DT 'int' then result will be of 'float' DT. \n",
    "\n",
    "        NOTE: int/int ---> float"
   ]
  },
  {
   "cell_type": "code",
   "execution_count": 12,
   "metadata": {},
   "outputs": [
    {
     "name": "stdout",
     "output_type": "stream",
     "text": [
      "1.7636684303350971\n",
      "0.567\n",
      "(0.23500000000000001+0.7j)\n",
      "0.0\n",
      "(1.175+3.5j)\n"
     ]
    },
    {
     "ename": "ZeroDivisionError",
     "evalue": "complex division by zero",
     "output_type": "error",
     "traceback": [
      "\u001b[1;31m---------------------------------------------------------------------------\u001b[0m",
      "\u001b[1;31mZeroDivisionError\u001b[0m                         Traceback (most recent call last)",
      "Cell \u001b[1;32mIn[12], line 13\u001b[0m\n\u001b[0;32m     11\u001b[0m \u001b[38;5;28mprint\u001b[39m(d\u001b[38;5;241m/\u001b[39ma)\n\u001b[0;32m     12\u001b[0m \u001b[38;5;28mprint\u001b[39m(c\u001b[38;5;241m/\u001b[39m\u001b[38;5;241m2\u001b[39m)\n\u001b[1;32m---> 13\u001b[0m \u001b[38;5;28mprint\u001b[39m(\u001b[43mc\u001b[49m\u001b[38;5;241;43m/\u001b[39;49m\u001b[43md\u001b[49m)\n",
      "\u001b[1;31mZeroDivisionError\u001b[0m: complex division by zero"
     ]
    }
   ],
   "source": [
    "#Example: 1\n",
    "\n",
    "a=10\n",
    "b=5.67\n",
    "c=2.35+7j\n",
    "d=False\n",
    "e=True\n",
    "print(a/b)\n",
    "print(b/a)\n",
    "print(c/a)\n",
    "print(d/a)\n",
    "print(c/2)\n",
    "print(c/d)\n",
    "\n"
   ]
  },
  {
   "cell_type": "markdown",
   "metadata": {},
   "source": [
    "    5. Floor Division : ( // )\n",
    "         \n",
    "        DT supports : [ int, float]\n",
    "\n",
    "    NOTE : int/int ----> int"
   ]
  },
  {
   "cell_type": "code",
   "execution_count": 16,
   "metadata": {},
   "outputs": [
    {
     "name": "stdout",
     "output_type": "stream",
     "text": [
      "5.0\n",
      "5\n",
      "4.0\n"
     ]
    }
   ],
   "source": [
    "#Example: 1\n",
    "\n",
    "n=10\n",
    "n1=2\n",
    "n3=15.5\n",
    "n4=3.5\n",
    "print(n/n1)\n",
    "print(n//n1)\n",
    "print(n3//n4)"
   ]
  },
  {
   "cell_type": "markdown",
   "metadata": {},
   "source": [
    "    6. Modulus :\n",
    "\n",
    "        It is used to find reminder between given operands.\n",
    "\n",
    "    Working principal : numarator < Denominator----> numarator\n",
    "\n",
    "    Ex: 0%2--->0\n",
    "        1%2--->1\n",
    "        1%10-->1\n",
    "        5%10-->5"
   ]
  },
  {
   "cell_type": "code",
   "execution_count": 17,
   "metadata": {},
   "outputs": [
    {
     "name": "stdout",
     "output_type": "stream",
     "text": [
      "1\n"
     ]
    }
   ],
   "source": [
    "#Example: 1\n",
    "\n",
    "n1=10\n",
    "n2=3\n",
    "print(n1%n2)"
   ]
  },
  {
   "cell_type": "code",
   "execution_count": 19,
   "metadata": {},
   "outputs": [
    {
     "name": "stdout",
     "output_type": "stream",
     "text": [
      "23.5\n"
     ]
    },
    {
     "ename": "TypeError",
     "evalue": "unsupported operand type(s) for %: 'complex' and 'float'",
     "output_type": "error",
     "traceback": [
      "\u001b[1;31m---------------------------------------------------------------------------\u001b[0m",
      "\u001b[1;31mTypeError\u001b[0m                                 Traceback (most recent call last)",
      "Cell \u001b[1;32mIn[19], line 7\u001b[0m\n\u001b[0;32m      5\u001b[0m p\u001b[38;5;241m=\u001b[39m\u001b[38;5;241m4\u001b[39m\u001b[38;5;241m+\u001b[39m\u001b[38;5;241m7\u001b[39mj\n\u001b[0;32m      6\u001b[0m \u001b[38;5;28mprint\u001b[39m(n\u001b[38;5;241m%\u001b[39mm)\n\u001b[1;32m----> 7\u001b[0m \u001b[38;5;28mprint\u001b[39m(\u001b[43mp\u001b[49m\u001b[38;5;241;43m%\u001b[39;49m\u001b[43mn\u001b[49m)\n",
      "\u001b[1;31mTypeError\u001b[0m: unsupported operand type(s) for %: 'complex' and 'float'"
     ]
    }
   ],
   "source": [
    "#Example: 2\n",
    "\n",
    "n=23.5\n",
    "m=45\n",
    "p=4+7j\n",
    "print(n%m)\n",
    "print(p%n)"
   ]
  },
  {
   "cell_type": "markdown",
   "metadata": {},
   "source": [
    "    7. Power ( ** ):\n",
    "\n",
    "        It is used to find power between 2 operands\n",
    "        "
   ]
  },
  {
   "cell_type": "code",
   "execution_count": 20,
   "metadata": {},
   "outputs": [
    {
     "name": "stdout",
     "output_type": "stream",
     "text": [
      "100\n"
     ]
    }
   ],
   "source": [
    "#Example: 1\n",
    "\n",
    "n=10\n",
    "v=2\n",
    "print(n**v)"
   ]
  },
  {
   "cell_type": "code",
   "execution_count": 21,
   "metadata": {},
   "outputs": [
    {
     "name": "stdout",
     "output_type": "stream",
     "text": [
      "625\n"
     ]
    }
   ],
   "source": [
    "#Example: 2\n",
    "\n",
    "v=5\n",
    "n=4\n",
    "print(v**n)"
   ]
  }
 ],
 "metadata": {
  "kernelspec": {
   "display_name": "Python 3",
   "language": "python",
   "name": "python3"
  },
  "language_info": {
   "codemirror_mode": {
    "name": "ipython",
    "version": 3
   },
   "file_extension": ".py",
   "mimetype": "text/x-python",
   "name": "python",
   "nbconvert_exporter": "python",
   "pygments_lexer": "ipython3",
   "version": "3.12.2"
  }
 },
 "nbformat": 4,
 "nbformat_minor": 2
}
