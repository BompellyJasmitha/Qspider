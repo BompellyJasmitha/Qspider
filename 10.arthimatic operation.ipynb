{
 "cells": [
  {
   "cell_type": "markdown",
   "metadata": {},
   "source": [
    "# Expression's :\n",
    "    expression = 9 + 1\n",
    "    where 9 & 1 is OPERANDS (data:1,2.5,\"apple\",..)\n",
    "            + is OPERATOR (symbol: +, -, //, /, %,...)\n",
    "\n",
    "Expression is a combination of data / (OPERANDS)  & symbols / (OPERATORS) which produces the desire results."
   ]
  },
  {
   "cell_type": "markdown",
   "metadata": {},
   "source": [
    "    1. Arthimatic Operators (+,-,*,/,//,%,**)\n",
    "    2. Relational Operators (<,>,<=,>=)\n",
    "    3. Comparision Operators  (==,!=)\n",
    "    4. Logical Operators (and ,or,not)\n",
    "    5. Assignment Operators(+=,-=,*=,/=,//=,**=,%=)\n",
    "    6. Bitwise Operators(&,|,~,>>,<<,^)\n",
    "    7. Member ship Operators (in,notin)\n",
    "    8. Identity Operators (is,isnot)"
   ]
  },
  {
   "cell_type": "markdown",
   "metadata": {},
   "source": [
    "# ARTHIMATIC OPERATORS :"
   ]
  },
  {
   "cell_type": "markdown",
   "metadata": {},
   "source": [
    "    1. PLUS ( + ) : 2 ways \n",
    "\n",
    "        Addition : [ int, float, complex, bool]  // for single value datatype\n",
    "        Concatination : [ OPD1 + OPD2 -----> OPD1OPD2 ] // multi value datatype\n",
    "                        [ str1 + str2 -----> str1str2 ]\n",
    "                        [ list1 +list2-----> list1list2]\n",
    "                        [tuple1 + tuple2---> tuple1tuple2]"
   ]
  },
  {
   "cell_type": "markdown",
   "metadata": {},
   "source": [
    "\n",
    "$ Addition: \n",
    "\n",
    "when 2 operand are single value datatypes (int, float, bool, complex) addition is carryed out by simple additon of SVDT . "
   ]
  },
  {
   "cell_type": "code",
   "execution_count": 3,
   "metadata": {},
   "outputs": [
    {
     "name": "stdout",
     "output_type": "stream",
     "text": [
      "32\n",
      "32\n"
     ]
    }
   ],
   "source": [
    "#Example: 1\n",
    "\n",
    "a=10\n",
    "b=22\n",
    "sum=a+b\n",
    "print(sum)\n",
    "print(a+b)"
   ]
  },
  {
   "cell_type": "code",
   "execution_count": 6,
   "metadata": {},
   "outputs": [
    {
     "name": "stdout",
     "output_type": "stream",
     "text": [
      "13.3\n",
      "18.64\n",
      "17.64\n"
     ]
    }
   ],
   "source": [
    "#Example: 2\n",
    "\n",
    "a=True\n",
    "b=12.3\n",
    "c=5.34\n",
    "print(a+b)\n",
    "print(a+b+c)\n",
    "print(b+c)\n",
    "\n"
   ]
  },
  {
   "cell_type": "code",
   "execution_count": 7,
   "metadata": {},
   "outputs": [
    {
     "name": "stdout",
     "output_type": "stream",
     "text": [
      "(32.3+12j)\n",
      "(7+12j)\n",
      "(29.3+7j)\n",
      "(28.3+5j)\n"
     ]
    }
   ],
   "source": [
    "#Example: 3\n",
    "\n",
    "a=1\n",
    "b=3+5j\n",
    "c=4+7j\n",
    "d=25.3\n",
    "\n",
    "print(a+b+c+d)\n",
    "print(a+b+c)\n",
    "print(c+d)\n",
    "print(a+b+d)"
   ]
  },
  {
   "cell_type": "code",
   "execution_count": 15,
   "metadata": {},
   "outputs": [
    {
     "name": "stdout",
     "output_type": "stream",
     "text": [
      "2\n",
      "(23.45+83j)\n",
      "2\n",
      "(21.45+83j)\n"
     ]
    }
   ],
   "source": [
    "#Example: 4\n",
    "\n",
    "a=True\n",
    "b=False\n",
    "g=True\n",
    "c=12\n",
    "d=2.45\n",
    "e=3+5j\n",
    "f=4+78j\n",
    "print(a+b+g)\n",
    "print(a+b+c+d+e+f+g)\n",
    "print(a+b+g)\n",
    "print(c+d+e+f)\n"
   ]
  },
  {
   "cell_type": "markdown",
   "metadata": {},
   "source": [
    "$ Concatination : (merging)\n",
    "\n",
    "In concatination the operands used should be of same datatype."
   ]
  },
  {
   "cell_type": "code",
   "execution_count": 16,
   "metadata": {},
   "outputs": [
    {
     "name": "stdout",
     "output_type": "stream",
     "text": [
      "pythonprogramming\n",
      "programmingpython\n"
     ]
    }
   ],
   "source": [
    "#Example: 1\n",
    "\n",
    "s=\"python\"\n",
    "t=\"programming\"\n",
    "print(s+t)\n",
    "merge=t+s\n",
    "print(merge)"
   ]
  },
  {
   "cell_type": "code",
   "execution_count": 17,
   "metadata": {},
   "outputs": [
    {
     "ename": "TypeError",
     "evalue": "can only concatenate str (not \"int\") to str",
     "output_type": "error",
     "traceback": [
      "\u001b[1;31m---------------------------------------------------------------------------\u001b[0m",
      "\u001b[1;31mTypeError\u001b[0m                                 Traceback (most recent call last)",
      "Cell \u001b[1;32mIn[17], line 5\u001b[0m\n\u001b[0;32m      3\u001b[0m s\u001b[38;5;241m=\u001b[39m\u001b[38;5;124m\"\u001b[39m\u001b[38;5;124mcat\u001b[39m\u001b[38;5;124m\"\u001b[39m\n\u001b[0;32m      4\u001b[0m t\u001b[38;5;241m=\u001b[39m\u001b[38;5;241m20\u001b[39m\n\u001b[1;32m----> 5\u001b[0m \u001b[38;5;28mprint\u001b[39m(\u001b[43ms\u001b[49m\u001b[38;5;241;43m+\u001b[39;49m\u001b[43mt\u001b[49m)\n",
      "\u001b[1;31mTypeError\u001b[0m: can only concatenate str (not \"int\") to str"
     ]
    }
   ],
   "source": [
    "#Example: 2\n",
    "\n",
    "s=\"cat\"\n",
    "t=20\n",
    "print(s+t) #ERROR"
   ]
  },
  {
   "cell_type": "code",
   "execution_count": 18,
   "metadata": {},
   "outputs": [
    {
     "name": "stdout",
     "output_type": "stream",
     "text": [
      "[1, 2, 3, 4, 5, 6]\n"
     ]
    }
   ],
   "source": [
    "#Example: 3\n",
    "\n",
    "l=[1,2,3]\n",
    "l1=[4,5,6]\n",
    "print(l+l1)\n"
   ]
  },
  {
   "cell_type": "code",
   "execution_count": 19,
   "metadata": {},
   "outputs": [
    {
     "name": "stdout",
     "output_type": "stream",
     "text": [
      "(1, 2, 3, 4, 5, 6, 7)\n"
     ]
    }
   ],
   "source": [
    "#Example: 4\n",
    "\n",
    "t=(1,2,3)\n",
    "t1=(4,5,6,7)\n",
    "print(t+t1)"
   ]
  },
  {
   "cell_type": "markdown",
   "metadata": {},
   "source": [
    "     2. Subtaction: ( - )\n",
    "\n",
    "        used find the difference btw 2 operands\n",
    "        takes and gives single value datatypes\n",
    "      "
   ]
  },
  {
   "cell_type": "code",
   "execution_count": 21,
   "metadata": {},
   "outputs": [
    {
     "name": "stdout",
     "output_type": "stream",
     "text": [
      "-8\n",
      "-35.644999999999996\n",
      "(-42-87j)\n",
      "-9\n",
      "(33+87j)\n"
     ]
    }
   ],
   "source": [
    "#Example: 1\n",
    "\n",
    "n1=12\n",
    "n2=20\n",
    "n3=27.645\n",
    "n4=34+87j\n",
    "n5=True\n",
    "print(n1-n2)\n",
    "print(n1-n2-n3)\n",
    "print(n1-n2-n4)\n",
    "print(n1-n2-n5)\n",
    "print(n4-n5)\n"
   ]
  },
  {
   "cell_type": "markdown",
   "metadata": {},
   "source": [
    "    3. Multiplication : ( * )\n",
    "        used to find the product of the operands ----- 2 ways\n",
    "        a. Product\n",
    "        b. Increasing the memory\n"
   ]
  },
  {
   "cell_type": "markdown",
   "metadata": {},
   "source": [
    "product:\n",
    "\n",
    "supports(int, float, complex, boolean)\n",
    "\n",
    "\n"
   ]
  },
  {
   "cell_type": "code",
   "execution_count": null,
   "metadata": {},
   "outputs": [],
   "source": [
    "#Example: 3\n"
   ]
  }
 ],
 "metadata": {
  "kernelspec": {
   "display_name": "Python 3",
   "language": "python",
   "name": "python3"
  },
  "language_info": {
   "codemirror_mode": {
    "name": "ipython",
    "version": 3
   },
   "file_extension": ".py",
   "mimetype": "text/x-python",
   "name": "python",
   "nbconvert_exporter": "python",
   "pygments_lexer": "ipython3",
   "version": "3.12.2"
  }
 },
 "nbformat": 4,
 "nbformat_minor": 2
}
