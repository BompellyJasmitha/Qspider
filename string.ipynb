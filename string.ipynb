{
 "cells": [
  {
   "cell_type": "markdown",
   "metadata": {},
   "source": [
    "LIST is represented ( [] & , )\n",
    "syn: varname=[obj1,obj2,....objn] or varname=[ obj1,obj2,obj3,\n",
    "                                               obj4,obj5.....\n",
    "                                               objn ]"
   ]
  },
  {
   "cell_type": "code",
   "execution_count": 3,
   "metadata": {},
   "outputs": [
    {
     "name": "stdout",
     "output_type": "stream",
     "text": [
      "[1, 23, 'dog', 'apple', 20.3, (2+3j)]\n"
     ]
    }
   ],
   "source": [
    "q=[1,23,\"dog\",\"apple\",20.3,2+3j]\n",
    "print(q)"
   ]
  },
  {
   "cell_type": "code",
   "execution_count": 11,
   "metadata": {},
   "outputs": [
    {
     "name": "stdout",
     "output_type": "stream",
     "text": [
      "h\n"
     ]
    }
   ],
   "source": [
    "st=\"hero\"\n",
    "print(st[0][0])"
   ]
  },
  {
   "cell_type": "code",
   "execution_count": 7,
   "metadata": {},
   "outputs": [
    {
     "name": "stdout",
     "output_type": "stream",
     "text": [
      "dog\n",
      "l\n"
     ]
    }
   ],
   "source": [
    "# list allows us to access a perticular element in the list using the index values.\n",
    "q=[1,23,\"dog\",\"apple\",20.3,2+3j]\n",
    "print(q[2])\n",
    "print(q[3][3])"
   ]
  }
 ],
 "metadata": {
  "kernelspec": {
   "display_name": "Python 3",
   "language": "python",
   "name": "python3"
  },
  "language_info": {
   "codemirror_mode": {
    "name": "ipython",
    "version": 3
   },
   "file_extension": ".py",
   "mimetype": "text/x-python",
   "name": "python",
   "nbconvert_exporter": "python",
   "pygments_lexer": "ipython3",
   "version": "3.12.2"
  }
 },
 "nbformat": 4,
 "nbformat_minor": 2
}
