{
 "cells": [
  {
   "cell_type": "markdown",
   "metadata": {},
   "source": [
    "# LIST : [ , ,  ....., ]\n",
    "\n",
    "syntax:\n",
    "\n",
    "        varname=[obj1,obj2,obj3, ...... ,objn]\n",
    "                 \n",
    "                    or\n",
    "        \n",
    "         varname=[obj1,obj2,obj3,...\n",
    "                  obj14,obj23.......\n",
    "                  objn]"
   ]
  },
  {
   "cell_type": "markdown",
   "metadata": {},
   "source": []
  },
  {
   "cell_type": "code",
   "execution_count": 1,
   "metadata": {},
   "outputs": [
    {
     "name": "stdout",
     "output_type": "stream",
     "text": [
      "<class 'list'>\n",
      "[1, 2, 3, 56, 765.0, 533]\n"
     ]
    }
   ],
   "source": [
    "# Ex:1\n",
    "k=[1,2,3,56,788.-23,533]\n",
    "print(type(k))\n",
    "print(k)"
   ]
  },
  {
   "cell_type": "code",
   "execution_count": 2,
   "metadata": {},
   "outputs": [
    {
     "name": "stdout",
     "output_type": "stream",
     "text": [
      "<class 'list'>\n",
      "[2, 3, 4, 5, 56, 78.8, 564545, 22234]\n"
     ]
    }
   ],
   "source": [
    "# Ex:2\n",
    "h=[2,3,4,5,\n",
    "   56,78.80,564545,\n",
    "   22234]\n",
    "print(type(h))\n",
    "print(h)"
   ]
  },
  {
   "cell_type": "code",
   "execution_count": 3,
   "metadata": {},
   "outputs": [
    {
     "name": "stdout",
     "output_type": "stream",
     "text": [
      "<class 'list'>\n",
      "['string', 'int', 23, -45, 35.909, (2-6j)]\n"
     ]
    }
   ],
   "source": [
    "# Ex:3\n",
    "d=[\"string\",'int',23,-45,35.9090,2-6j]\n",
    "print(type(d))\n",
    "print(d)"
   ]
  },
  {
   "cell_type": "markdown",
   "metadata": {},
   "source": [
    "List allows duplicate values :"
   ]
  },
  {
   "cell_type": "code",
   "execution_count": 4,
   "metadata": {},
   "outputs": [
    {
     "name": "stdout",
     "output_type": "stream",
     "text": [
      "[1, 3, 2, 222, 2, 2, 2, 2, 2, 45, 86, 86, 56, 34, 3, 1]\n"
     ]
    }
   ],
   "source": [
    "h=[1,3,2,222,2,2,2,2,2,45,86,86,56,34,3,1]\n",
    "print(h)"
   ]
  },
  {
   "cell_type": "markdown",
   "metadata": {},
   "source": [
    "List stores objects in sequence : "
   ]
  },
  {
   "cell_type": "code",
   "execution_count": 5,
   "metadata": {},
   "outputs": [
    {
     "name": "stdout",
     "output_type": "stream",
     "text": [
      "['rani', 'reya', 'mahima', 'pooja']\n"
     ]
    }
   ],
   "source": [
    "l1=[\"rani\",'reya','mahima',\"pooja\"]\n",
    "print(l1)"
   ]
  },
  {
   "cell_type": "markdown",
   "metadata": {},
   "source": [
    "# List supports indexing\n"
   ]
  },
  {
   "cell_type": "code",
   "execution_count": 7,
   "metadata": {},
   "outputs": [
    {
     "name": "stdout",
     "output_type": "stream",
     "text": [
      "1 5\n",
      "3\n",
      "5\n",
      "2\n"
     ]
    }
   ],
   "source": [
    "# Example : 1\n",
    "\n",
    "l=[1,2,3,4,5]\n",
    "print(l[0],l[-1])  # accessing single elements in a single row \n",
    "print(l[2])        # accessing single elements in a different row \n",
    "print(l[4])\n",
    "print(l[-4])"
   ]
  },
  {
   "cell_type": "code",
   "execution_count": 8,
   "metadata": {},
   "outputs": [
    {
     "name": "stdout",
     "output_type": "stream",
     "text": [
      "1\n",
      "raja\n",
      "r\n"
     ]
    }
   ],
   "source": [
    "# Example : 2     / l=[1,2,30,\"raja\"] / print:1,raja,r.\n",
    "\n",
    "l=[1,2,30,\"raja\"]\n",
    "print(l[0])\n",
    "print(l[-1])\n",
    "print(l[3][0])"
   ]
  },
  {
   "cell_type": "code",
   "execution_count": 9,
   "metadata": {},
   "outputs": [
    {
     "name": "stdout",
     "output_type": "stream",
     "text": [
      "o\n",
      "a\n",
      "a\n",
      "30\n",
      "raja\n",
      "hero\n"
     ]
    }
   ],
   "source": [
    "# Example : 3     / l=[\"raja\",30,\"hero\"] /print: o, a, 30, raja, hero. \n",
    "\n",
    "l=[\"raja\",30,\"hero\"]\n",
    "print(l[2][3])\n",
    "print(l[0][1]) #r-a-\n",
    "print(l[0][3]) #raj-a-\n",
    "print(l[1])\n",
    "print(l[0])\n",
    "print(l[2])"
   ]
  },
  {
   "cell_type": "code",
   "execution_count": 10,
   "metadata": {},
   "outputs": [
    {
     "name": "stdout",
     "output_type": "stream",
     "text": [
      "50\n",
      "coding\n",
      "tiger\n",
      "n\n",
      "d\n",
      "d\n",
      "m\n",
      "c\n",
      "b\n"
     ]
    }
   ],
   "source": [
    "# Example : 4  /l=[50,-200,\"tiger\",\"dream big\",\"coding\"] / print :50, coding, tiger, n, d, m, c, b.\n",
    "\n",
    "l=[50,-200,\"tiger\",\"dream big\",\"coding\"]\n",
    "print(l[0])\n",
    "print(l[4])\n",
    "print(l[2])\n",
    "print(l[4][4])\n",
    "print(l[3][0]) #-d-ream big\n",
    "print(l[4][2]) # co-d-ing\n",
    "print(l[3][4])\n",
    "print(l[4][0])\n",
    "print(l[3][6])"
   ]
  },
  {
   "cell_type": "code",
   "execution_count": 11,
   "metadata": {},
   "outputs": [
    {
     "name": "stdout",
     "output_type": "stream",
     "text": [
      "1\n",
      "3\n",
      "e\n",
      "o\n",
      "o\n",
      "d\n",
      "h\n",
      "n\n"
     ]
    }
   ],
   "source": [
    "# Example : 5  / l=[[1,2,3],\"hero\",\"don\"] /print :1, 3, e, o, d, h, n.\n",
    "\n",
    "l=[[1,2,3],\"hero\",\"don\"]\n",
    "print(l[0][0])\n",
    "print(l[0][2])\n",
    "print(l[1][1])\n",
    "print(l[1][3]) # her-o-\n",
    "print(l[2][1]) # d-o-n\n",
    "print(l[2][0])\n",
    "print(l[1][0])\n",
    "print(l[2][2])"
   ]
  },
  {
   "cell_type": "code",
   "execution_count": 13,
   "metadata": {},
   "outputs": [
    {
     "name": "stdout",
     "output_type": "stream",
     "text": [
      "jack\n",
      "jon\n",
      "donkey\n",
      "d\n",
      "e\n",
      "k\n",
      "a\n",
      "['jack', 'jon']\n"
     ]
    }
   ],
   "source": [
    "# Example : 6 / p=[[\"jack\",\"jon\"],\"donkey\"] / print: jack, jon, donkey, d, e, k, a, [\"jack,jon\"]\n",
    "\n",
    "p=[[\"jack\",\"jon\"],\"donkey\"]\n",
    "print(p[0][0])\n",
    "print(p[0][1])\n",
    "print(p[1])\n",
    "print(p[1][0])\n",
    "print(p[1][4])\n",
    "print(p[1][3])\n",
    "print(p[0][0][1])\n",
    "print(p[0])\n"
   ]
  },
  {
   "cell_type": "code",
   "execution_count": 21,
   "metadata": {},
   "outputs": [
    {
     "name": "stdout",
     "output_type": "stream",
     "text": [
      "r\n",
      "23\n",
      "1\n",
      "hero\n"
     ]
    }
   ],
   "source": [
    "# Example : 7 / r=[[1,[\"hero\",23]]] / print : r, 23, 1 ,hero\n",
    "\n",
    "r=[[1,[\"hero\",23]]]\n",
    "print(r[0][1][0][2])\n",
    "print(r[0][1][1])\n",
    "print(r[0][0])\n",
    "print(r[0][1][0])"
   ]
  },
  {
   "cell_type": "markdown",
   "metadata": {},
   "source": [
    "# List is a  MUTABLE  object\n",
    "\n",
    "values stored in the list can be modified "
   ]
  },
  {
   "cell_type": "code",
   "execution_count": 23,
   "metadata": {},
   "outputs": [
    {
     "name": "stdout",
     "output_type": "stream",
     "text": [
      "Before modification : [2]\n",
      "After the modification ; [150]\n"
     ]
    }
   ],
   "source": [
    "# Example : 1\n",
    "d=[2]\n",
    "print(\"Before modification :\",d)\n",
    "d[0]=150\n",
    "print(\"After the modification ;\",d)"
   ]
  },
  {
   "cell_type": "code",
   "execution_count": 22,
   "metadata": {},
   "outputs": [
    {
     "name": "stdout",
     "output_type": "stream",
     "text": [
      "Before modification : [100, 200, 300, 400, 500]\n",
      "After the modification ; [150, 200, 300, 400, 500]\n"
     ]
    }
   ],
   "source": [
    "# Example : 2\n",
    "l=[100,200,300,400,500]\n",
    "print(\"Before modification :\",l)\n",
    "l[0]=150\n",
    "print(\"After the modification ;\",l)"
   ]
  },
  {
   "cell_type": "markdown",
   "metadata": {},
   "source": [
    "in list entier character can be changed       \n",
    "in list single element in a character  cant be changed"
   ]
  },
  {
   "cell_type": "code",
   "execution_count": 24,
   "metadata": {},
   "outputs": [
    {
     "name": "stdout",
     "output_type": "stream",
     "text": [
      "['raja']\n"
     ]
    },
    {
     "ename": "TypeError",
     "evalue": "'str' object does not support item assignment",
     "output_type": "error",
     "traceback": [
      "\u001b[1;31m---------------------------------------------------------------------------\u001b[0m",
      "\u001b[1;31mTypeError\u001b[0m                                 Traceback (most recent call last)",
      "Cell \u001b[1;32mIn[24], line 5\u001b[0m\n\u001b[0;32m      3\u001b[0m j\u001b[38;5;241m=\u001b[39m[\u001b[38;5;124m\"\u001b[39m\u001b[38;5;124mraja\u001b[39m\u001b[38;5;124m\"\u001b[39m]\n\u001b[0;32m      4\u001b[0m \u001b[38;5;28mprint\u001b[39m(j)\n\u001b[1;32m----> 5\u001b[0m \u001b[43mj\u001b[49m\u001b[43m[\u001b[49m\u001b[38;5;241;43m0\u001b[39;49m\u001b[43m]\u001b[49m\u001b[43m[\u001b[49m\u001b[38;5;241;43m0\u001b[39;49m\u001b[43m]\u001b[49m\u001b[38;5;241m=\u001b[39m\u001b[38;5;124m'\u001b[39m\u001b[38;5;124mk\u001b[39m\u001b[38;5;124m'\u001b[39m\n",
      "\u001b[1;31mTypeError\u001b[0m: 'str' object does not support item assignment"
     ]
    }
   ],
   "source": [
    "# Example : 3\n",
    "\n",
    "j=[\"raja\"]\n",
    "print(j)\n",
    "j[0]=\"ramu\"   # raja--->ramu\n",
    "j[0][0]='k'   # raja--->kaja---->ERROR MESSAGE\n"
   ]
  }
 ],
 "metadata": {
  "kernelspec": {
   "display_name": "Python 3",
   "language": "python",
   "name": "python3"
  },
  "language_info": {
   "codemirror_mode": {
    "name": "ipython",
    "version": 3
   },
   "file_extension": ".py",
   "mimetype": "text/x-python",
   "name": "python",
   "nbconvert_exporter": "python",
   "pygments_lexer": "ipython3",
   "version": "3.12.2"
  }
 },
 "nbformat": 4,
 "nbformat_minor": 2
}
