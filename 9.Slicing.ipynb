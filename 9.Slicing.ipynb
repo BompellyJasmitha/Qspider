{
 "cells": [
  {
   "cell_type": "markdown",
   "metadata": {},
   "source": [
    "# Slicing\n",
    "\n",
    "~ process of retrieving / reading multiple elements from the given collection \n",
    "\n",
    "~ type of result will be same type as collection \n",
    "\n",
    "~ Slicing is used to print/ store the values\n",
    "\n",
    "    syntax: varname[starindex : endindex : updation]\n",
    "\n",
    "~ (Start index) value to (End index -1) value are printed as result\n",
    "\n",
    "~ Never get's error in slicing \n",
    "    "
   ]
  },
  {
   "cell_type": "markdown",
   "metadata": {},
   "source": [
    "# To do slicing we need to follow 3 rules for both +ve & -ve updation :\n",
    "\n",
    "1. check the start index(SI)\n",
    "2. if start inex is empty , SI value depends on updation value\n",
    "\n",
    "        if updation value is +ve then SI will starts from 1st value from left i.e.,(0: index)\n",
    "\n",
    "        if updation values is -ve then SI will starts from the 1st value from right i.e.,(-1:index)\n",
    "\n",
    "2. check in which direction curser have to move \n",
    "\n",
    "        if +ve move --------> direction\n",
    "\n",
    "        if -ve move <-------- direction\n",
    "        \n",
    "3. if end index(EI) is with in the direction ,then values  between SI & EI are printed \n",
    "4. if end index is in opposite direction ,as no values are present between SI & EI Empty space is printed"
   ]
  },
  {
   "cell_type": "code",
   "execution_count": 9,
   "metadata": {},
   "outputs": [
    {
     "name": "stdout",
     "output_type": "stream",
     "text": [
      "pyt\n",
      "pyt\n",
      "pyt\n",
      "pyt\n",
      "ho\n",
      "ho\n",
      "pytho\n",
      "pytho\n",
      "pytho\n",
      "pyt\n",
      "pyt\n",
      "pyt\n"
     ]
    }
   ],
   "source": [
    "#Example: 1    default, update value is seated to +1\n",
    "\n",
    "s=\"python\"\n",
    "print(s[0:3:1])\n",
    "print(s[:3:1])\n",
    "print(s[0:3:]) \n",
    "print(s[:3:])\n",
    " \n",
    "print(s[3:5])\n",
    "print(s[3:5:])\n",
    "\n",
    "print(s[0:5])\n",
    "print(s[0:5:])\n",
    "print(s[:5:])\n",
    "\n",
    "print(s[0:3])\n",
    "print(s[0:3:])\n",
    "print(s[:3:])\n",
    "\n",
    "\n"
   ]
  },
  {
   "cell_type": "code",
   "execution_count": 10,
   "metadata": {},
   "outputs": [
    {
     "name": "stdout",
     "output_type": "stream",
     "text": [
      "im a de\n",
      "\n",
      "a deve\n",
      " de\n",
      "eveloper\n",
      " a d\n",
      "m a \n"
     ]
    }
   ],
   "source": [
    "#Example:2\n",
    "\n",
    "s=\"im a developer\"\n",
    "print(s[:7])\n",
    "print(s[6:2])\n",
    "print(s[3:9])\n",
    "print(s[4:7])\n",
    "print(s[6:])\n",
    "print(s[2:6])\n",
    "print(s[1:5])\n"
   ]
  },
  {
   "cell_type": "code",
   "execution_count": 12,
   "metadata": {},
   "outputs": [
    {
     "name": "stdout",
     "output_type": "stream",
     "text": [
      "Ramanuj\n",
      "\n",
      "anujan\n",
      "nuj\n",
      "\n",
      "jan\n",
      "manu\n",
      "aman\n"
     ]
    }
   ],
   "source": [
    "#Example:3\n",
    "\n",
    "s=\"Ramanujan\"\n",
    "print(s[:7])\n",
    "print(s[6:2]) #space\n",
    "print(s[3:9])\n",
    "print(s[4:7])\n",
    "print(s[7:4]) #space\n",
    "print(s[6:])\n",
    "print(s[2:6])\n",
    "print(s[1:5])"
   ]
  },
  {
   "cell_type": "markdown",
   "metadata": {},
   "source": [
    "# Updation with a value \n",
    "\n",
    "updation value:2,3,......"
   ]
  },
  {
   "cell_type": "code",
   "execution_count": 13,
   "metadata": {},
   "outputs": [
    {
     "name": "stdout",
     "output_type": "stream",
     "text": [
      "pto\n"
     ]
    }
   ],
   "source": [
    "#Example:1\n",
    "\n",
    "st=\"python\"\n",
    "print(st[0:5:2])"
   ]
  },
  {
   "cell_type": "code",
   "execution_count": 14,
   "metadata": {},
   "outputs": [
    {
     "name": "stdout",
     "output_type": "stream",
     "text": [
      "Ra\n",
      "Raj\n",
      "aj\n",
      "un\n"
     ]
    }
   ],
   "source": [
    "#Example:2\n",
    "\n",
    "st=\"Ramanujan\"\n",
    "print(st[:4:3])\n",
    "print(st[:7:3])\n",
    "print(st[3::3])\n",
    "print(st[5::3])\n"
   ]
  },
  {
   "cell_type": "markdown",
   "metadata": {},
   "source": [
    "# Updation using -ve indexing "
   ]
  },
  {
   "cell_type": "code",
   "execution_count": 15,
   "metadata": {},
   "outputs": [
    {
     "name": "stdout",
     "output_type": "stream",
     "text": [
      "nohtyp\n",
      "nhy\n",
      "noht\n",
      "n\n"
     ]
    }
   ],
   "source": [
    "#EXampl: 1\n",
    "\n",
    "st=\"python\"\n",
    "print(st[::-1])\n",
    "print(st[::-2])\n",
    "print(st[5:-5:-1])\n",
    "print(st[:4:-1])\n",
    " "
   ]
  },
  {
   "cell_type": "markdown",
   "metadata": {},
   "source": [
    "# List with +ve & -ve indexing"
   ]
  },
  {
   "cell_type": "code",
   "execution_count": 16,
   "metadata": {},
   "outputs": [
    {
     "name": "stdout",
     "output_type": "stream",
     "text": [
      "[1, 2, 3]\n",
      "[]\n",
      "['raja', 'zero']\n",
      "[1, 2, 3, 100, 'raja', 'rani']\n",
      "aja\n",
      "orez\n",
      "['zero', 100, 1]\n",
      "['zero', 3]\n",
      "[]\n"
     ]
    }
   ],
   "source": [
    "l=[1,2,3,100,\"raja\",\"rani\",\"zero\"]\n",
    "print(l[0:3])\n",
    "print(l[4:3])\n",
    "print(l[4::2])\n",
    "print(l[0:-1])\n",
    "print(l[4][1:])\n",
    "print(l[6][::-1])\n",
    "print(l[::-3])\n",
    "print(l[99::-4])\n",
    "print(l[6:-1:])\n"
   ]
  },
  {
   "cell_type": "markdown",
   "metadata": {},
   "source": [
    "# Dictionary Example"
   ]
  },
  {
   "cell_type": "code",
   "execution_count": 28,
   "metadata": {},
   "outputs": [
    {
     "name": "stdout",
     "output_type": "stream",
     "text": [
      "1\n",
      "10\n",
      "10\n",
      "Ramarao\n",
      "schoo\n",
      "Narayana \n",
      "7\n"
     ]
    }
   ],
   "source": [
    "d={\"rollno\":1,1:'Ramarao',\"CGPA\":10,\"school\":'Narayana school',\"subjects\":7}\n",
    "print(d[\"rollno\"])\n",
    "\n",
    "print(d['CGPA'])\n",
    "print(d[\"CGPA\"])\n",
    "\n",
    "print(d[1])\n",
    "print(d[\"school\"][-6:-1:1])\n",
    "print(d[\"school\"][0:9:1])\n",
    "print(d[\"subjects\"])\n",
    "\n",
    "\n"
   ]
  },
  {
   "cell_type": "markdown",
   "metadata": {},
   "source": [
    "# Practice Examples : (with combination of str, int, list, dict)"
   ]
  },
  {
   "cell_type": "code",
   "execution_count": 37,
   "metadata": {},
   "outputs": [
    {
     "name": "stdout",
     "output_type": "stream",
     "text": [
      "James franklin\n",
      "James\n",
      "frank\n",
      "[100, 200]\n",
      "mens\n",
      "23\n",
      "rat\n",
      "RCB\n",
      "BCR\n",
      "tar\n",
      "riv\n",
      "nosnem\n",
      "hit\n",
      "hor\n",
      "[200, 100]\n",
      "nilknarf\n",
      "['rohit', 200]\n",
      "['virat', 'RCB']\n",
      "['RCB', 'virat']\n"
     ]
    }
   ],
   "source": [
    "#Example: 1 \n",
    "\n",
    "\n",
    "# l=[\"James franklin\", [100,200,\"rohit\"],{\"name\":'meason',\"age\":23},\"virat\",\"RCB\"]\n",
    "\n",
    "# PRINT: \"James\" , \"frank\" ,[100,200] ,\"meas\" , 23, \"rat\", \"RCB\", \"BCR\", \"tar\", \"riv\", \"nosem\", \"hit\", \n",
    "#           [200,100] , nilknarf, [\"rohit\",200] ,[\"virat\", \"RCB\"], [\"RCB\",\"virat\"]\n",
    "\n",
    "\n",
    "l=[\"James franklin\", [100,200,\"rohit\"],{\"name\":'menson',\"age\":23},\"virat\",\"RCB\"]\n",
    "print(l[0])\n",
    "print(l[0][0:5:])\n",
    "print(l[0][6:11:])\n",
    "print(l[1][0:2:])\n",
    "print(l[2][\"name\"][0:4:1])\n",
    "print(l[2]['age'])\n",
    "print(l[3][2::])\n",
    "print(l[4])\n",
    "print(l[4][::-1])\n",
    "print(l[3][:-4:-1])\n",
    "print(l[3][2::-1])\n",
    "print(l[2][\"name\"][::-1])\n",
    "print(l[1][2][2::])\n",
    "print(l[1][2][2::-1])\n",
    "print(l[1][-2::-1])\n",
    "print(l[0][:5:-1])\n",
    "print(l[1][:0:-1])\n",
    "print(l[3::1])\n",
    "print(l[:2:-1])"
   ]
  },
  {
   "cell_type": "code",
   "execution_count": 42,
   "metadata": {},
   "outputs": [
    {
     "name": "stdout",
     "output_type": "stream",
     "text": [
      "oneplus\n",
      "Apple\n",
      "venu\n",
      "gopal\n",
      "Amaresh\n",
      "Anaconda\n",
      "elppA\n",
      "sulp\n",
      "['Apple', 'oneplus']\n",
      "Ana\n",
      "resh\n",
      "lap\n",
      "pp\n",
      "hse\n",
      "oneplusApple\n",
      "venuresh\n"
     ]
    }
   ],
   "source": [
    "# Example : 2\n",
    "# d={1:[\"oneplus\",\"Apple\"], 2:{\"name1\":\"venugopal\", \"name2\":\"Amaresh\"},\"a\":\"Anaconda\"} \n",
    "# PRINT : oneplus , Apple , venu ,gopal , Amaresh , Anaconda , elppA , sulp , [\"Apple\",\"onepluse\"],\n",
    "#               \"Ana\", resh , lap , pp, hse, \"onepluseApple\" ,\"Venuresh\" \n",
    "\n",
    "\n",
    "d={1:[\"oneplus\",\"Apple\"], 2:{\"name1\":\"venugopal\", \"name2\":\"Amaresh\"},\"a\":\"Anaconda\"} \n",
    "print(d[1][0])\n",
    "print(d[1][1])\n",
    "print(d[2][\"name1\"][0:4:1])\n",
    "print(d[2][\"name1\"][4::1])\n",
    "print(d[2][\"name2\"])\n",
    "print(d['a'])\n",
    "print(d[1][1][::-1])\n",
    "print(d[1][0][6:2:-1])\n",
    "print(d[1][::-1])\n",
    "print(d['a'][:3:])\n",
    "print(d[2][\"name2\"][-4::1])\n",
    "print(d[2][\"name1\"][:-4:-1])\n",
    "\n",
    "print(d[1][1][1:3:1])\n",
    "print(d[2][\"name2\"][6:3:-1])\n",
    "print(d[1][0]+d[1][1])\n",
    "print(d[2][\"name1\"][0:4:1]+d[2][\"name2\"][3::1])"
   ]
  }
 ],
 "metadata": {
  "kernelspec": {
   "display_name": "Python 3",
   "language": "python",
   "name": "python3"
  },
  "language_info": {
   "codemirror_mode": {
    "name": "ipython",
    "version": 3
   },
   "file_extension": ".py",
   "mimetype": "text/x-python",
   "name": "python",
   "nbconvert_exporter": "python",
   "pygments_lexer": "ipython3",
   "version": "3.12.2"
  }
 },
 "nbformat": 4,
 "nbformat_minor": 2
}
